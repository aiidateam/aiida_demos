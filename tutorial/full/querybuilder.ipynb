{
 "cells": [
  {
   "cell_type": "markdown",
   "metadata": {},
   "source": [
    "# AiiDA's QueryBuilder"
   ]
  },
  {
   "cell_type": "markdown",
   "metadata": {},
   "source": [
    "*Import statements - make sure to execute the cell below this one (it may be hidden)*"
   ]
  },
  {
   "cell_type": "code",
   "execution_count": 1,
   "metadata": {
    "collapsed": true,
    "hide_input": false
   },
   "outputs": [],
   "source": [
    "from datetime import datetime, timedelta\n",
    "from aiida import load_dbenv, is_dbenv_loaded\n",
    "if not is_dbenv_loaded():\n",
    "    load_dbenv()\n",
    "from aiida.orm import load_node, Node, Group, Computer, User\n",
    "from aiida.orm import CalculationFactory, DataFactory\n",
    "from aiida.orm.calculation.job import JobCalculation\n",
    "\n",
    "PwCalculation = CalculationFactory('quantumespresso.pw')\n",
    "StructureData = DataFactory('structure')\n",
    "KpointsData = DataFactory('array.kpoints')\n",
    "ParameterData = DataFactory('parameter')\n",
    "UpfData = DataFactory('upf')"
   ]
  },
  {
   "cell_type": "markdown",
   "metadata": {},
   "source": [
    "### 1. Introduction to the QueryBuilder\n",
    "As you will use `AiiDA` to run your calculations, the database that stores all the data and the provenance, will quickly grow to be very large. So in order to find a needle that we might be looking for in this big haystack, we need an efficient excavation and search tool. The tool that `AiiDA` provides to do exactly this is called the `QueryBuilder`. The `QueryBuilder` acts as the gatekeeper to your database, that you can ask questions about the contents of your database (also referred to as queries), by specifying what it is that you are looking for. In this part of the tutorial, we will focus on how to use the `QueryBuilder` to make these queries and understand/use the results.\n",
    "\n",
    "In order to use the `QueryBuilder`, we first need to import it. We can accomplish this by executing the `import` statement in the following cell. Go ahead and select the next cell, and press `Shift+Enter`."
   ]
  },
  {
   "cell_type": "code",
   "execution_count": 2,
   "metadata": {
    "collapsed": true
   },
   "outputs": [],
   "source": [
    "from aiida.orm.querybuilder import QueryBuilder"
   ]
  },
  {
   "cell_type": "markdown",
   "metadata": {},
   "source": [
    "Before we can ask the `QueryBuilder` questions about our database, we first need to create an instance of it:"
   ]
  },
  {
   "cell_type": "code",
   "execution_count": 3,
   "metadata": {
    "collapsed": true
   },
   "outputs": [],
   "source": [
    "qb = QueryBuilder()"
   ]
  },
  {
   "cell_type": "markdown",
   "metadata": {},
   "source": [
    "Now that we have an instance of our `QueryBuilder` which we named `qb`, we are ready to start asking it about the contents of our database. For example, we may want to know exactly how many nodes there are in our database. To tell `qb` that we are interested in all the occurrences of the `Node` class in our database, we `append` it to the list of objects it should find."
   ]
  },
  {
   "cell_type": "code",
   "execution_count": 4,
   "metadata": {},
   "outputs": [
    {
     "data": {
      "text/plain": [
       "<aiida.orm.querybuilder.QueryBuilder at 0x7f9c01ef2ed0>"
      ]
     },
     "execution_count": 4,
     "metadata": {},
     "output_type": "execute_result"
    }
   ],
   "source": [
    "qb.append(Node)"
   ]
  },
  {
   "cell_type": "markdown",
   "metadata": {},
   "source": [
    "We have now narrowed down the scope of `qb` to just the nodes that are present in our database. To learn how many nodes there are exactly, all we have to do is to ask `qb` to count them."
   ]
  },
  {
   "cell_type": "code",
   "execution_count": 5,
   "metadata": {},
   "outputs": [
    {
     "data": {
      "text/plain": [
       "320L"
      ]
     },
     "execution_count": 5,
     "metadata": {},
     "output_type": "execute_result"
    }
   ],
   "source": [
    "qb.count()"
   ]
  },
  {
   "cell_type": "markdown",
   "metadata": {},
   "source": [
    "Now as you may have learned in previous sections of the tutorial, nodes come in different kinds and flavors. For example, all our crystal structures that we have stored in the database, are saved in a node that is of the type `StructureData`. If instead of all the nodes, rather we would like to count only the structure nodes, we simply tell our `QueryBuilder` to narrow its scope to only objects of the `StructureData` type. Since we are creating a new query, we have to create a new instance of the `QueryBuilder`. In the next cell, we have typed part of the code to count all the structure nodes. See if you can finish the line with the comment, to tell the `QueryBuilder` that you are only interested in `StructureData` nodes."
   ]
  },
  {
   "cell_type": "code",
   "execution_count": 6,
   "metadata": {},
   "outputs": [
    {
     "data": {
      "text/plain": [
       "30L"
      ]
     },
     "execution_count": 6,
     "metadata": {},
     "output_type": "execute_result"
    }
   ],
   "source": [
    "qb = QueryBuilder()\n",
    "qb.append(StructureData) # How do we finish this line to tell the query builder to count only the structure nodes?\n",
    "qb.count()"
   ]
  },
  {
   "cell_type": "markdown",
   "metadata": {},
   "source": [
    "Instead of just counting how many structure nodes we have, we may also actually want to see some of them. This is as easy as telling our `QueryBuilder` that we are not interested in the `count` but rather that we want to retrieve `all` the nodes."
   ]
  },
  {
   "cell_type": "code",
   "execution_count": 7,
   "metadata": {},
   "outputs": [
    {
     "data": {
      "text/plain": [
       "[[<StructureData: uuid: d8a39f61-8275-449b-a73b-da9713bf5354 (pk: 19)>],\n",
       " [<StructureData: uuid: 85bc8662-8a6e-4da1-946f-de04bea4e04b (pk: 23)>],\n",
       " [<StructureData: uuid: 79cbf093-fbbe-4465-9be0-a641767bb0ea (pk: 26)>],\n",
       " [<StructureData: uuid: 3c905b00-a1f8-4461-83fc-69ed660dee6b (pk: 33)>],\n",
       " [<StructureData: uuid: fa2e5d45-b4ac-4760-aa90-c8f0f4064fe1 (pk: 48)>],\n",
       " [<StructureData: uuid: 30e4a3b9-fdad-4a17-851f-68234facb34f (pk: 58)>],\n",
       " [<StructureData: uuid: 7493134d-54cd-406b-b39d-4ef99535e19b (pk: 63)>],\n",
       " [<StructureData: uuid: cfbc8e77-ace1-4cba-8519-2080addbf3c5 (pk: 65)>],\n",
       " [<StructureData: uuid: de8b2cd2-ed88-43b7-a201-9ef5d3bba7d8 (pk: 69)>],\n",
       " [<StructureData: uuid: 7a44f26c-22f1-4f36-b9c5-6da1103c4207 (pk: 72)>],\n",
       " [<StructureData: uuid: 7dd160bf-362c-4a79-91a3-a424f72a6e03 (pk: 75)>],\n",
       " [<StructureData: uuid: 1c9cf841-966a-446e-a35f-c7d2cb1fa00d (pk: 90)>],\n",
       " [<StructureData: uuid: 6c68fdb8-1092-4a90-8778-808ae39df63f (pk: 94)>],\n",
       " [<StructureData: uuid: 2e57053b-c04e-47b1-8cec-0eab1d620c9a (pk: 106)>],\n",
       " [<StructureData: uuid: 40d220f7-b751-4953-a5b7-f0b20344d6b1 (pk: 110)>],\n",
       " [<StructureData: uuid: 0b28d487-3e16-4d4f-8061-f2353d1d2319 (pk: 112)>],\n",
       " [<StructureData: uuid: 74ed4d5e-9b08-460e-8acf-be036884e6e4 (pk: 137)>],\n",
       " [<StructureData: uuid: a4452dc6-a228-4108-8fed-7eef7322e26d (pk: 139)>],\n",
       " [<StructureData: uuid: 541b7de6-f21b-486e-9d91-6516093d5617 (pk: 148)>],\n",
       " [<StructureData: uuid: 9962cb35-d49d-486d-af31-fbf04636f4a5 (pk: 178)>],\n",
       " [<StructureData: uuid: 05f2fd43-bd44-4fd5-b36f-6b14bda607c3 (pk: 182)>],\n",
       " [<StructureData: uuid: ab29e6fa-9c06-4678-b10a-98ab0535adb8 (pk: 188)>],\n",
       " [<StructureData: uuid: 1fab2e4a-6c41-49da-8462-4af99fd2b348 (pk: 190)>],\n",
       " [<StructureData: uuid: 1eb79bb0-e51c-4b2d-9647-394978933e6f (pk: 194)>],\n",
       " [<StructureData: uuid: 5c413c48-9fa6-431b-964f-b38efe76e4ac (pk: 260)>],\n",
       " [<StructureData: uuid: 27823f18-8818-4c35-8e3c-f2631c6d76ae (pk: 270)>],\n",
       " [<StructureData: uuid: 7309ed6a-3789-425e-9903-f46d95d08935 (pk: 273)>],\n",
       " [<StructureData: uuid: abf59b39-6425-4648-aae1-70f6350f403e (pk: 279)>],\n",
       " [<StructureData: uuid: c2731f55-1798-44d5-9287-70edc16d5741 (pk: 313)>],\n",
       " [<StructureData: uuid: ac1f612c-2f27-4bc1-aa95-e33e02ebe5df (pk: 317)>]]"
      ]
     },
     "execution_count": 7,
     "metadata": {},
     "output_type": "execute_result"
    }
   ],
   "source": [
    "qb = QueryBuilder()\n",
    "qb.append(StructureData)\n",
    "qb.all()"
   ]
  },
  {
   "cell_type": "markdown",
   "metadata": {},
   "source": [
    "Note that this command is very literal and does in fact retrieve **all** the structure nodes that are stored in your database, which may become very slow if your database becomes very large. One solution is to simply tell the `QueryBuilder` that we are for example only interested in 5 structure nodes. This can be done with the `limit` method as follows:"
   ]
  },
  {
   "cell_type": "code",
   "execution_count": 8,
   "metadata": {},
   "outputs": [
    {
     "data": {
      "text/plain": [
       "[[<StructureData: uuid: d8a39f61-8275-449b-a73b-da9713bf5354 (pk: 19)>],\n",
       " [<StructureData: uuid: 85bc8662-8a6e-4da1-946f-de04bea4e04b (pk: 23)>],\n",
       " [<StructureData: uuid: 79cbf093-fbbe-4465-9be0-a641767bb0ea (pk: 26)>],\n",
       " [<StructureData: uuid: 3c905b00-a1f8-4461-83fc-69ed660dee6b (pk: 33)>],\n",
       " [<StructureData: uuid: fa2e5d45-b4ac-4760-aa90-c8f0f4064fe1 (pk: 48)>]]"
      ]
     },
     "execution_count": 8,
     "metadata": {},
     "output_type": "execute_result"
    }
   ],
   "source": [
    "qb = QueryBuilder()\n",
    "qb.append(StructureData)\n",
    "qb.limit(5)\n",
    "qb.all()"
   ]
  },
  {
   "cell_type": "markdown",
   "metadata": {},
   "source": [
    "Another option is to simply use the concept of array slicing, native to python, to specify a subset of the total return set to be returned"
   ]
  },
  {
   "cell_type": "code",
   "execution_count": 12,
   "metadata": {},
   "outputs": [
    {
     "data": {
      "text/plain": [
       "[[<StructureData: uuid: d8a39f61-8275-449b-a73b-da9713bf5354 (pk: 19)>],\n",
       " [<StructureData: uuid: 85bc8662-8a6e-4da1-946f-de04bea4e04b (pk: 23)>],\n",
       " [<StructureData: uuid: 79cbf093-fbbe-4465-9be0-a641767bb0ea (pk: 26)>],\n",
       " [<StructureData: uuid: 3c905b00-a1f8-4461-83fc-69ed660dee6b (pk: 33)>],\n",
       " [<StructureData: uuid: fa2e5d45-b4ac-4760-aa90-c8f0f4064fe1 (pk: 48)>],\n",
       " [<StructureData: uuid: 30e4a3b9-fdad-4a17-851f-68234facb34f (pk: 58)>],\n",
       " [<StructureData: uuid: 7493134d-54cd-406b-b39d-4ef99535e19b (pk: 63)>]]"
      ]
     },
     "execution_count": 12,
     "metadata": {},
     "output_type": "execute_result"
    }
   ],
   "source": [
    "qb.limit(None)\n",
    "qb.all()[:7]"
   ]
  },
  {
   "cell_type": "markdown",
   "metadata": {},
   "source": [
    "If we want to know a little bit more about the retrieved structure nodes, we can ask the `QueryBuilder` to return an iterator which we can then use in a straightforward `for`-loop. This allows one for example to print the formula of the structures"
   ]
  },
  {
   "cell_type": "code",
   "execution_count": 17,
   "metadata": {},
   "outputs": [
    {
     "name": "stdout",
     "output_type": "stream",
     "text": [
      "BaO3Ti\n",
      "BaO3Ti\n",
      "BaO3Ti\n",
      "BaO3Ti\n",
      "BaO3Ti\n"
     ]
    }
   ],
   "source": [
    "qb = QueryBuilder()\n",
    "qb.append(StructureData)\n",
    "qb.limit(5)\n",
    "for structure, in qb.iterall():\n",
    "    print structure.get_formula()"
   ]
  },
  {
   "cell_type": "markdown",
   "metadata": {},
   "source": [
    "This is just a simple example how we can employ the `QueryBuilder` to get details about the contents of our database. We have now seen simple queries for the `Node` and `StructureData` classes of nodes, but the same rules apply to all the `AiiDA` node classes. For example we may want to count the number of entries for each of the node classes in the following list"
   ]
  },
  {
   "cell_type": "code",
   "execution_count": 18,
   "metadata": {
    "collapsed": true
   },
   "outputs": [],
   "source": [
    "class_list = [Node, StructureData, KpointsData, ParameterData, UpfData]"
   ]
  },
  {
   "cell_type": "markdown",
   "metadata": {},
   "source": [
    "Using the tools we have learned so far, we can build a table of the number of occurrences of each of these node classes that are stored in our database. We simply loop over the `class_list` and create a `QueryBuilder` for each and count the entries."
   ]
  },
  {
   "cell_type": "code",
   "execution_count": 19,
   "metadata": {},
   "outputs": [
    {
     "name": "stdout",
     "output_type": "stream",
     "text": [
      "           Node |    320\n",
      "  StructureData |     30\n",
      "    KpointsData |      0\n",
      "  ParameterData |     90\n",
      "        UpfData |     79\n"
     ]
    }
   ],
   "source": [
    "for class_name in class_list:\n",
    "    qb = QueryBuilder()\n",
    "    qb.append(class_name)\n",
    "    print '{:>15} | {:6}'.format(class_name.__name__, qb.count())"
   ]
  },
  {
   "cell_type": "markdown",
   "metadata": {},
   "source": [
    "If all went well, you should see something like the following, where of course the numbers may differ for your database\n",
    "\n",
    "Class name     | Entries\n",
    "---------------|--------\n",
    " Node          | 10273 \n",
    " StructureData | 271   \n",
    " KpointsData   | 953   \n",
    " ParameterData | 2922  \n",
    " UpfData       | 85    "
   ]
  },
  {
   "cell_type": "markdown",
   "metadata": {},
   "source": [
    "### 2. Projection and filters\n",
    "Up till now we have always asked the `QueryBuilder` to return the entire node, of whatever class of nodes that we specified. However, we might not necessarily be interested in all the node's properties, but rather just a select set or even just a single property. We can tell the `QueryBuilder` which properties we would like returned, by asking it to **project** those properties in the result. For example, we may only want to get the uuid's of a set of nodes. "
   ]
  },
  {
   "cell_type": "code",
   "execution_count": 20,
   "metadata": {},
   "outputs": [
    {
     "data": {
      "text/plain": [
       "[[u'6220f6b9-1cfa-4ebc-ad79-aac46b48650d'],\n",
       " [u'6de1ab89-a7f0-4a36-b1b2-71e91c240f87'],\n",
       " [u'f4d608d3-59b7-43cd-b219-52a30baf8d51'],\n",
       " [u'0b6860d7-997d-4e9a-b3cb-50855c92f0d5'],\n",
       " [u'76617ab8-3359-41d1-8897-9832a0f11bd6']]"
      ]
     },
     "execution_count": 20,
     "metadata": {},
     "output_type": "execute_result"
    }
   ],
   "source": [
    "qb = QueryBuilder()\n",
    "qb.append(Node, project=['uuid'])\n",
    "qb.limit(5)\n",
    "qb.all()"
   ]
  },
  {
   "cell_type": "markdown",
   "metadata": {},
   "source": [
    "We inform the `QueryBuilder` that we are only interested in the `uuid` property of the `Node` class by specifing the `project` keyword in the `append` call. Note that the value that we assign to `project` is a list, as we may want to specify more than one property. See if you can get the `QueryBuilder` to return *both* the `id` and the `uuid` of the first 5 `Node`'s in the following cell."
   ]
  },
  {
   "cell_type": "code",
   "execution_count": 21,
   "metadata": {},
   "outputs": [
    {
     "data": {
      "text/plain": [
       "[[1, u'6220f6b9-1cfa-4ebc-ad79-aac46b48650d'],\n",
       " [2, u'6de1ab89-a7f0-4a36-b1b2-71e91c240f87'],\n",
       " [3, u'f4d608d3-59b7-43cd-b219-52a30baf8d51'],\n",
       " [4, u'0b6860d7-997d-4e9a-b3cb-50855c92f0d5'],\n",
       " [5, u'76617ab8-3359-41d1-8897-9832a0f11bd6']]"
      ]
     },
     "execution_count": 21,
     "metadata": {},
     "output_type": "execute_result"
    }
   ],
   "source": [
    "qb = QueryBuilder()\n",
    "qb.append(Node, project=['id', 'uuid'])#? What should the value be for the project key\n",
    "qb.limit(5)\n",
    "qb.all()"
   ]
  },
  {
   "cell_type": "markdown",
   "metadata": {},
   "source": [
    "To give you an idea of the various properties that you can project for some of the `AiiDA` node classes you can consult the following table.\n",
    "Note that this is by no means an exhaustive list\n",
    "\n",
    "Class    | Properties\n",
    "---------|-----------\n",
    "Node     | `id`, `uuid`, `type`, `label`, `description`, `ctime`, `mtime`\n",
    "Computer | `id`, `uuid`, `name`, `hostname`, `description`, `enabled`, `transport_type`, `scheduler_type`\n",
    "User     | `id`, `email`, `first_name`, `last_name`, `institution`\n",
    "Group    | `id`, `uuid`, `name`, `type`, `time`, `description`"
   ]
  },
  {
   "cell_type": "markdown",
   "metadata": {},
   "source": [
    "The same properties can also be used to *filter* for specific nodes in your database. Up till now, we only ever asked to return the `QueryBuilder` all the instances of a certain type of node, or at best a limited number of those. But we might be interested in a very specific node. For example, we may have the `id` of a certain node and we would like to know when it was created and last modified. We can tell the `QueryBuilder` to select nodes that only match that criterion, by telling it to **filter** based on that property."
   ]
  },
  {
   "cell_type": "code",
   "execution_count": 22,
   "metadata": {},
   "outputs": [
    {
     "data": {
      "text/plain": [
       "[[datetime.datetime(2014, 4, 1, 14, 50, 55, 236925, tzinfo=psycopg2.tz.FixedOffsetTimezone(offset=0, name=None)),\n",
       "  datetime.datetime(2017, 5, 12, 10, 45, 4, 851309, tzinfo=psycopg2.tz.FixedOffsetTimezone(offset=0, name=None))]]"
      ]
     },
     "execution_count": 22,
     "metadata": {},
     "output_type": "execute_result"
    }
   ],
   "source": [
    "qb = QueryBuilder()\n",
    "qb.append(Node, project=['ctime', 'mtime'], filters={'id': {'==': 1}})\n",
    "qb.all()"
   ]
  },
  {
   "cell_type": "markdown",
   "metadata": {},
   "source": [
    "Note the syntax of the `filters` keyword. The value is a dictionary, where the keys indicate the node property that it is supposed to operate on, in this case the `id` property. The value of that key is again itself a dictionary, where the key indicates the logical operator `==` and the value corresponds to the value of the property.\n",
    "\n",
    "You may have multiple criteria that you want to filter for, in which case you can use the logical `or` and `and` operators. Let's say, for example, that you want the `QueryBuilder` to retrieve all the `StructureData` nodes that have a certain `label` **and** where created no longer than 10 days ago. You can translate this criterion by making use of the `and` operator which allows you to specify multiple filters that all have to be satisfied."
   ]
  },
  {
   "cell_type": "code",
   "execution_count": 23,
   "metadata": {},
   "outputs": [
    {
     "data": {
      "text/plain": [
       "[]"
      ]
     },
     "execution_count": 23,
     "metadata": {},
     "output_type": "execute_result"
    }
   ],
   "source": [
    "qb = QueryBuilder()\n",
    "qb.append(\n",
    "    Node, \n",
    "    filters={\n",
    "        'and': [\n",
    "            {'ctime': {'>': datetime.now() - timedelta(days=12)}},\n",
    "            {'label': 'graphene'}\n",
    "        ]\n",
    "    }\n",
    ")\n",
    "qb.all()"
   ]
  },
  {
   "cell_type": "markdown",
   "metadata": {},
   "source": [
    "You will have noticed that the `>` operator, and its related operators, can work with python `datetime` objects. These are just a few of the operators that `QueryBuilder` understands. Below you find a table with the various logical operators that you can use\n",
    "\n",
    "Operator             | Data type             | Example                            | Description\n",
    "---------------------|-----------------------|------------------------------------|------------------\n",
    "`==`                 | all                   | `{'==': '12'}`                     | equality operator\n",
    "`in`                 | all                   | `{'in':['FINISHED', 'PARSING']}`   | member of a set\n",
    "`<`, `>`, `<=`, `>=` | float, int, datetime  | `{'>': 5.2}`                       | size comparison operator\n",
    "`like`               | char, str             | `{'like': 'calculation%'}`         | string comparison, `%` is wildcard\n",
    "`ilike`              | char, str             | `{'ilike': 'caLCulAtion%'}`        | string comparison, capital insensitive\n",
    "`or`                 |                       | `{'or': [{'<': 5.3}, {'>': 6.3}]}` | logical or operator\n",
    "`and`                |                       | `{'and': [{'>=': 2}, {'<=': 6}]}`  | logical and operator"
   ]
  },
  {
   "cell_type": "markdown",
   "metadata": {},
   "source": [
    "As an exercise, try to write a query below that will retrieve all `Group` nodes whose `name` property starts with the string `tutorial`."
   ]
  },
  {
   "cell_type": "code",
   "execution_count": 29,
   "metadata": {},
   "outputs": [
    {
     "data": {
      "text/plain": [
       "[]"
      ]
     },
     "execution_count": 29,
     "metadata": {},
     "output_type": "execute_result"
    }
   ],
   "source": [
    "# Write your query here\n",
    "qb = QueryBuilder()\n",
    "qb.append(Group, filters={'name': {'like': 'tutorial%'}})\n",
    "qb.limit(5)\n",
    "qb.all()"
   ]
  },
  {
   "cell_type": "markdown",
   "metadata": {},
   "source": [
    "### 3. Defining relationships between query clauses"
   ]
  },
  {
   "cell_type": "markdown",
   "metadata": {},
   "source": [
    "So far we have seen how we can use the `QueryBuilder` to search the database for entries of a specific node type, potentially projecting only specific properties and filtering for certain property values. However, our nodes do not live in a vacuum, but they are often related to one another. Especially, there will be interesting relationships between different types of nodes. Therefore we would like to be able to search for nodes, based on a certain relationship that they might have with other nodes. Consider for example that you have a `StructureData` node that was produced by some calculation. How would we be able to retrieve that calculation?\n",
    "\n",
    "To accomplish this, we need to be able to tell the `QueryBuilder` what the relationship is between the nodes that we are interested in. If we take the example of the structure node but abstracting it to all structure nodes, we could do the following to find all the structure nodes that were generated as an output by a `PwCalculation` node."
   ]
  },
  {
   "cell_type": "code",
   "execution_count": 30,
   "metadata": {},
   "outputs": [
    {
     "data": {
      "text/plain": [
       "<aiida.orm.querybuilder.QueryBuilder at 0x7f9c01bb1050>"
      ]
     },
     "execution_count": 30,
     "metadata": {},
     "output_type": "execute_result"
    }
   ],
   "source": [
    "qb = QueryBuilder()\n",
    "qb.append(PwCalculation, tag='calculation')"
   ]
  },
  {
   "cell_type": "markdown",
   "metadata": {},
   "source": [
    "We are looking for descendants of `PwCalculation` nodes, so we `append` it to a `QueryBuilder` instance. In the future, we need to be able to reference to this clause and therefore we give it a name or `tag` it with the `tag` keyword."
   ]
  },
  {
   "cell_type": "code",
   "execution_count": 31,
   "metadata": {},
   "outputs": [
    {
     "data": {
      "text/plain": [
       "<aiida.orm.querybuilder.QueryBuilder at 0x7f9c01bb1050>"
      ]
     },
     "execution_count": 31,
     "metadata": {},
     "output_type": "execute_result"
    }
   ],
   "source": [
    "qb.append(StructureData, output_of='calculation')"
   ]
  },
  {
   "cell_type": "markdown",
   "metadata": {},
   "source": [
    "The goal was to find `StructureData` nodes, so we `append` that to the `qb`. However, we didn't want to find just any `StructureData` nodes; they had to be an output of `PwCalculation`. Note how we expressed this relation by the `output_of` keyword and using the `tag` name `calculation` that we had just assigned in the previous `append` statement.\n",
    "Now all we have to do is execute the query to retrieve our structures:"
   ]
  },
  {
   "cell_type": "code",
   "execution_count": 32,
   "metadata": {},
   "outputs": [
    {
     "data": {
      "text/plain": [
       "[]"
      ]
     },
     "execution_count": 32,
     "metadata": {},
     "output_type": "execute_result"
    }
   ],
   "source": [
    "qb.limit(5)\n",
    "qb.all()"
   ]
  },
  {
   "cell_type": "markdown",
   "metadata": {},
   "source": [
    "The `output_of` keyword is but one of many potential relationships that exist between the various `AiiDA` nodes, that are implemented in the `QueryBuilder`. The table below gives an overview of the implemented relationships, which nodes they are defined for and which relation it implicates."
   ]
  },
  {
   "cell_type": "markdown",
   "metadata": {},
   "source": [
    "Entity from\t| Entity to\t| Relationship  | Explanation\n",
    "------------|-----------|---------------|------------\n",
    "Node        | Node      | input_of      | One node as input of another node\n",
    "Node        | Node      | output_of     | One node as output of another node\n",
    "Node        | Node      | ancestor_of   | One node as the ancestor of another node\n",
    "Node        | Node      | descendant_of | One node as descendant of another node\n",
    "Group       | Node      | group_of      | The group of a node\n",
    "Node        | Group     | member_of     | The node is a member of a group\n",
    "Computer    | Node      | computer_of   | The computer of a node\n",
    "Node        | Computer  | has_computer  | The node of a computer\n",
    "User        | Node      | creator_of    | The creator of a node is a user\n",
    "Node        | User      | created_by    | The node was created by a user"
   ]
  },
  {
   "cell_type": "markdown",
   "metadata": {},
   "source": [
    "As an exercise, see if you can write a query that will return all the `UpfData` nodes that are a member of a `Group` whose name starts with the string `SSSP`."
   ]
  },
  {
   "cell_type": "code",
   "execution_count": null,
   "metadata": {},
   "outputs": [],
   "source": [
    "qb = QueryBuilder()\n",
    "qb.append(Group, filters={'name': {'like': 'SSSP%'}}, tag='group')\n",
    "qb.append(UpfData, member_of='group')\n",
    "qb.all()[:5]"
   ]
  },
  {
   "cell_type": "markdown",
   "metadata": {},
   "source": [
    "### 4. Attributes and extras"
   ]
  },
  {
   "cell_type": "markdown",
   "metadata": {},
   "source": [
    "In section 2, we showed you how you can `project` specific properties of a `Node` and gave a list of properties that a `Node` instance possesses. Since then, we have come across a lot of different `AiiDA` data nodes, such as `StructureData` and `UpfData`, that were secretly `Node`'s in disguise. Or to put it correctly, as `AiiDA` employs the object-oriented programming paradigm, both `StructureData` and `UpfData` are examples of subclasses of the `Node` class and therefore inherit its properties. That means that whatever property a `Node` has, both `StructureData` and `UpfData` will have too. However, there is a semantic difference between a `StructureData` node and a `UpfData`, and so we may want to add a property to one that would not make sense for the other. To solve this, `AiiDA` introduces the concept of `attributes`. These are similar to properties, except that they are specific to the `Node` type that they are attached to. This allows you to add an `attribute` to a certain node, without having to change the implementation of all the others.\n",
    "\n",
    "For example, the `ParameterData` nodes that are generated as output of `PwCalculation`'s may have an attribute named `wfc_cutoff`. To project for this particular `attribute`, one can use exactly the same syntax as shown in section 2 for the regular `Node` properties, and one has to only prepend `attributes.` to the attribute name. Demonstration:"
   ]
  },
  {
   "cell_type": "code",
   "execution_count": null,
   "metadata": {},
   "outputs": [],
   "source": [
    "qb = QueryBuilder()\n",
    "qb.append(PwCalculation, tag='pw')\n",
    "qb.append(\n",
    "    ParameterData,\n",
    "    output_of='pw',\n",
    "    project=[\"attributes.wfc_cutoff\"]\n",
    ")\n",
    "qb.all()[:5]"
   ]
  },
  {
   "cell_type": "markdown",
   "metadata": {},
   "source": [
    "Note that not every `ParameterData` node has to have this attribute, in which case the `QueryBuilder` will return the python keyword `None`. Similar to the `attributes`, nodes also can have `extras`, which work in the same way, except that `extras` are mutable, which means that their value can be changed even after a node instance has been stored.\n",
    "\n",
    "If you are not sure which attributes a given node has, you can use the `get_attrs()` method to simply retrieve them all. It will return a dictionary with all the attributes the node has."
   ]
  },
  {
   "cell_type": "code",
   "execution_count": null,
   "metadata": {},
   "outputs": [],
   "source": [
    "qb = QueryBuilder()\n",
    "qb.append(PwCalculation)\n",
    "node = qb.first()[0]\n",
    "node.get_attrs()"
   ]
  },
  {
   "cell_type": "markdown",
   "metadata": {},
   "source": [
    "The element type symbol of a pseudopotential, that is represented by a `UpfData` node, is stored in the `element` attribute. Using the knowledge that filtering on attributes works exactly as for normal node properties, see if you can write a query that will search your database for pseudopotentials for silicon."
   ]
  },
  {
   "cell_type": "code",
   "execution_count": null,
   "metadata": {},
   "outputs": [],
   "source": [
    "qb = QueryBuilder()\n",
    "qb.append(UpfData, filters={'attributes.element': {'==': 'Si'}})\n",
    "qb.all()"
   ]
  },
  {
   "cell_type": "code",
   "execution_count": null,
   "metadata": {
    "collapsed": true
   },
   "outputs": [],
   "source": []
  }
 ],
 "metadata": {
  "kernelspec": {
   "display_name": "Python 2",
   "language": "python",
   "name": "python2"
  },
  "language_info": {
   "codemirror_mode": {
    "name": "ipython",
    "version": 2
   },
   "file_extension": ".py",
   "mimetype": "text/x-python",
   "name": "python",
   "nbconvert_exporter": "python",
   "pygments_lexer": "ipython2",
   "version": "2.7.6"
  }
 },
 "nbformat": 4,
 "nbformat_minor": 2
}
