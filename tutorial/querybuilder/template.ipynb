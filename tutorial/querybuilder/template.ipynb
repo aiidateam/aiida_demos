{
 "cells": [
  {
   "cell_type": "markdown",
   "metadata": {},
   "source": [
    "# AiiDA's QueryBuilder"
   ]
  },
  {
   "cell_type": "markdown",
   "metadata": {},
   "source": [
    "*Import statements - make sure to execute the cell below this one (it may be hidden)*"
   ]
  },
  {
   "cell_type": "code",
   "execution_count": 1,
   "metadata": {
    "collapsed": true,
    "hide_input": false
   },
   "outputs": [],
   "source": [
    "from IPython.display import Image\n",
    "from datetime import datetime, timedelta\n",
    "import numpy as np\n",
    "from aiida import load_dbenv, is_dbenv_loaded\n",
    "from matplotlib import gridspec, pyplot as plt\n",
    "if not is_dbenv_loaded():\n",
    "    load_dbenv()\n",
    "from aiida.orm import load_node, Node, Group, Computer, User\n",
    "from aiida.orm import CalculationFactory, DataFactory\n",
    "from aiida.orm.calculation.job import JobCalculation\n",
    "from aiida.orm.querybuilder import QueryBuilder\n",
    "\n",
    "PwCalculation = CalculationFactory('quantumespresso.pw')\n",
    "StructureData = DataFactory('structure')\n",
    "KpointsData = DataFactory('array.kpoints')\n",
    "ParameterData = DataFactory('parameter')\n",
    "UpfData = DataFactory('upf')"
   ]
  },
  {
   "cell_type": "markdown",
   "metadata": {},
   "source": [
    "We define 2 functions in the following, for visualizations."
   ]
  },
  {
   "cell_type": "code",
   "execution_count": 2,
   "metadata": {
    "collapsed": true
   },
   "outputs": [],
   "source": [
    "def plot_results(query_res):\n",
    "    \"\"\"\n",
    "    :param query_res: The result of an instance of the QueryBuilder\n",
    "    \"\"\"\n",
    "    smearing_unit_set,magnetization_unit_set,pseudo_family_set = set(), set(), set()\n",
    "    # Storing results:\n",
    "    results_dict = {}\n",
    "    for pseudo_family, formula, smearing, smearing_units, mag, mag_units in query_res:\n",
    "        if formula not in results_dict:\n",
    "            results_dict[formula] = {}\n",
    "        # Storing the results:\n",
    "        results_dict[formula][pseudo_family] = (smearing, mag)\n",
    "        # Adding to the unit set:\n",
    "        smearing_unit_set.add(smearing_units)\n",
    "        magnetization_unit_set.add(mag_units)\n",
    "        pseudo_family_set.add(pseudo_family)\n",
    "\n",
    "    # Sorting by formula:\n",
    "    sorted_results = sorted(results_dict.items())\n",
    "    formula_list = zip(*sorted_results)[0]\n",
    "    nr_of_results = len(formula_list)\n",
    "\n",
    "    # Checks that I have not more than 3 pseudo families.\n",
    "    # If more are needed, define more colors\n",
    "    #pseudo_list = list(pseudo_family_set)\n",
    "    if len(pseudo_family_set) > 3:\n",
    "        raise Exception('I was expecting 3 or less pseudo families')\n",
    "\n",
    "    colors = ['b', 'r', 'g']\n",
    "\n",
    "    # Plotting:\n",
    "    plt.clf()\n",
    "    fig=plt.figure(figsize=(16, 9), facecolor='w', edgecolor=None)\n",
    "    gs  = gridspec.GridSpec(2,1, hspace=0.01, left=0.1, right=0.94)\n",
    "\n",
    "    # Defining barwidth\n",
    "    barwidth = 1. / (len(pseudo_family_set)+1)\n",
    "    offset = [-0.5+(0.5+n)*barwidth for n in range(len(pseudo_family_set))]\n",
    "    # Axing labels with units:\n",
    "    yaxis = (\"Smearing energy [{}]\".format(smearing_unit_set.pop()),\n",
    "        \"Total magnetization [{}]\".format(magnetization_unit_set.pop()))\n",
    "    # If more than one unit was specified, I will exit:\n",
    "    if smearing_unit_set:\n",
    "        raise Exception('Found different units for smearing')\n",
    "    if magnetization_unit_set:\n",
    "        raise Exception('Found different units for magnetization')\n",
    "    \n",
    "    # Making two plots, upper for the smearing, the lower for magnetization\n",
    "    for index in range(2):\n",
    "        ax=fig.add_subplot(gs[index])\n",
    "        for i,pseudo_family in enumerate(pseudo_family_set):\n",
    "            X = np.arange(nr_of_results)+offset[i]\n",
    "            Y = np.array([thisres[1][pseudo_family][index] for thisres in sorted_results])\n",
    "            ax.bar(X, Y,  width=0.2, facecolor=colors[i], edgecolor=colors[i], label=pseudo_family)\n",
    "        ax.set_ylabel(yaxis[index], fontsize=14, labelpad=15*index+5)\n",
    "        ax.set_xlim(-0.5, nr_of_results-0.5)\n",
    "        ax.set_xticks(np.arange(nr_of_results))\n",
    "        if index == 0:\n",
    "            plt.setp(ax.get_yticklabels()[0], visible=False)\n",
    "            ax.xaxis.tick_top()\n",
    "            ax.legend(loc=3, prop={'size': 18})\n",
    "        else:\n",
    "            plt.setp(ax.get_yticklabels()[-1], visible=False)\n",
    "        for i in range(0, nr_of_results, 2):\n",
    "            ax.axvspan(i-0.5, i+0.5, facecolor='y', alpha=0.2)\n",
    "        ax.set_xticklabels(list(formula_list),rotation=90, size=14, ha='center')\n",
    "    plt.show()\n",
    "\n",
    "def generate_query_graph(qh, out_file_name):\n",
    "\n",
    "    def draw_vertice_settings(idx, vertice, **kwargs):\n",
    "        \"\"\"\n",
    "        Returns a string with all infos needed in a .dot file  to define a node of a graph.\n",
    "        :param node:\n",
    "        :param kwargs: Additional key-value pairs to be added to the returned string\n",
    "        :return: a string\n",
    "        \"\"\"\n",
    "        if 'calculation' in vertice['type']:\n",
    "            shape = \"shape=polygon,sides=4\"\n",
    "        elif 'code' in vertice['type']:\n",
    "            shape = \"shape=diamond\"\n",
    "        else:\n",
    "            shape = \"shape=ellipse\"\n",
    "        filters = kwargs.pop('filters', None)\n",
    "        additional_string = \"\"\n",
    "        if filters:\n",
    "            additional_string += '\\nFilters:'\n",
    "            for k,v in filters.items():\n",
    "                additional_string += \"\\n   {} : {}\".format(k,v)\n",
    "\n",
    "\n",
    "        label_string = \" ('{}')\".format(vertice['tag'])\n",
    "\n",
    "        labelstring = 'label=\"{} {}{}\"'.format(\n",
    "            vertice['type'], #.split('.')[-2] or 'Node',\n",
    "            label_string,\n",
    "            additional_string)\n",
    "        #~ return \"N{} [{},{}{}];\".format(idx, shape, labelstring,\n",
    "        return \"{} [{},{}];\".format(vertice['tag'], shape, labelstring)\n",
    "    nodes = {v['tag']:draw_vertice_settings(idx, v, filters=qh['filters'][v['tag']]) for idx, v in enumerate(qh['path'])}\n",
    "    links = [(v['tag'], v['joining_value'], v['joining_keyword']) for v in qh['path'][1:]]\n",
    "\n",
    "    with open('temp.dot','w') as fout:\n",
    "        fout.write(\"digraph G {\\n\")\n",
    "        for l in links:\n",
    "            fout.write('    {} -> {} [label=\" {}\"];\\n'.format(*l))\n",
    "        for _, n_values in nodes.items():\n",
    "            fout.write(\"    {}\\n\".format(n_values))\n",
    "\n",
    "        fout.write(\"}\\n\")\n",
    "    import os\n",
    "    os.system('dot temp.dot -Tpng -o {}'.format(out_file_name))\n",
    "\n",
    "def store_formula_in_extra():\n",
    "    qb = QueryBuilder()\n",
    "    qb.append(StructureData, filters={'extras':{'!has_key':'formula'}})\n",
    "    for structure, in qb.all():\n",
    "        structure.set_extra('formula', structure.get_formula(mode='count'))\n",
    "\n",
    "store_formula_in_extra()"
   ]
  },
  {
   "cell_type": "markdown",
   "metadata": {},
   "source": [
    "### 1. Introduction to the QueryBuilder\n",
    "As you will use `AiiDA` to run your calculations, the database that stores all the data and the provenance, will quickly grow to be very large. So in order to find a needle that we might be looking for in this big haystack, we need an efficient excavation and search tool. The tool that `AiiDA` provides to do exactly this is called the `QueryBuilder`. The `QueryBuilder` acts as the gatekeeper to your database, that you can ask questions about the contents of your database (also referred to as queries), by specifying what it is that you are looking for. In this part of the tutorial, we will focus on how to use the `QueryBuilder` to make these queries and understand/use the results.\n",
    "\n",
    "In order to use the `QueryBuilder`, we first need to import it. We can accomplish this by executing the `import` statement in the following cell. Go ahead and select the next cell, and press `Shift+Enter`."
   ]
  },
  {
   "cell_type": "code",
   "execution_count": 3,
   "metadata": {
    "collapsed": true
   },
   "outputs": [],
   "source": [
    "from aiida.orm.querybuilder import QueryBuilder"
   ]
  },
  {
   "cell_type": "markdown",
   "metadata": {},
   "source": [
    "Before we can ask the `QueryBuilder` questions about our database, we first need to create an instance of it:"
   ]
  },
  {
   "cell_type": "code",
   "execution_count": 4,
   "metadata": {
    "collapsed": true
   },
   "outputs": [],
   "source": [
    "qb = QueryBuilder()"
   ]
  },
  {
   "cell_type": "markdown",
   "metadata": {},
   "source": [
    "Now that we have an instance of our `QueryBuilder` which we named `qb`, we are ready to start asking it about the contents of our database. For example, we may want to know exactly how many nodes there are in our database. To tell `qb` that we are interested in all the occurrences of the `Node` class in our database, we `append` it to the list of objects it should find."
   ]
  },
  {
   "cell_type": "code",
   "execution_count": 5,
   "metadata": {},
   "outputs": [
    {
     "data": {
      "text/plain": [
       "<aiida.orm.querybuilder.QueryBuilder at 0x7f31e8c532d0>"
      ]
     },
     "execution_count": 5,
     "metadata": {},
     "output_type": "execute_result"
    }
   ],
   "source": [
    "qb.append(Node)"
   ]
  },
  {
   "cell_type": "markdown",
   "metadata": {},
   "source": [
    "We have now narrowed down the scope of `qb` to just the nodes that are present in our database. To learn how many nodes there are exactly, all we have to do is to ask `qb` to count them."
   ]
  },
  {
   "cell_type": "code",
   "execution_count": 6,
   "metadata": {},
   "outputs": [
    {
     "data": {
      "text/plain": [
       "4680L"
      ]
     },
     "execution_count": 6,
     "metadata": {},
     "output_type": "execute_result"
    }
   ],
   "source": [
    "qb.count()"
   ]
  },
  {
   "cell_type": "markdown",
   "metadata": {},
   "source": [
    "Now as you may have learned in previous sections of the tutorial, nodes come in different kinds and flavors. For example, all our crystal structures that we have stored in the database, are saved in a node that is of the type `StructureData`. If instead of all the nodes, rather we would like to count only the structure nodes, we simply tell our `QueryBuilder` to narrow its scope to only objects of the `StructureData` type. Since we are creating a new query, we have to create a new instance of the `QueryBuilder`. In the next cell, we have typed part of the code to count all the structure nodes. See if you can finish the line with the comment, to tell the `QueryBuilder` that you are only interested in `StructureData` nodes."
   ]
  },
  {
   "cell_type": "code",
   "execution_count": 14,
   "metadata": {},
   "outputs": [
    {
     "ename": "InputValidationError",
     "evalue": "\n\nYou need to specify either a class or a type\n\n",
     "output_type": "error",
     "traceback": [
      "\u001b[0;31m---------------------------------------------------------------------------\u001b[0m",
      "\u001b[0;31mInputValidationError\u001b[0m                      Traceback (most recent call last)",
      "\u001b[0;32m<ipython-input-14-f6fefb937805>\u001b[0m in \u001b[0;36m<module>\u001b[0;34m()\u001b[0m\n\u001b[1;32m      1\u001b[0m \u001b[0;31m#TUT_USER\u001b[0m\u001b[0;34m\u001b[0m\u001b[0;34m\u001b[0m\u001b[0m\n\u001b[1;32m      2\u001b[0m \u001b[0mqb\u001b[0m \u001b[0;34m=\u001b[0m \u001b[0mQueryBuilder\u001b[0m\u001b[0;34m(\u001b[0m\u001b[0;34m)\u001b[0m\u001b[0;34m\u001b[0m\u001b[0m\n\u001b[0;32m----> 3\u001b[0;31m \u001b[0mqb\u001b[0m\u001b[0;34m.\u001b[0m\u001b[0mappend\u001b[0m\u001b[0;34m(\u001b[0m\u001b[0;34m)\u001b[0m \u001b[0;31m# How do we finish this line to tell the query builder to count only the structure nodes?\u001b[0m\u001b[0;34m\u001b[0m\u001b[0m\n\u001b[0m\u001b[1;32m      4\u001b[0m \u001b[0mqb\u001b[0m\u001b[0;34m.\u001b[0m\u001b[0mcount\u001b[0m\u001b[0;34m(\u001b[0m\u001b[0;34m)\u001b[0m\u001b[0;34m\u001b[0m\u001b[0m\n\u001b[1;32m      5\u001b[0m \u001b[0;31m#TUT_USER_END\u001b[0m\u001b[0;34m\u001b[0m\u001b[0;34m\u001b[0m\u001b[0m\n",
      "\u001b[0;32m/home/kahle/git/aiida/aiida/orm/querybuilder.pyc\u001b[0m in \u001b[0;36mappend\u001b[0;34m(self, cls, type, tag, filters, project, subclassing, edge_tag, edge_filters, edge_project, outerjoin, **kwargs)\u001b[0m\n\u001b[1;32m    396\u001b[0m         \u001b[0;32mif\u001b[0m \u001b[0;32mnot\u001b[0m \u001b[0;34m(\u001b[0m\u001b[0mcls\u001b[0m \u001b[0;32mor\u001b[0m \u001b[0mtype\u001b[0m\u001b[0;34m)\u001b[0m\u001b[0;34m:\u001b[0m\u001b[0;34m\u001b[0m\u001b[0m\n\u001b[1;32m    397\u001b[0m             raise InputValidationError(\n\u001b[0;32m--> 398\u001b[0;31m                     \u001b[0;34m\"\\n\\n\"\u001b[0m\u001b[0;34m\u001b[0m\u001b[0m\n\u001b[0m\u001b[1;32m    399\u001b[0m                     \u001b[0;34m\"You need to specify either a class or a type\"\u001b[0m\u001b[0;34m\u001b[0m\u001b[0m\n\u001b[1;32m    400\u001b[0m                     \u001b[0;34m\"\\n\\n\"\u001b[0m\u001b[0;34m\u001b[0m\u001b[0m\n",
      "\u001b[0;31mInputValidationError\u001b[0m: \n\nYou need to specify either a class or a type\n\n"
     ]
    }
   ],
   "source": [
    "#TUT_USER_START\n",
    "qb = QueryBuilder()\n",
    "qb.append() # How do we finish this line to tell the query builder to count only the structure nodes?\n",
    "qb.count()\n",
    "#TUT_USER_END\n",
    "#TUT_SOLUTION_START\n",
    "qb = QueryBuilder()\n",
    "qb.append(StructureData)\n",
    "qb.count()\n",
    "#TUT_SOLUTION_END"
   ]
  },
  {
   "cell_type": "markdown",
   "metadata": {},
   "source": [
    "Instead of just counting how many structure nodes we have, we may also actually want to see some of them. This is as easy as telling our `QueryBuilder` that we are not interested in the `count` but rather that we want to retrieve `all` the nodes."
   ]
  },
  {
   "cell_type": "code",
   "execution_count": 8,
   "metadata": {},
   "outputs": [
    {
     "data": {
      "text/plain": [
       "[[<StructureData: uuid: e97bcfe6-0312-4b6f-bdc4-62cbedfab119 (pk: 7)>],\n",
       " [<StructureData: uuid: 11a13eb6-0579-4729-90d9-c06dd143532e (pk: 21)>],\n",
       " [<StructureData: uuid: bf09f554-624f-4525-bdf3-52b8ec802940 (pk: 26)>],\n",
       " [<StructureData: uuid: 4909f51c-e037-4ba1-9b8f-0e8f7477b5ef (pk: 27)>],\n",
       " [<StructureData: uuid: b69afaa9-761e-4377-ae77-f952a60a8887 (pk: 28)>],\n",
       " [<StructureData: uuid: efe1b5c8-4aec-4738-ba86-707096a576af (pk: 39)>],\n",
       " [<StructureData: uuid: 0396bc2b-7bd9-4a0b-a70a-5b0bcc323ae6 (pk: 52)>],\n",
       " [<StructureData: uuid: df873b09-312f-45e7-88aa-0d3f3a4e7d01 (pk: 65)>],\n",
       " [<StructureData: uuid: 9c6807c1-5f1c-49fd-a52e-ccd3e53d3d86 (pk: 74)>],\n",
       " [<StructureData: uuid: a2ae295e-c7c6-43f3-8b2c-597104a8b440 (pk: 77)>],\n",
       " [<StructureData: uuid: 0984bf55-2b57-4590-bce8-ea10fbe75763 (pk: 84)>],\n",
       " [<StructureData: uuid: 29bf77e6-1c91-4806-a662-ee74f73d1ec8 (pk: 88)>],\n",
       " [<StructureData: uuid: 8a9048d1-6542-4c90-8baa-e22f88b40903 (pk: 90)>],\n",
       " [<StructureData: uuid: caf2b2b8-e355-4d4c-a648-a0bd38fd5e46 (pk: 100)>],\n",
       " [<StructureData: uuid: d3ddc751-6b6b-4893-bed2-cc45e5e6a096 (pk: 103)>],\n",
       " [<StructureData: uuid: 4fbe7a29-c2fd-4afe-a573-d9641bd6ee01 (pk: 129)>],\n",
       " [<StructureData: uuid: 648c4dc9-6cd8-4087-8d5e-0d625b7b457d (pk: 134)>],\n",
       " [<StructureData: uuid: 493203ea-9466-4d70-a876-bd0ac699f986 (pk: 138)>],\n",
       " [<StructureData: uuid: 3ce89daa-bfe4-483f-8496-03a4e255ed32 (pk: 143)>],\n",
       " [<StructureData: uuid: 2ab22931-c69e-4653-b422-95c2204f4e95 (pk: 147)>],\n",
       " [<StructureData: uuid: 684474eb-14d2-42a2-93a0-ce2332503eb1 (pk: 150)>],\n",
       " [<StructureData: uuid: 4aa12967-46c5-4495-89c7-38072c13feac (pk: 159)>],\n",
       " [<StructureData: uuid: 81dcb2f1-7a82-4eb8-906b-2b790025e5b3 (pk: 162)>],\n",
       " [<StructureData: uuid: 0ac113e7-01e9-4b26-85e5-1f0684919e78 (pk: 168)>],\n",
       " [<StructureData: uuid: 07ef19d3-4077-4406-8d89-6d128d11ce2f (pk: 189)>],\n",
       " [<StructureData: uuid: 0cbdcd25-afb4-4462-83d1-e2d175edee17 (pk: 192)>],\n",
       " [<StructureData: uuid: 7161c6bc-fdda-4934-b60b-609b2cdf4788 (pk: 198)>],\n",
       " [<StructureData: uuid: c1732aeb-d961-4787-afd8-d53aab0ddd83 (pk: 206)>],\n",
       " [<StructureData: uuid: b7e96aff-c8b2-47b5-b2ad-c0f02d45aa9b (pk: 212)>],\n",
       " [<StructureData: uuid: 5a0395ca-ca6b-4af2-ac6e-290aa504e924 (pk: 216)>],\n",
       " [<StructureData: uuid: c3e55289-548c-46d3-b0d8-efbca6566083 (pk: 218)>],\n",
       " [<StructureData: uuid: bec83f75-f08c-4765-83cc-3cc752e47c33 (pk: 250)>],\n",
       " [<StructureData: uuid: fc4bbb90-fddd-404f-9dca-11a4bb381df4 (pk: 287)>],\n",
       " [<StructureData: uuid: 3a4b1270-82bf-4d66-a51f-982294f6e1b3 (pk: 296)>],\n",
       " [<StructureData: uuid: 8f715aee-7a9d-4151-8cce-69af82edc563 (pk: 307)>],\n",
       " [<StructureData: uuid: c0dd75a2-36a1-4659-ac15-9342e838d83c (pk: 311)>],\n",
       " [<StructureData: uuid: f9055068-9494-4c01-a568-af3d2b487b6e (pk: 325)>],\n",
       " [<StructureData: uuid: ab74b645-0004-4caa-bcb7-6937ad1e57f6 (pk: 330)>],\n",
       " [<StructureData: uuid: ae9b5026-22b6-4820-91c3-61230582063e (pk: 334)>],\n",
       " [<StructureData: uuid: 1de4114e-fcd9-4baa-b89e-e736c93cde94 (pk: 342)>],\n",
       " [<StructureData: uuid: a840b9ef-7f89-411c-a4ab-65fca82b3bf3 (pk: 343)>],\n",
       " [<StructureData: uuid: a715f269-2785-41af-9dcd-eb5c19526773 (pk: 353)>],\n",
       " [<StructureData: uuid: 5e107ccb-f42f-4550-8968-bd49c97c04dc (pk: 358)>],\n",
       " [<StructureData: uuid: 18921164-51bc-4c3d-ab4f-777a684212b2 (pk: 360)>],\n",
       " [<StructureData: uuid: 5307c08a-90c2-445b-8cdc-d3fdcb2eb47c (pk: 361)>],\n",
       " [<StructureData: uuid: 03e5231c-a1b3-4c1e-9657-c63c6821eb3b (pk: 371)>],\n",
       " [<StructureData: uuid: 5d98dc0c-0a25-46c9-ab1c-0e88f9983c0b (pk: 377)>],\n",
       " [<StructureData: uuid: 74dc50f8-3949-40dd-8d78-c38ac1de2b0f (pk: 378)>],\n",
       " [<StructureData: uuid: c44af50c-90e8-47e0-984c-7edb7eda5205 (pk: 380)>],\n",
       " [<StructureData: uuid: 66f50237-aee5-4a13-8966-fef2c9d6fe6c (pk: 383)>],\n",
       " [<StructureData: uuid: fe85b080-02c1-440b-bf09-0730bb089d5f (pk: 387)>],\n",
       " [<StructureData: uuid: 6fef1191-23cf-4796-97fc-f3bb58c0cddd (pk: 408)>],\n",
       " [<StructureData: uuid: a7f60ecc-35b8-4b95-93fc-21b6e7ca237b (pk: 416)>],\n",
       " [<StructureData: uuid: 6d0a3c87-3dac-4c1d-a09d-e19b2f908ca9 (pk: 419)>],\n",
       " [<StructureData: uuid: e4cdeca6-cc4e-4bf6-b005-1b050f80e0af (pk: 423)>],\n",
       " [<StructureData: uuid: 7dabdc64-4945-457a-8f3c-d34a844c9256 (pk: 426)>],\n",
       " [<StructureData: uuid: b8186d88-5d55-4a92-bd8a-8396e72158a8 (pk: 432)>],\n",
       " [<StructureData: uuid: 0d046375-8fa4-476a-9f0e-07d5db1f659e (pk: 433)>],\n",
       " [<StructureData: uuid: 02f8e01c-ffd0-4093-96d0-c699cd8d029b (pk: 441)>],\n",
       " [<StructureData: uuid: c04f9178-4f63-4d4c-9555-99f2f5a4cc5e (pk: 444)>],\n",
       " [<StructureData: uuid: 89158754-46e0-4cca-8551-bc890c703061 (pk: 448)>],\n",
       " [<StructureData: uuid: cca5af82-9ae2-404f-9399-73528236ef94 (pk: 479)>],\n",
       " [<StructureData: uuid: 7ec775bf-67b6-4808-93f6-4922d7b08faa (pk: 486)>],\n",
       " [<StructureData: uuid: a9b6b043-4570-46f6-afdd-e74b4d5fe0c1 (pk: 488)>],\n",
       " [<StructureData: uuid: af83969f-03be-4b69-b503-ceaace7110d2 (pk: 489)>],\n",
       " [<StructureData: uuid: b96f67cb-1483-4162-99e2-268b09c1f228 (pk: 549)>],\n",
       " [<StructureData: uuid: f83628ac-ed1b-455c-a527-fe378c61da25 (pk: 554)>],\n",
       " [<StructureData: uuid: f052dcfe-27a3-4559-a895-10f5938e7252 (pk: 570)>],\n",
       " [<StructureData: uuid: 65fd73dc-d8d8-44c2-b281-c1e85c190ac9 (pk: 572)>],\n",
       " [<StructureData: uuid: ca5001b6-ec38-4c8d-b8e0-08507f07dab9 (pk: 596)>],\n",
       " [<StructureData: uuid: d5d02962-9610-42c8-8e6a-a9b7bdba6ed3 (pk: 636)>],\n",
       " [<StructureData: uuid: 015266aa-25d7-4d69-a51c-ec3e4449bbc2 (pk: 648)>],\n",
       " [<StructureData: uuid: 06f6e872-33a2-40b1-af78-77cbfebd3c11 (pk: 653)>],\n",
       " [<StructureData: uuid: 829d89ba-57eb-4dac-b0bf-145de3c6d5a5 (pk: 654)>],\n",
       " [<StructureData: uuid: a210f265-f6b9-45cc-bde9-7d5267f65ef7 (pk: 663)>],\n",
       " [<StructureData: uuid: 480eed9d-160b-4eaf-b03b-e7f92980cac9 (pk: 665)>],\n",
       " [<StructureData: uuid: e5e7c7cc-4f65-474a-ba37-c64eeb32488f (pk: 666)>],\n",
       " [<StructureData: uuid: 0d6d3e5c-ea9c-4d1d-8397-da99836c1487 (pk: 669)>],\n",
       " [<StructureData: uuid: d55e3685-072d-4b92-8d91-76f5776e692d (pk: 682)>],\n",
       " [<StructureData: uuid: 4ad494a2-68c6-4923-9410-9be1e61a64ce (pk: 685)>],\n",
       " [<StructureData: uuid: bc5d54cc-1759-4cb8-807b-e4de4dbcfbeb (pk: 694)>],\n",
       " [<StructureData: uuid: 8e77b5ef-658e-46e2-b803-5893d0b27590 (pk: 700)>],\n",
       " [<StructureData: uuid: feaadcaa-184b-4911-a21f-7e36a1a24df7 (pk: 709)>],\n",
       " [<StructureData: uuid: 9f7003cd-d87b-43c1-be4a-ee146c29bf2e (pk: 712)>],\n",
       " [<StructureData: uuid: a0d6ae3d-0bd2-42b8-8f07-3945cce48d77 (pk: 721)>],\n",
       " [<StructureData: uuid: 4c36e70c-fbd8-48d0-8dbc-04b2e4fce8be (pk: 746)>],\n",
       " [<StructureData: uuid: b2152976-4f84-4822-a7ae-877d3752b2f0 (pk: 752)>],\n",
       " [<StructureData: uuid: 1e26f227-161c-4e0d-8a52-f134ae56c02a (pk: 755)>],\n",
       " [<StructureData: uuid: 643097f0-7ea9-44b0-896d-4abd1576ba12 (pk: 792)>],\n",
       " [<StructureData: uuid: 608fe362-435f-4836-8960-f6c69b32ce58 (pk: 801)>],\n",
       " [<StructureData: uuid: f31dc747-6a49-4e11-8ee8-13c576eef539 (pk: 803)>],\n",
       " [<StructureData: uuid: 88bddb92-c6b5-4c24-b24e-1b927ea2cbab (pk: 810)>],\n",
       " [<StructureData: uuid: 954bd42d-5111-4605-88a0-64ee6838e8a9 (pk: 821)>],\n",
       " [<StructureData: uuid: 16c5f607-0be1-4f1a-99af-35f4d93c5b01 (pk: 831)>],\n",
       " [<StructureData: uuid: a58ad5f6-7e01-47dd-b71f-ca5e2f6b0c22 (pk: 847)>],\n",
       " [<StructureData: uuid: 8306801e-a0f9-4d5c-a354-5f38d26ea43e (pk: 871)>],\n",
       " [<StructureData: uuid: 6a3b980c-b82e-4fce-81dc-0e3c9259abc8 (pk: 927)>],\n",
       " [<StructureData: uuid: e58f30d1-079f-460a-8f65-f63dddcc68ae (pk: 931)>],\n",
       " [<StructureData: uuid: 91fc0ea2-138c-4555-81a0-bfc1d13c788c (pk: 936)>],\n",
       " [<StructureData: uuid: 5c7291dc-597c-4fe9-a55e-a3bd510c3ce6 (pk: 963)>],\n",
       " [<StructureData: uuid: 429941ab-104a-4f45-a2b7-b2d681faab77 (pk: 965)>],\n",
       " [<StructureData: uuid: b36ba82b-e9f6-4dd9-94de-23c4b1f46eb6 (pk: 977)>],\n",
       " [<StructureData: uuid: e9867a09-9848-4532-9c5d-c872b09b8e0a (pk: 978)>],\n",
       " [<StructureData: uuid: 1785bad6-280d-4297-9898-77300497359d (pk: 979)>],\n",
       " [<StructureData: uuid: b4b3c18b-8b3a-464f-9d67-ce08ccf89a9c (pk: 980)>],\n",
       " [<StructureData: uuid: 64046dac-ae4b-452f-9f03-937ef1821ffe (pk: 981)>],\n",
       " [<StructureData: uuid: bb745add-edbb-4972-b60b-dbc0005d6e77 (pk: 982)>],\n",
       " [<StructureData: uuid: 8c6f5e76-8437-4125-ba31-d7e1b974ff9a (pk: 983)>],\n",
       " [<StructureData: uuid: cc6629f9-026c-414b-958c-ae338b4fbcd6 (pk: 984)>],\n",
       " [<StructureData: uuid: 4111f5b0-7dd4-47ec-8d38-145c1a6ebb52 (pk: 987)>],\n",
       " [<StructureData: uuid: b8d97f15-335c-4433-8134-93ec53d9f5cc (pk: 988)>],\n",
       " [<StructureData: uuid: 74a6dcb8-f22b-46db-b766-f4e1620b0e13 (pk: 995)>],\n",
       " [<StructureData: uuid: 7fb1e483-78f5-4911-a7d7-f6f38c1e0a73 (pk: 999)>],\n",
       " [<StructureData: uuid: cf22ccfb-6ea5-44b4-934e-4f0d3dfa0175 (pk: 1004)>],\n",
       " [<StructureData: uuid: 815ab53e-52da-4247-84d4-1e31133a9dc5 (pk: 1005)>],\n",
       " [<StructureData: uuid: d5638996-0543-47bd-bc7f-7907b6fd64ca (pk: 1016)>],\n",
       " [<StructureData: uuid: a16d800c-6482-4a73-b74e-ea9fffee489e (pk: 1021)>],\n",
       " [<StructureData: uuid: 8bb1fac0-58ec-423c-81d9-2513fcf95e34 (pk: 1030)>],\n",
       " [<StructureData: uuid: 3b6f3daa-fd8e-4961-8d85-7fda8b9123de (pk: 1045)>],\n",
       " [<StructureData: uuid: 42ebbb4f-ff3d-4901-b297-c7c626707b23 (pk: 1054)>],\n",
       " [<StructureData: uuid: f20ff114-58b4-42ef-8339-0428b613c4e2 (pk: 1089)>],\n",
       " [<StructureData: uuid: ba3aab4b-a414-49d8-ad83-0cdd60d06503 (pk: 1092)>],\n",
       " [<StructureData: uuid: cecd2ca6-04e5-4a25-8a52-6da364a4c0ee (pk: 1099)>],\n",
       " [<StructureData: uuid: f2c257f9-66f4-4545-8609-3864c2087289 (pk: 1124)>],\n",
       " [<StructureData: uuid: f3ef00dd-9131-47ee-b5b9-0c4da21cfd61 (pk: 1143)>],\n",
       " [<StructureData: uuid: 47a409db-ed75-4265-a7eb-49c04e476772 (pk: 1146)>],\n",
       " [<StructureData: uuid: ffd4611d-cb1e-41f4-9282-ab61caa2e701 (pk: 1159)>],\n",
       " [<StructureData: uuid: 3358b33b-b04e-4da4-b947-7dd83ddde42b (pk: 1166)>],\n",
       " [<StructureData: uuid: 949b4082-69c9-4c56-8e08-a9c80f5a8b08 (pk: 1168)>],\n",
       " [<StructureData: uuid: 528d37da-e757-4ed1-b291-6c84103fa55b (pk: 1188)>],\n",
       " [<StructureData: uuid: 536bde59-2151-4d9e-a73a-5ae3b5a5195c (pk: 1199)>],\n",
       " [<StructureData: uuid: dd4aaa50-f137-44f4-8e1f-fc14407dc536 (pk: 1201)>],\n",
       " [<StructureData: uuid: dc6a3a46-600a-4dac-9109-f64746bb3dc1 (pk: 1205)>],\n",
       " [<StructureData: uuid: 701b883e-c766-4be9-8bdc-cd6260f99ea7 (pk: 1264)>],\n",
       " [<StructureData: uuid: 5a4a69ed-f0b0-42d6-ab80-3dbef4e96718 (pk: 1271)>],\n",
       " [<StructureData: uuid: 9cd4a0bb-7d97-4251-b161-aff27da1074f (pk: 1273)>],\n",
       " [<StructureData: uuid: 56407dbd-179e-4adb-b4a6-1f364f46eea6 (pk: 1276)>],\n",
       " [<StructureData: uuid: ffc16aff-8fd0-4220-8bc0-cd459f2af56c (pk: 1300)>],\n",
       " [<StructureData: uuid: e23bbde1-2b9f-4d6b-8d20-0ff3452926dd (pk: 1301)>],\n",
       " [<StructureData: uuid: c0b888ba-221f-4fa9-afd4-2b17a370dc16 (pk: 1304)>],\n",
       " [<StructureData: uuid: 2bc836d1-02ee-4d5e-acc3-925f0878d767 (pk: 1305)>],\n",
       " [<StructureData: uuid: a7605c5c-23fb-4020-b130-1870da15fd85 (pk: 1306)>],\n",
       " [<StructureData: uuid: 8e3ad0b8-378e-4e02-97f1-1da198ae30d7 (pk: 1307)>],\n",
       " [<StructureData: uuid: 97a9d694-460d-4946-8bb9-163b279ef13a (pk: 1308)>],\n",
       " [<StructureData: uuid: cb54dbf9-a2c1-44a9-b0d7-4922dda68e83 (pk: 1309)>],\n",
       " [<StructureData: uuid: a8996490-5c99-46cf-a8d8-c302fad68df3 (pk: 1310)>],\n",
       " [<StructureData: uuid: 66fedf3c-e526-4f7e-85d1-9850e6dd76e9 (pk: 1311)>],\n",
       " [<StructureData: uuid: 1406fa58-e5c0-4a1b-b10c-a34037dd4db9 (pk: 1312)>],\n",
       " [<StructureData: uuid: c4e431d5-a299-4a71-9e2a-0720eba9a936 (pk: 1313)>],\n",
       " [<StructureData: uuid: 47378b98-57ed-49d0-af65-1f199b89a214 (pk: 1314)>],\n",
       " [<StructureData: uuid: 305b2184-3023-4c9d-8d46-83da177a53d1 (pk: 1316)>],\n",
       " [<StructureData: uuid: ce9b946e-d76e-41b9-8305-79e63e191348 (pk: 1324)>],\n",
       " [<StructureData: uuid: 60510ee9-2b9a-43bd-b0ab-8aea469984d7 (pk: 1329)>],\n",
       " [<StructureData: uuid: 30bc32fa-782b-4a7d-93b8-f257830e2b66 (pk: 1334)>],\n",
       " [<StructureData: uuid: cc079fe1-37b2-491a-9f1e-9dcb75cf3630 (pk: 1340)>],\n",
       " [<StructureData: uuid: 4eaca5af-daae-4dbd-8a0c-137a18028982 (pk: 1353)>],\n",
       " [<StructureData: uuid: da914d4c-5f7f-4fa6-bac4-7016e3c6f986 (pk: 1367)>],\n",
       " [<StructureData: uuid: d9f53138-6c01-4ee5-a19f-1770f7b4c8c1 (pk: 1372)>],\n",
       " [<StructureData: uuid: fa180861-823f-4e4f-bf70-6eb4658e9f13 (pk: 1376)>],\n",
       " [<StructureData: uuid: e87462a9-4426-427b-b013-f1b7bbc1bc7b (pk: 1383)>],\n",
       " [<StructureData: uuid: c32268d0-4988-4f56-a071-057473a14aa5 (pk: 1400)>],\n",
       " [<StructureData: uuid: b9af4d93-f56b-4d39-8528-2e4d8f5c1f09 (pk: 1409)>],\n",
       " [<StructureData: uuid: 3f4961a2-27ba-4b4c-b049-f9610c4129c5 (pk: 1418)>],\n",
       " [<StructureData: uuid: af32f309-5528-434a-bb20-3873af4ad988 (pk: 1427)>],\n",
       " [<StructureData: uuid: 1c5e22a5-c466-4e8d-b3ba-101b4e8f407a (pk: 1430)>],\n",
       " [<StructureData: uuid: 34a39848-476b-402e-a502-f9759ed4d7d6 (pk: 1437)>],\n",
       " [<StructureData: uuid: 8d64d732-4ab4-475b-91ca-e2848157cdf5 (pk: 1444)>],\n",
       " [<StructureData: uuid: a72d0525-6971-4d29-9c6e-4d82a93e93eb (pk: 1449)>],\n",
       " [<StructureData: uuid: 0a513ab6-435d-416b-85b4-f973df2646b0 (pk: 1463)>],\n",
       " [<StructureData: uuid: 9a6fec90-1927-4ddb-8f1f-eb0820072b5f (pk: 1466)>],\n",
       " [<StructureData: uuid: 9789222b-4381-4e02-bd1b-bf193ce15ab2 (pk: 1483)>],\n",
       " [<StructureData: uuid: 8d443263-3fc9-4e52-ae1c-7f71304ee87e (pk: 1486)>],\n",
       " [<StructureData: uuid: 1077e7b0-7ef9-47d2-bc02-f5f7cfda6f96 (pk: 1512)>],\n",
       " [<StructureData: uuid: bd621c08-b63a-4bed-8f51-0a8b3021d0a6 (pk: 1522)>],\n",
       " [<StructureData: uuid: 3de89ffb-0546-4af3-940f-c364876d08c5 (pk: 1549)>],\n",
       " [<StructureData: uuid: bc682d9b-eac5-499a-91b7-fdd24090faf2 (pk: 1551)>],\n",
       " [<StructureData: uuid: 118397b6-df8b-41c2-ad30-6255ccb83068 (pk: 1627)>],\n",
       " [<StructureData: uuid: 2bd2a254-e9f7-4d0a-bbe0-83321bc223ba (pk: 1635)>],\n",
       " [<StructureData: uuid: 446dffcd-10e5-407c-8d51-0f28dc70563e (pk: 1649)>],\n",
       " [<StructureData: uuid: 8c39cff8-d996-4087-bcb2-61fcd206328b (pk: 1652)>],\n",
       " [<StructureData: uuid: 13f11496-b1dd-4fed-8cca-8116459e4219 (pk: 1664)>],\n",
       " [<StructureData: uuid: 1e9a7095-47c4-4ea8-b660-f1b06be75da9 (pk: 1691)>],\n",
       " [<StructureData: uuid: c11b2492-2711-46c7-a939-f37acd7bac77 (pk: 1693)>],\n",
       " [<StructureData: uuid: 5d5addd1-85a1-47c2-8cd6-bf37657cc1df (pk: 1704)>],\n",
       " [<StructureData: uuid: 3def34ed-b152-4062-8e95-ba52ac233bd2 (pk: 1713)>],\n",
       " [<StructureData: uuid: fcfd5d23-5639-4245-8be1-35096c2d2e9a (pk: 1727)>],\n",
       " [<StructureData: uuid: ecb560fd-93ac-43b2-9533-6f3a5fda408e (pk: 1751)>],\n",
       " [<StructureData: uuid: c95924c3-8783-46b9-9056-8f94794e977a (pk: 1770)>],\n",
       " [<StructureData: uuid: cb691d59-eccc-4c22-b92f-df924aa08fe6 (pk: 1775)>],\n",
       " [<StructureData: uuid: 87e19863-9786-48fe-a8e5-960dfa640900 (pk: 1782)>],\n",
       " [<StructureData: uuid: a9ebb371-8aec-4bb0-92a4-83e003794d6c (pk: 1824)>],\n",
       " [<StructureData: uuid: 66bb29d0-35c1-4ed9-90e6-e9fea63e073a (pk: 1828)>],\n",
       " [<StructureData: uuid: 8dc50b9b-d3ad-4df2-8bf5-65061a896262 (pk: 1831)>],\n",
       " [<StructureData: uuid: f73a2209-69d4-4648-b5a2-d3b83bdfee48 (pk: 1868)>],\n",
       " [<StructureData: uuid: c6c30157-6885-46cc-a276-1d68b931727d (pk: 1870)>],\n",
       " [<StructureData: uuid: ff45e62b-8b04-4ace-942e-25d8eef1f8d4 (pk: 1894)>],\n",
       " [<StructureData: uuid: 8a288b5b-3060-4cbf-83f5-a1272960f55e (pk: 1897)>],\n",
       " [<StructureData: uuid: 4a310659-c0ac-4460-94a6-680692e1f8a1 (pk: 1909)>],\n",
       " [<StructureData: uuid: 7c47e1d5-36cb-4c4e-a44a-0a9163b2ffa1 (pk: 1915)>],\n",
       " [<StructureData: uuid: fa28119f-b883-4a98-85e9-5b725760d969 (pk: 1920)>],\n",
       " [<StructureData: uuid: 0f10043e-fe8a-44e1-8e20-c269018b3664 (pk: 1923)>],\n",
       " [<StructureData: uuid: a662059c-2817-4f65-a0ab-3ab11199e437 (pk: 1925)>],\n",
       " [<StructureData: uuid: b4cdcd4b-9adc-4407-ab9f-c5274e4197fb (pk: 1932)>],\n",
       " [<StructureData: uuid: 282d0cdb-cd4a-4beb-845c-1372f9ad0ae2 (pk: 1944)>],\n",
       " [<StructureData: uuid: 54134d5c-b9b4-4f92-9cc2-fda0a9716db9 (pk: 1952)>],\n",
       " [<StructureData: uuid: 164cc810-9c0d-49de-ba9d-be075dcd972a (pk: 1969)>],\n",
       " [<StructureData: uuid: 9aa4792a-3547-4db2-8e8a-b876da886234 (pk: 1973)>],\n",
       " [<StructureData: uuid: 3142345a-dc05-424f-9e9a-302e71f734f1 (pk: 1997)>],\n",
       " [<StructureData: uuid: b923e51d-bfa4-4e30-a318-b72c72c3bc3e (pk: 2019)>],\n",
       " [<StructureData: uuid: bdac1a8c-8df5-4197-ba1b-43355d08cfda (pk: 2024)>],\n",
       " [<StructureData: uuid: 27b62e92-ca7a-40be-8b22-f0460fcde0b7 (pk: 2037)>],\n",
       " [<StructureData: uuid: a1d621ff-9daa-4d53-af76-93163817bae7 (pk: 2046)>],\n",
       " [<StructureData: uuid: a3542ed1-e04c-4094-8db5-4940ac8c2dac (pk: 2052)>],\n",
       " [<StructureData: uuid: c1f9a9a1-06f7-4305-9a68-960110f392b4 (pk: 2055)>],\n",
       " [<StructureData: uuid: da1aa62c-b8c3-43f7-a675-7e6af87b7674 (pk: 2060)>],\n",
       " [<StructureData: uuid: c9277073-8be1-46b7-bb15-29c7b3322c97 (pk: 2069)>],\n",
       " [<StructureData: uuid: f897fa5f-871d-45f4-898b-961e4241fead (pk: 2070)>],\n",
       " [<StructureData: uuid: 330bfcb0-5ac7-4a7d-a3c8-1c7fba3d314e (pk: 2081)>],\n",
       " [<StructureData: uuid: 095dd254-fc2a-499a-9291-7ce8b4b91dff (pk: 2085)>],\n",
       " [<StructureData: uuid: a7a4c8e8-52b9-459c-9d39-236ade0965eb (pk: 2090)>],\n",
       " [<StructureData: uuid: 8540a8cf-3ee5-4bb2-97ff-ba565a97cba3 (pk: 2095)>],\n",
       " [<StructureData: uuid: ec745a43-95a6-4c8b-b7a2-58969b2cdce5 (pk: 2111)>],\n",
       " [<StructureData: uuid: 6e6f8381-4dca-40cc-ac74-08e198ded7a4 (pk: 2136)>],\n",
       " [<StructureData: uuid: e57c4cea-a263-4f1a-8f1d-28d33c90c7c5 (pk: 2168)>],\n",
       " [<StructureData: uuid: 494173f9-de9e-43a9-90a0-207c28741af0 (pk: 2169)>],\n",
       " [<StructureData: uuid: 805d7940-2ac2-423d-91b0-2c0ece31ae43 (pk: 2172)>],\n",
       " [<StructureData: uuid: 282cea76-85ea-4d4c-a222-0f546e05335f (pk: 2195)>],\n",
       " [<StructureData: uuid: 3f8c9583-88b1-49f5-917e-9ed5828fe48a (pk: 2199)>],\n",
       " [<StructureData: uuid: 9588df9a-9085-4786-96c4-aa561ef9535a (pk: 2200)>],\n",
       " [<StructureData: uuid: ec5b274e-ad55-4307-a9f4-871c0f8f5757 (pk: 2222)>],\n",
       " [<StructureData: uuid: 2e3a11d6-a975-44e8-b121-b592fa8dd497 (pk: 2225)>],\n",
       " [<StructureData: uuid: 4be4c540-5705-4d7a-b83a-021bd77348d9 (pk: 2239)>],\n",
       " [<StructureData: uuid: 98c8b3f4-7f9f-45ad-bc11-761800f541a1 (pk: 2247)>],\n",
       " [<StructureData: uuid: 0a64db87-c333-4f3e-b0d4-b8ea604d40cf (pk: 2248)>],\n",
       " [<StructureData: uuid: f5acb612-7050-41b5-81fd-6bed8e0e7d4c (pk: 2252)>],\n",
       " [<StructureData: uuid: ca8dcbd9-5bf4-4c9a-8fd4-2b56a194a928 (pk: 2253)>],\n",
       " [<StructureData: uuid: 436ef08d-acf8-4d19-8fab-e2b7a01ac0da (pk: 2280)>],\n",
       " [<StructureData: uuid: 8b093318-d945-467c-b983-a88007e5bd6f (pk: 2288)>],\n",
       " [<StructureData: uuid: c5f990e6-4600-44cd-982c-07cb7b6819fb (pk: 2289)>],\n",
       " [<StructureData: uuid: 2cbc4725-ea74-457d-9e2c-2133e12a7397 (pk: 2292)>],\n",
       " [<StructureData: uuid: 48f60358-71a8-4dea-be07-7f18491fc21f (pk: 2293)>],\n",
       " [<StructureData: uuid: b556282d-7a76-43ab-af1f-4a4b16aba58a (pk: 2297)>],\n",
       " [<StructureData: uuid: 9522bd0e-c963-441b-9cb6-701f2a022ed3 (pk: 2299)>],\n",
       " [<StructureData: uuid: 6c5ff83d-736a-4fb0-a205-936c82f91733 (pk: 2301)>],\n",
       " [<StructureData: uuid: ace6523a-2019-47c4-98a3-48429265f62c (pk: 2306)>],\n",
       " [<StructureData: uuid: 9b57b385-b26b-4a97-b704-feac60605597 (pk: 2308)>],\n",
       " [<StructureData: uuid: db8ee37e-89e8-4e37-a5c9-92a921f2b534 (pk: 2319)>],\n",
       " [<StructureData: uuid: 12dfca56-1f2d-4ea5-bae0-0c3e712f60b1 (pk: 2328)>],\n",
       " [<StructureData: uuid: c47bfedf-2cab-4ecf-842f-3a5662f53770 (pk: 2338)>],\n",
       " [<StructureData: uuid: 46f6b355-1162-4739-9f84-7b2968409b85 (pk: 2358)>],\n",
       " [<StructureData: uuid: 2f4034d0-ad3a-451c-b744-d85ac83e7a2a (pk: 2368)>],\n",
       " [<StructureData: uuid: 5fd428bb-1e4b-4f22-80a3-bad8a7c46ead (pk: 2371)>],\n",
       " [<StructureData: uuid: 3e39897b-124f-4f3f-9e0d-7bac9f2d687c (pk: 2378)>],\n",
       " [<StructureData: uuid: 40d670c8-cb43-4269-825b-6ccf4afba90a (pk: 2380)>],\n",
       " [<StructureData: uuid: 264dd871-f5f0-446b-b007-d209b98b94ea (pk: 2412)>],\n",
       " [<StructureData: uuid: b49c0b5c-76e7-4d0e-bbd1-d6971a67fcc9 (pk: 2417)>],\n",
       " [<StructureData: uuid: c2878876-2db3-49e5-bb72-e26e70c4be41 (pk: 2432)>],\n",
       " [<StructureData: uuid: 6864a490-9aa6-4145-adea-b012b8697836 (pk: 2483)>],\n",
       " [<StructureData: uuid: f47ef250-0cca-4b6c-8931-f545562556fe (pk: 2535)>],\n",
       " [<StructureData: uuid: 02f8205b-7d45-40eb-94f4-04ae391a53ee (pk: 2545)>],\n",
       " [<StructureData: uuid: b31d9bf8-a224-4385-a135-af5872dde0f3 (pk: 2556)>],\n",
       " [<StructureData: uuid: a84a24d8-1041-49f4-b538-3d4b2b561775 (pk: 2564)>],\n",
       " [<StructureData: uuid: d50b3105-16fd-47dd-bdcb-9b180354b4ac (pk: 2570)>],\n",
       " [<StructureData: uuid: 251e391b-9df7-4486-b4f5-8d7ca11aa01a (pk: 2589)>],\n",
       " [<StructureData: uuid: 7233175c-8ff0-4110-b2b4-b1556d8d7105 (pk: 2590)>],\n",
       " [<StructureData: uuid: 48f75ab0-401c-49a7-8253-f3d5601fe8be (pk: 2591)>],\n",
       " [<StructureData: uuid: 67bd8bb7-5093-4041-ab51-83941f16538e (pk: 2592)>],\n",
       " [<StructureData: uuid: 54824d58-4a24-48ed-84bb-3a93a5ae035b (pk: 2593)>],\n",
       " [<StructureData: uuid: 987d30aa-97fd-4bf9-a225-e6a42daa321f (pk: 2594)>],\n",
       " [<StructureData: uuid: 31de0572-9280-489a-bbd4-832c6d256e7e (pk: 2595)>],\n",
       " [<StructureData: uuid: 0a53d883-79c5-416e-b97e-0df5d29a9604 (pk: 2596)>],\n",
       " [<StructureData: uuid: 29093b6c-8496-467a-a480-f41dee8f642c (pk: 2597)>],\n",
       " [<StructureData: uuid: 0aa59f4e-d029-4d55-8768-994217a17d7b (pk: 2598)>],\n",
       " [<StructureData: uuid: 28316317-c1ff-4e2e-948a-2d8ef267d7cf (pk: 2599)>],\n",
       " [<StructureData: uuid: 69750ad8-1bda-482f-a04a-4bff7d56d37b (pk: 2603)>],\n",
       " [<StructureData: uuid: 57685822-05e5-47ee-9e6b-fdc433432d18 (pk: 2605)>],\n",
       " [<StructureData: uuid: a0afc531-39b5-4e20-86cd-0543afcba8cd (pk: 2607)>],\n",
       " [<StructureData: uuid: e39e7a9f-634c-47ba-9467-436dfcf266f3 (pk: 2608)>],\n",
       " [<StructureData: uuid: bf6712ac-68ec-422b-a5a3-3b66c7477756 (pk: 2610)>],\n",
       " [<StructureData: uuid: 0226a217-10e0-41b6-a6d4-02aa4999f71f (pk: 2650)>],\n",
       " [<StructureData: uuid: c9af3a3e-3422-418c-b6e4-e7f835febe46 (pk: 2657)>],\n",
       " [<StructureData: uuid: d4a99146-57eb-4f4c-8423-e650862bdd60 (pk: 2664)>],\n",
       " [<StructureData: uuid: 6b1e9f7f-8655-49fd-b7b7-f2356dfa822f (pk: 2671)>],\n",
       " [<StructureData: uuid: 58e3e9eb-9c4e-4787-a259-a42cc2ea036a (pk: 2682)>],\n",
       " [<StructureData: uuid: 751f2386-3d2b-494b-b9f1-eb53202830da (pk: 2702)>],\n",
       " [<StructureData: uuid: e16e7129-53cb-403d-85d4-fb7a76e9c8b2 (pk: 2708)>],\n",
       " [<StructureData: uuid: 29d02818-0f3b-42b2-b7d7-579ae0e1ba98 (pk: 2723)>],\n",
       " [<StructureData: uuid: ae19590b-564e-413e-b894-49c574b76f98 (pk: 2763)>],\n",
       " [<StructureData: uuid: a3bd984a-60b9-4768-a53c-d5de9e0279ec (pk: 2783)>],\n",
       " [<StructureData: uuid: 86feed87-1099-47fd-8958-34fbb7f7dacf (pk: 2797)>],\n",
       " [<StructureData: uuid: 0c0fd4d6-536e-4e63-9d40-293853b6d90f (pk: 2805)>],\n",
       " [<StructureData: uuid: 5bafc135-3887-446c-93f6-0cc396bff96c (pk: 2816)>],\n",
       " [<StructureData: uuid: f8cb0a43-d097-46e2-93fe-ad8dc32cfddf (pk: 2819)>],\n",
       " [<StructureData: uuid: 985eaf8d-0046-438b-bb91-06c2e229bcdf (pk: 2821)>],\n",
       " [<StructureData: uuid: 07cfbc83-3daf-4347-b564-6ab8031f574e (pk: 2824)>],\n",
       " [<StructureData: uuid: 41454202-5109-4acc-af02-4a55a8e406bd (pk: 2829)>],\n",
       " [<StructureData: uuid: 01f34d82-9627-45fd-a7b8-0826376db913 (pk: 2830)>],\n",
       " [<StructureData: uuid: 79a3a402-3989-4a2b-92ee-65cd9ee47513 (pk: 2842)>],\n",
       " [<StructureData: uuid: 2b548a2c-c474-46c0-b19c-376cfeef6d7b (pk: 2875)>],\n",
       " [<StructureData: uuid: 292091b7-a364-41bb-b838-4505a80a9a48 (pk: 2887)>],\n",
       " [<StructureData: uuid: ee939714-eca5-49c6-8c9c-e263af322511 (pk: 2913)>],\n",
       " [<StructureData: uuid: 9bba277a-58c6-4a9c-b0f6-5b1f2e9b94fe (pk: 2914)>],\n",
       " [<StructureData: uuid: 6667b28b-c8fc-4556-9096-df8400965275 (pk: 2915)>],\n",
       " [<StructureData: uuid: d96a6c53-6acd-453f-b14a-8ce6024b1d0c (pk: 2917)>],\n",
       " [<StructureData: uuid: 840c83a8-83a6-43d1-b0e2-51073580b22f (pk: 2918)>],\n",
       " [<StructureData: uuid: e718ad3f-b3ed-4eb3-9733-26839300e27f (pk: 2919)>],\n",
       " [<StructureData: uuid: 655931a4-a4c5-4cab-8646-89cb34cb12a4 (pk: 2920)>],\n",
       " [<StructureData: uuid: 321b2297-9395-4096-9bee-411a3dc292fa (pk: 2926)>],\n",
       " [<StructureData: uuid: 69ef858a-02f5-4486-bf98-859200f77fd3 (pk: 2927)>],\n",
       " [<StructureData: uuid: 4d39753f-e8aa-4594-872e-c8f3fbe57547 (pk: 2931)>],\n",
       " [<StructureData: uuid: 737039d0-0217-4b63-975c-b4622211bcac (pk: 2942)>],\n",
       " [<StructureData: uuid: 01033dd2-81a9-4e77-861f-dbf5bea9c410 (pk: 2949)>],\n",
       " [<StructureData: uuid: 6c3f4e3d-770f-48b6-bc0e-1c7676fd6ef4 (pk: 2953)>],\n",
       " [<StructureData: uuid: 55dd5e10-c714-41d6-80e8-2ec5150ba521 (pk: 2977)>],\n",
       " [<StructureData: uuid: de48e70c-776b-4295-a0aa-35bf057c35d1 (pk: 2978)>],\n",
       " [<StructureData: uuid: d88c9f70-65f4-494b-9de4-e8ad78a1ab75 (pk: 2989)>],\n",
       " [<StructureData: uuid: 65bae9e2-ed73-406b-8cbd-095b7b62634a (pk: 2992)>],\n",
       " [<StructureData: uuid: 8da92683-9e57-4256-8e58-7a7684856848 (pk: 2994)>],\n",
       " [<StructureData: uuid: 8fb0b01b-f089-469c-9a39-093af3b67a1b (pk: 2999)>],\n",
       " [<StructureData: uuid: ed56077d-6d3c-4164-b3c3-bfdb8c2ef4e6 (pk: 3006)>],\n",
       " [<StructureData: uuid: 31401bbe-e5ee-43aa-bfa1-2464526e0471 (pk: 3018)>],\n",
       " [<StructureData: uuid: a61d60fd-787b-4fe2-b377-906e18d933b5 (pk: 3048)>],\n",
       " [<StructureData: uuid: a9d5454f-772f-45c6-af82-b85dd4f83278 (pk: 3050)>],\n",
       " [<StructureData: uuid: 374ea5a4-3ecc-48c2-a885-903f27e7e1c7 (pk: 3119)>],\n",
       " [<StructureData: uuid: 871e8ce6-7571-4004-8a03-fae6e6c0301d (pk: 3139)>],\n",
       " [<StructureData: uuid: 35f945d9-6183-42f6-bd80-1b33996d28d2 (pk: 3140)>],\n",
       " [<StructureData: uuid: 245044df-e4c8-426e-80f5-def9c16f9426 (pk: 3142)>],\n",
       " [<StructureData: uuid: 26344f89-4728-4adc-9e7d-03b9b7772f26 (pk: 3143)>],\n",
       " [<StructureData: uuid: 8ce7196f-bc23-49f2-8556-8170079fcff8 (pk: 3145)>],\n",
       " [<StructureData: uuid: b0fb1483-1653-462f-8b5a-f98b29c15063 (pk: 3169)>],\n",
       " [<StructureData: uuid: 69312d64-7f22-49eb-beb6-5fbf21f93e06 (pk: 3175)>],\n",
       " [<StructureData: uuid: bd40ba98-95fe-4b35-8515-d88b4e2d5d2a (pk: 3220)>],\n",
       " [<StructureData: uuid: 63644d21-4377-4cc3-8d62-44096bdeba3c (pk: 3229)>],\n",
       " [<StructureData: uuid: 6a08d389-5627-41b7-9218-328e5edfb914 (pk: 3231)>],\n",
       " [<StructureData: uuid: ac622c5f-67e8-4c31-a7f9-8a5cfa9dfff6 (pk: 3232)>],\n",
       " [<StructureData: uuid: ed5f2de7-ac62-4837-a7d6-406dd3c52790 (pk: 3233)>],\n",
       " [<StructureData: uuid: a3668f1c-1444-4939-8972-93d0e218bb82 (pk: 3234)>],\n",
       " [<StructureData: uuid: f5a4596c-bbaa-40e4-bc8c-55473a8bcbf4 (pk: 3236)>],\n",
       " [<StructureData: uuid: f7b85edb-2dce-4dd0-814e-a98271824b3b (pk: 3241)>],\n",
       " [<StructureData: uuid: 26267c81-057e-46dc-9d8f-387c1586baac (pk: 3244)>],\n",
       " [<StructureData: uuid: 799c62f3-43ea-4a27-89ef-312e172ccdd2 (pk: 3246)>],\n",
       " [<StructureData: uuid: 4e7cb4b9-1ced-4369-a128-871bab13fa92 (pk: 3247)>],\n",
       " [<StructureData: uuid: 55502ba4-209b-4c08-b32b-cb2c475c4ab0 (pk: 3248)>],\n",
       " [<StructureData: uuid: 74da78a5-88db-41f2-a4c4-da81c4a1af90 (pk: 3249)>],\n",
       " [<StructureData: uuid: cf62ccad-237d-4274-8f47-eb2492360a3e (pk: 3259)>],\n",
       " [<StructureData: uuid: 89dacd1c-59db-4748-9662-04281bfb42e3 (pk: 3273)>],\n",
       " [<StructureData: uuid: 68087ae9-9d48-4c1c-8023-0e88eefd63a6 (pk: 3285)>],\n",
       " [<StructureData: uuid: 32408d6c-4303-4b08-ad36-ce87160f7727 (pk: 3286)>],\n",
       " [<StructureData: uuid: b7854dd7-9fa7-4b80-8ed1-17186e0771d4 (pk: 3293)>],\n",
       " [<StructureData: uuid: 75303f8a-02e7-483c-ab3b-63e9e0fc3e4f (pk: 3301)>],\n",
       " [<StructureData: uuid: 1f917d76-c429-44f4-b391-7c8268238a89 (pk: 3306)>],\n",
       " [<StructureData: uuid: 7c1818be-8b41-411a-8e9f-8fa5848bbff1 (pk: 3319)>],\n",
       " [<StructureData: uuid: 20d69fb5-ed0a-48c5-ab28-97dac620bf09 (pk: 3323)>],\n",
       " [<StructureData: uuid: ffae249a-4561-4978-9346-368b661d52ed (pk: 3333)>],\n",
       " [<StructureData: uuid: b278a1b5-53c5-4c6c-917c-a228c2e63e13 (pk: 3341)>],\n",
       " [<StructureData: uuid: a187da6b-c065-4bba-9f34-812ce2cc5e2b (pk: 3387)>],\n",
       " [<StructureData: uuid: 331af8a5-2f93-4f17-b458-452035525a10 (pk: 3398)>],\n",
       " [<StructureData: uuid: e964f94a-cc6f-4475-a0d9-ff45c5f8c167 (pk: 3407)>],\n",
       " [<StructureData: uuid: 0d0f620d-f0a1-4ed5-adc6-67f9e14818d2 (pk: 3410)>],\n",
       " [<StructureData: uuid: dfed795f-0109-4727-84b2-8247eec294b3 (pk: 3416)>],\n",
       " [<StructureData: uuid: 81604d1b-70f3-4a25-86f4-677f187c59db (pk: 3419)>],\n",
       " [<StructureData: uuid: 94d5e2d1-7f63-447b-8d92-dfdf5f45d81c (pk: 3421)>],\n",
       " [<StructureData: uuid: 6dadfd46-6c63-45b6-a344-fc48b851fb0c (pk: 3443)>],\n",
       " [<StructureData: uuid: 96a5613d-dc4b-40a9-bb55-69842c34a830 (pk: 3450)>],\n",
       " [<StructureData: uuid: 4fa02b07-d715-45d2-998d-d55d0fc81061 (pk: 3480)>],\n",
       " [<StructureData: uuid: 26735cc7-ea2c-4514-9da5-5be046cfaf0f (pk: 3481)>],\n",
       " [<StructureData: uuid: b2565f3c-79ca-42b7-b01a-81b33cd631f4 (pk: 3491)>],\n",
       " [<StructureData: uuid: 5b05a32c-e212-4a0e-8116-b051792bf187 (pk: 3494)>],\n",
       " [<StructureData: uuid: 254e5a86-7478-4b91-ab2d-7e980eced9be (pk: 3509)>],\n",
       " [<StructureData: uuid: 6337c5ca-a25e-4bdc-af0a-da4f492d930b (pk: 3540)>],\n",
       " [<StructureData: uuid: 0c35425e-5ea6-4add-a4b8-fc3911e87912 (pk: 3543)>],\n",
       " [<StructureData: uuid: 89dd44e6-5728-4afa-829c-f2b41f293db6 (pk: 3554)>],\n",
       " [<StructureData: uuid: 433b423f-cbf0-4fb7-a8dd-83364ecd90e6 (pk: 3562)>],\n",
       " [<StructureData: uuid: d056e851-a52a-4f0c-aadb-9ee5fb2d5a39 (pk: 3572)>],\n",
       " [<StructureData: uuid: ebbaa8d2-58c1-4d15-abb1-b9749d01301e (pk: 3575)>],\n",
       " [<StructureData: uuid: ff16a9be-be24-45a3-a190-bbbf76459073 (pk: 3578)>],\n",
       " [<StructureData: uuid: 312c8afb-d459-4f3c-919a-9ed7dc1535af (pk: 3579)>],\n",
       " [<StructureData: uuid: 19b27bcd-6ef6-4508-a39d-851fa407f47a (pk: 3590)>],\n",
       " [<StructureData: uuid: f7e101ff-682c-4833-8933-5e26cf492003 (pk: 3598)>],\n",
       " [<StructureData: uuid: 0cb516e4-793c-4092-a26d-f954baca27e0 (pk: 3599)>],\n",
       " [<StructureData: uuid: 2d2bddde-80e3-424d-88ef-baec49f8fa8b (pk: 3600)>],\n",
       " [<StructureData: uuid: a7c956f7-e60f-4def-8846-d58e8f2e4c64 (pk: 3601)>],\n",
       " [<StructureData: uuid: 5c130928-a414-4b81-b50f-16bed6e1f0a8 (pk: 3602)>],\n",
       " [<StructureData: uuid: 40a224bf-c9c9-4cb6-9cfc-08d5cacf845c (pk: 3603)>],\n",
       " [<StructureData: uuid: 599ef74b-ee60-40f4-816c-e58310d819a7 (pk: 3604)>],\n",
       " [<StructureData: uuid: d2a0bfc7-7506-493c-9393-fa69a91daae7 (pk: 3605)>],\n",
       " [<StructureData: uuid: f238e23b-0ca1-4ff1-8fab-4c3720966756 (pk: 3610)>],\n",
       " [<StructureData: uuid: 2d05deb3-3e4e-4e15-8091-58869add3d53 (pk: 3613)>],\n",
       " [<StructureData: uuid: e7cc3418-28a9-41f2-856b-e144b41778f7 (pk: 3616)>],\n",
       " [<StructureData: uuid: e1fc2c63-ba39-4c79-99c5-d36637f1c3f1 (pk: 3645)>],\n",
       " [<StructureData: uuid: 24b7aef2-11e0-4144-b217-c69947e950e5 (pk: 3656)>],\n",
       " [<StructureData: uuid: 79a400aa-6f13-4aa2-b5ca-2e5f3a5d2fc4 (pk: 3657)>],\n",
       " [<StructureData: uuid: 64b20793-85dc-4aac-a47f-a8b498202141 (pk: 3662)>],\n",
       " [<StructureData: uuid: cd21db6e-a429-4bbb-bd78-0605a4363729 (pk: 3715)>],\n",
       " [<StructureData: uuid: 0cd545fc-e105-47c9-af9e-12a5d364c121 (pk: 3728)>],\n",
       " [<StructureData: uuid: 1ea3a33e-c009-4a87-82a5-9f723031a7ca (pk: 3730)>],\n",
       " [<StructureData: uuid: 00afea82-862b-4dcc-a88b-a378d1bc316f (pk: 3735)>],\n",
       " [<StructureData: uuid: 783c5ae4-462c-44dc-a72c-15e3eef134ff (pk: 3744)>],\n",
       " [<StructureData: uuid: fe715a79-1945-45c2-86ca-c9e4438ca00f (pk: 3746)>],\n",
       " [<StructureData: uuid: cd9f8450-76ac-494f-82a7-8ea3968e404a (pk: 3751)>],\n",
       " [<StructureData: uuid: 0fbf5e1c-8632-436a-9008-075b4e786a48 (pk: 3756)>],\n",
       " [<StructureData: uuid: 280d41a8-c8de-4e16-a8f3-59492234c819 (pk: 3760)>],\n",
       " [<StructureData: uuid: 75283b7b-5804-4eab-a650-cf84dd5b20a0 (pk: 3774)>],\n",
       " [<StructureData: uuid: 175aa817-752a-448a-b7d3-0c390abb2437 (pk: 3776)>],\n",
       " [<StructureData: uuid: 3e51c98c-c615-4ab9-865a-6552d380a4c1 (pk: 3777)>],\n",
       " [<StructureData: uuid: 8c651822-c7ba-4fe1-b040-e8b7c42838c5 (pk: 3779)>],\n",
       " [<StructureData: uuid: 7ed0b7ff-2938-473e-b31a-2f85322b2421 (pk: 3780)>],\n",
       " [<StructureData: uuid: b3036929-afc3-408d-a3b9-73f6c731ab30 (pk: 3781)>],\n",
       " [<StructureData: uuid: 50eb2f56-4942-470a-a078-d440b1d3d23a (pk: 3782)>],\n",
       " [<StructureData: uuid: 6e4363d7-8f96-4407-9d97-ce5622d4f498 (pk: 3783)>],\n",
       " [<StructureData: uuid: 7450ac39-efca-4e0a-8770-9dd30b272741 (pk: 3786)>],\n",
       " [<StructureData: uuid: a4a17738-c87a-4086-a948-f56b39df2e57 (pk: 3787)>],\n",
       " [<StructureData: uuid: 091c5dd1-32c8-4070-9246-e627bddb5b48 (pk: 3806)>],\n",
       " [<StructureData: uuid: d3d51b16-de68-4693-80f0-1aa5b235ade4 (pk: 3814)>],\n",
       " [<StructureData: uuid: e78e3015-8c6e-46bd-8841-7bb1239a55eb (pk: 3822)>],\n",
       " [<StructureData: uuid: 16858ce4-6eeb-4e25-872a-3766eecf6491 (pk: 3826)>],\n",
       " [<StructureData: uuid: 72591fc6-7e7f-4ac8-9833-b12856e5635e (pk: 3827)>],\n",
       " [<StructureData: uuid: 837bad9c-5dde-4039-a95f-f7ea1f328638 (pk: 3828)>],\n",
       " [<StructureData: uuid: 05e49753-178c-433d-8ff4-03510e34efee (pk: 3831)>],\n",
       " [<StructureData: uuid: c2c46515-1e7a-416b-81bf-7260d619a20c (pk: 3832)>],\n",
       " [<StructureData: uuid: 733aadaf-bade-49b0-b724-3cc0a95ce303 (pk: 3833)>],\n",
       " [<StructureData: uuid: 934fdc92-36da-413d-8b48-85042e7f68e5 (pk: 3844)>],\n",
       " [<StructureData: uuid: d4cae8d4-1e1c-4fff-93a8-b9166a3be8b0 (pk: 3858)>],\n",
       " [<StructureData: uuid: 29c9803c-641e-4bd2-bb8b-532ebd0669ea (pk: 3865)>],\n",
       " [<StructureData: uuid: 057fc325-0e7d-4a58-bd97-91756735fdb7 (pk: 3880)>],\n",
       " [<StructureData: uuid: 08c34099-bfd7-4c7f-89ea-54c55cbe01bb (pk: 3889)>],\n",
       " [<StructureData: uuid: c3285a08-f04b-48a1-8ab5-931d5eda4baf (pk: 3895)>],\n",
       " [<StructureData: uuid: 2251fced-64d1-46bd-b0ee-0967dd0bff27 (pk: 3909)>],\n",
       " [<StructureData: uuid: d299c14d-253a-4725-a947-737b6b097343 (pk: 3918)>],\n",
       " [<StructureData: uuid: 18326cdd-a8f4-4775-9707-64344970066e (pk: 3926)>],\n",
       " [<StructureData: uuid: 4c9ba03a-1050-414f-b421-20446fdd2287 (pk: 3927)>],\n",
       " [<StructureData: uuid: 50f734b1-6da3-415a-999a-05639a89b2df (pk: 3929)>],\n",
       " [<StructureData: uuid: 1c42bf20-ab30-4209-a135-bef8a1c50875 (pk: 3930)>],\n",
       " [<StructureData: uuid: 1d00a7f2-89cb-4093-8023-f14eab383b23 (pk: 3931)>],\n",
       " [<StructureData: uuid: ff94709a-1a34-43d3-9122-a0ad9d4b8e5c (pk: 3938)>],\n",
       " [<StructureData: uuid: c8d20334-dd35-412a-9e27-b145b2f931ad (pk: 3951)>],\n",
       " [<StructureData: uuid: 951e0281-d6b8-46fd-8ce6-b99a0e8fdcef (pk: 3960)>],\n",
       " [<StructureData: uuid: f8df6eec-b98f-4f84-9b0b-ea7c56add50b (pk: 3964)>],\n",
       " [<StructureData: uuid: 0b41f7ca-3ac7-4275-bf34-5495f4e9b464 (pk: 3965)>],\n",
       " [<StructureData: uuid: ef417b01-b912-4a6c-9999-7ac68c870ab6 (pk: 3968)>],\n",
       " [<StructureData: uuid: f608b0aa-938b-4ce4-a412-5793565edbfb (pk: 3972)>],\n",
       " [<StructureData: uuid: a1618368-3fc5-44a8-b3cb-b2ea1be02cc6 (pk: 3973)>],\n",
       " [<StructureData: uuid: d6bcb57f-a14b-4fbf-bafc-a75cafef8ff1 (pk: 3985)>],\n",
       " [<StructureData: uuid: 32f9906d-b296-4df3-a428-3abae27acc4d (pk: 3986)>],\n",
       " [<StructureData: uuid: 819943ef-2bb8-49c2-a4be-a399a22061da (pk: 3987)>],\n",
       " [<StructureData: uuid: 8b44fe4a-cf95-4cfd-aa51-2fb8079a326d (pk: 3991)>],\n",
       " [<StructureData: uuid: 4b0b94b3-b7ad-4a8e-a438-bb3b8960eea4 (pk: 3994)>],\n",
       " [<StructureData: uuid: bb1f74b7-8dd5-444f-a198-828f59390c6f (pk: 3998)>],\n",
       " [<StructureData: uuid: f3ea12d6-7c1d-41a2-a900-63f63434ef27 (pk: 4003)>],\n",
       " [<StructureData: uuid: 997be6f7-fc20-4749-ba78-eff6062b2b05 (pk: 4005)>],\n",
       " [<StructureData: uuid: 2bebed58-b294-4021-869d-2b3c95c51496 (pk: 4011)>],\n",
       " [<StructureData: uuid: 60abe5ce-d5b0-49c4-9104-df47c190ce4c (pk: 4015)>],\n",
       " [<StructureData: uuid: eba2658e-2b4d-422e-8678-4ddc7f13c589 (pk: 4023)>],\n",
       " [<StructureData: uuid: d34523c8-0eb7-41c7-91fe-bb38f6dd150c (pk: 4024)>],\n",
       " [<StructureData: uuid: 07483cad-58fb-426f-964c-c8aecda6304d (pk: 4029)>],\n",
       " [<StructureData: uuid: 91ea9908-9411-4580-925d-5d1c40f2ea3f (pk: 4032)>],\n",
       " [<StructureData: uuid: 03b3ae04-5cfd-49dc-a2e7-0e7f0e5c0e94 (pk: 4033)>],\n",
       " [<StructureData: uuid: 907199c1-13b2-4ad9-ba3f-ffeb7b95e5e5 (pk: 4055)>],\n",
       " [<StructureData: uuid: 41c98b52-1193-4bce-9fb5-e88d1cbeaefd (pk: 4064)>],\n",
       " [<StructureData: uuid: 8183a91b-4c03-4770-8d96-1249b7d7576c (pk: 4086)>],\n",
       " [<StructureData: uuid: 593bacdc-8e9c-4f4c-ac4d-6adc844d9e9d (pk: 4095)>],\n",
       " [<StructureData: uuid: ceffd783-6de3-4271-b1d1-c57cd0cf1986 (pk: 4101)>],\n",
       " [<StructureData: uuid: b5f2d1e8-36cd-4e46-b233-97ccd0560083 (pk: 4120)>],\n",
       " [<StructureData: uuid: fafbd310-8cd0-485e-8151-28eacfbb89f7 (pk: 4121)>],\n",
       " [<StructureData: uuid: bf4918e0-40f7-44a0-b3fc-16aa16fceb73 (pk: 4130)>],\n",
       " [<StructureData: uuid: e3cd0ac0-d040-487e-9ac8-111633606c55 (pk: 4131)>],\n",
       " [<StructureData: uuid: 8e86e4dc-357b-4867-9e21-d781f6241f31 (pk: 4132)>],\n",
       " [<StructureData: uuid: 56ca0f3e-09f3-4449-9403-370859a8df03 (pk: 4135)>],\n",
       " [<StructureData: uuid: 216fd0a5-cecc-442c-a248-a302a0f42b56 (pk: 4150)>],\n",
       " [<StructureData: uuid: 68a015ab-04fa-4932-bed1-44dfc4baf4f4 (pk: 4166)>],\n",
       " [<StructureData: uuid: beb799d4-756b-4cfc-a97c-1d3bf2d474a3 (pk: 4176)>],\n",
       " [<StructureData: uuid: 956b0703-d52c-4d3a-b923-c926c8601dab (pk: 4224)>],\n",
       " [<StructureData: uuid: 46f3a83a-bd22-4f5e-9629-6652bde594ee (pk: 4230)>],\n",
       " [<StructureData: uuid: 359bc31f-f9e7-48f4-87ce-347bac5d5431 (pk: 4269)>],\n",
       " [<StructureData: uuid: 933b0eb9-1068-4ee8-a600-fdc134b35438 (pk: 4271)>],\n",
       " [<StructureData: uuid: 951a5b82-045a-493b-a188-975b5e5edc9a (pk: 4273)>],\n",
       " [<StructureData: uuid: 68d5b4c2-f43a-48ac-9cd3-e9f405f89765 (pk: 4282)>],\n",
       " [<StructureData: uuid: 87d07811-264d-44c3-bdcf-f645fdd4539b (pk: 4291)>],\n",
       " [<StructureData: uuid: 3a56c005-33d5-4dc0-85ce-ee4f29530df4 (pk: 4293)>],\n",
       " [<StructureData: uuid: 24367c67-dfa8-43f1-8790-0b10191842c8 (pk: 4297)>],\n",
       " [<StructureData: uuid: b9b07519-4c9d-44cc-b55f-881099be2480 (pk: 4321)>],\n",
       " [<StructureData: uuid: 4ba61257-56af-43fc-add7-d33b0b4d542a (pk: 4334)>],\n",
       " [<StructureData: uuid: b30cabd3-6d73-4b18-b7fd-b9e9e73679d2 (pk: 4338)>],\n",
       " [<StructureData: uuid: 608e2e50-fa4a-4863-bbdd-d9117de58b0f (pk: 4350)>],\n",
       " [<StructureData: uuid: 85f20f8f-4703-4c15-b0c4-6dee6f5b5eb3 (pk: 4358)>],\n",
       " [<StructureData: uuid: 8973e74f-6463-4207-8c33-21bc3ec2611d (pk: 4368)>],\n",
       " [<StructureData: uuid: 9dfedaa2-fdce-4a41-9678-124632e113c7 (pk: 4374)>],\n",
       " [<StructureData: uuid: 4a5eeca6-a71f-48c7-8e6c-b52760aa358e (pk: 4381)>],\n",
       " [<StructureData: uuid: c72207af-de33-4ecb-8d7e-f90d004be7c0 (pk: 4384)>],\n",
       " [<StructureData: uuid: 5f873c48-2756-407e-942b-87ac693f0d06 (pk: 4392)>],\n",
       " [<StructureData: uuid: 0a58813e-87cf-4361-8cfa-df1d6d863389 (pk: 4395)>],\n",
       " [<StructureData: uuid: f1c573c8-e8c7-40fb-aa8b-7ccefa8d7269 (pk: 4405)>],\n",
       " [<StructureData: uuid: 2d2943c5-140a-4faf-bf9c-40bb4a90245d (pk: 4421)>],\n",
       " [<StructureData: uuid: 7ec43ef8-c1da-4d93-b7f1-b0faf4316a31 (pk: 4422)>],\n",
       " [<StructureData: uuid: dc427c08-3086-4fab-863c-b4a61b7805e1 (pk: 4428)>],\n",
       " [<StructureData: uuid: 6025ccd5-901f-415c-baaf-2cf6fb29a394 (pk: 4444)>],\n",
       " [<StructureData: uuid: 6275dd5b-c7c8-4ff3-84dc-bfa226e959f8 (pk: 4465)>],\n",
       " [<StructureData: uuid: 3fef81b7-8330-4030-a113-cb03167026f4 (pk: 4474)>],\n",
       " [<StructureData: uuid: 5f5a2f62-15b9-4ef1-9cb0-8334c5a092fa (pk: 4489)>],\n",
       " [<StructureData: uuid: d363b50d-c5ec-4bbf-9293-bd59456e133e (pk: 4493)>],\n",
       " [<StructureData: uuid: cb5b9b1a-000b-443a-9d33-72b538a2f1a9 (pk: 4500)>],\n",
       " [<StructureData: uuid: 684b9cb6-c774-4e65-a1cd-c43f93f62b63 (pk: 4503)>],\n",
       " [<StructureData: uuid: 38ff91e9-afc5-485c-b002-e20d627c3b2d (pk: 4522)>],\n",
       " [<StructureData: uuid: 37c5613e-1e3f-452d-8ce0-6280a527b7a4 (pk: 4533)>],\n",
       " [<StructureData: uuid: 896109f9-46e1-45b7-acac-8c208405b843 (pk: 4539)>],\n",
       " [<StructureData: uuid: a9954e70-c3a4-4cac-8e0d-0d72c9cf8fa1 (pk: 4565)>],\n",
       " [<StructureData: uuid: 63f967b5-2c86-4c28-a693-6f99846f72b4 (pk: 4572)>],\n",
       " [<StructureData: uuid: aed3e548-ec4d-4320-9662-7c4643b04d64 (pk: 4608)>],\n",
       " [<StructureData: uuid: 978950c8-39aa-4646-ad51-7035e3691d2d (pk: 4617)>],\n",
       " [<StructureData: uuid: 8c8aeaef-7d19-4e62-9c6d-b5bee45bf8d1 (pk: 4628)>],\n",
       " [<StructureData: uuid: 2ad119ee-abd8-47eb-9522-1be0eaea499a (pk: 4630)>],\n",
       " [<StructureData: uuid: 4ce81a45-18ae-4a01-b656-46916a06aa8f (pk: 4638)>],\n",
       " [<StructureData: uuid: a97a205a-a5df-4700-b125-7ff0991017e6 (pk: 4650)>],\n",
       " [<StructureData: uuid: 3caa6da6-2186-4721-9d85-538bee94e357 (pk: 4660)>],\n",
       " [<StructureData: uuid: 54f4827a-6b9d-4138-91dd-b18f2119fadb (pk: 4665)>],\n",
       " [<StructureData: uuid: d0463e79-7121-4e33-a2c0-9b9c0d378d38 (pk: 4666)>],\n",
       " [<StructureData: uuid: 8d2d2f0f-cf14-4247-be13-6136ca84d770 (pk: 2)>],\n",
       " [<StructureData: uuid: 1eefd0f6-d7d9-4681-bae8-d882cb3e4340 (pk: 58)>],\n",
       " [<StructureData: uuid: 57b92419-f024-4f93-880b-3c89cc5e1c5d (pk: 114)>],\n",
       " [<StructureData: uuid: b4e020d5-d737-455c-8d30-1e2e07d20268 (pk: 170)>],\n",
       " [<StructureData: uuid: 57f4ca96-2ebb-441f-a828-080e7db7a152 (pk: 217)>],\n",
       " [<StructureData: uuid: c91903cf-74cd-4bce-9c63-fce6516f7bdf (pk: 235)>],\n",
       " [<StructureData: uuid: d32fde97-6a30-4493-b47c-d1476b76375c (pk: 286)>],\n",
       " [<StructureData: uuid: c8c47f33-849d-4a48-bf86-46bdf985a4ff (pk: 338)>],\n",
       " [<StructureData: uuid: 5c7007b8-6128-48b2-b963-b95bb9ee807e (pk: 399)>],\n",
       " [<StructureData: uuid: afd4fcc4-2531-4f8c-8100-91d9ce43b6b2 (pk: 467)>],\n",
       " [<StructureData: uuid: 565172e0-57fa-48e7-85bc-e7b4d4c7c5d9 (pk: 493)>],\n",
       " [<StructureData: uuid: 57a14dc8-900b-48ab-910e-a2b42e269a78 (pk: 520)>],\n",
       " [<StructureData: uuid: 121da390-5c8e-49f7-8dae-5cf6db9d3006 (pk: 563)>],\n",
       " [<StructureData: uuid: 3fe64ac4-b082-4ce3-8f17-c5500d9d44c8 (pk: 620)>],\n",
       " [<StructureData: uuid: 51ee8333-b550-4389-9f5d-7b9f9fdadf4d (pk: 672)>],\n",
       " [<StructureData: uuid: f1a433ba-f0d1-44af-8f2c-d747618cb69e (pk: 728)>],\n",
       " [<StructureData: uuid: 78abbcb4-7bba-4805-a008-deaa6da59c6c (pk: 782)>],\n",
       " [<StructureData: uuid: d3bcd64f-421e-410e-90da-545e9db6dffa (pk: 840)>],\n",
       " [<StructureData: uuid: 63d4faf8-a427-43db-857c-5dc71287664f (pk: 916)>],\n",
       " [<StructureData: uuid: b05f7c51-691a-455b-9da1-1b9fe1f47014 (pk: 962)>],\n",
       " [<StructureData: uuid: 96468e80-b605-4ad6-b1df-6ab2ae98928d (pk: 968)>],\n",
       " [<StructureData: uuid: 85db9dad-a6f3-4daf-a981-43ee48219996 (pk: 1011)>],\n",
       " [<StructureData: uuid: 2f95a092-a755-4974-97b4-5f371dd79805 (pk: 1028)>],\n",
       " [<StructureData: uuid: b98809f4-7b9b-4d5f-8304-4a88c23401d6 (pk: 1063)>],\n",
       " [<StructureData: uuid: 1603138b-f4d9-41bb-8bc0-c3cfd2af8498 (pk: 1119)>],\n",
       " [<StructureData: uuid: 62b32fd2-0140-4483-9bb7-bb766a23e613 (pk: 1178)>],\n",
       " [<StructureData: uuid: da885384-b59a-49d4-a145-f3ae5400fbd6 (pk: 1252)>],\n",
       " [<StructureData: uuid: a4dd2811-8878-402e-a0ba-f190669a55aa (pk: 1287)>],\n",
       " [<StructureData: uuid: 15b1d607-c753-4790-ba9c-10923c845464 (pk: 1292)>],\n",
       " [<StructureData: uuid: 1461de80-fda5-4a0b-b9ce-50103ae4b452 (pk: 1344)>],\n",
       " [<StructureData: uuid: 5927dc03-7931-4e8c-bd4c-c6cede2b8304 (pk: 1397)>],\n",
       " [<StructureData: uuid: 88682e49-ba33-4ab3-a3d6-1d075501ab5e (pk: 1458)>],\n",
       " [<StructureData: uuid: cad7f983-5379-41a2-914c-f320bec8040d (pk: 1508)>],\n",
       " [<StructureData: uuid: 0c8abf73-88ce-4365-94f8-e1ad64ad8e08 (pk: 1545)>],\n",
       " [<StructureData: uuid: 06c6596d-94ae-4f0b-a558-701cdd530fb8 (pk: 1577)>],\n",
       " [<StructureData: uuid: 0f828dbf-e4a7-437a-afb7-7ec1aec337d8 (pk: 1623)>],\n",
       " [<StructureData: uuid: ab37cb1e-4bc2-4859-a085-ffa6ff982338 (pk: 1679)>],\n",
       " [<StructureData: uuid: 3e27691d-94b4-42f8-b2e3-4794f8fc5447 (pk: 1748)>],\n",
       " [<StructureData: uuid: 84d91c87-ca25-4616-890d-74220e8e19e7 (pk: 1808)>],\n",
       " [<StructureData: uuid: 89c64b2a-6552-4284-9c36-9e204aac74dd (pk: 1857)>],\n",
       " [<StructureData: uuid: 106c0085-b0fd-4067-a138-2eadc73d56c1 (pk: 1900)>],\n",
       " [<StructureData: uuid: eec05e9d-c1a0-4b96-993f-6ee4133dde46 (pk: 1966)>],\n",
       " [<StructureData: uuid: 24be3c01-ee6a-4167-803e-7e3f904fc106 (pk: 2010)>],\n",
       " [<StructureData: uuid: 2bfab8ac-118b-4f52-9c9e-e3a0b2760513 (pk: 2056)>],\n",
       " [<StructureData: uuid: 39a3fd74-8129-4000-9d79-6d36dfa75ef8 (pk: 2066)>],\n",
       " [<StructureData: uuid: 9a7d449f-467f-4eae-a2ae-a89545dd9803 (pk: 2133)>],\n",
       " [<StructureData: uuid: a3c59075-7890-4b48-ad8c-acc72075d084 (pk: 2188)>],\n",
       " [<StructureData: uuid: 2ccd04c2-d055-4b91-9076-40f97357d2f3 (pk: 2232)>],\n",
       " [<StructureData: uuid: 50a3f2e7-3e6f-43bf-8a60-3586ddd811a3 (pk: 2287)>],\n",
       " [<StructureData: uuid: 8aa71cc2-9b8a-4b21-bfc1-bdae460193b8 (pk: 2345)>],\n",
       " [<StructureData: uuid: 92749b00-7eb3-456e-b0a9-571dfcf56a2d (pk: 2408)>],\n",
       " [<StructureData: uuid: 33684f60-7891-463a-b999-bacc6efc7a80 (pk: 2420)>],\n",
       " [<StructureData: uuid: 260fc4a4-0ea8-4136-893e-fd968c1beb88 (pk: 2479)>],\n",
       " [<StructureData: uuid: 4d73f753-d085-4c53-bb69-6c22710a29ec (pk: 2480)>],\n",
       " [<StructureData: uuid: 31308ada-d662-4a5c-9904-6a0c146aa961 (pk: 2519)>],\n",
       " [<StructureData: uuid: 5bb028f1-6726-43b9-ad8d-d9b6b2168efe (pk: 2527)>],\n",
       " [<StructureData: uuid: 44da8eb1-5fcb-497b-bc6f-65bb22cda0eb (pk: 2567)>],\n",
       " [<StructureData: uuid: b9567e12-6e7a-4a14-9a95-dad01f625b0c (pk: 2647)>],\n",
       " [<StructureData: uuid: 109d9424-27c5-4f0c-871a-01c7678c3078 (pk: 2677)>],\n",
       " [<StructureData: uuid: d7dc05f3-3b5c-4483-b161-c5a47becdb1b (pk: 2756)>],\n",
       " [<StructureData: uuid: e981fbe7-2e0e-4b2a-af4f-64cbfb63552f (pk: 2789)>],\n",
       " [<StructureData: uuid: c786e78a-4117-469e-a421-0096b3474ddf (pk: 2836)>],\n",
       " [<StructureData: uuid: 14c17b15-9ffd-4c35-b000-c70007588a69 (pk: 2847)>],\n",
       " [<StructureData: uuid: ed2f1f28-5df7-4ea0-9a4e-17927d7a8a17 (pk: 2910)>],\n",
       " [<StructureData: uuid: e64e5a98-1ab7-4de0-b21b-b048bf86341e (pk: 2911)>],\n",
       " [<StructureData: uuid: 5488757e-b5e1-4b62-acf9-9a08de8f684a (pk: 2967)>],\n",
       " [<StructureData: uuid: b66825c7-e06d-4165-a3e4-e79e77cb2063 (pk: 3013)>],\n",
       " [<StructureData: uuid: 5778efc1-4457-4a07-8174-bfb515d84d00 (pk: 3077)>],\n",
       " [<StructureData: uuid: 4b7d32c1-9f1a-4384-bc9e-da20b8591fa4 (pk: 3131)>],\n",
       " [<StructureData: uuid: d20f8cc9-cd10-4b00-b399-574268bb976c (pk: 3201)>],\n",
       " [<StructureData: uuid: c6d02247-5d2d-44cf-bf9a-04ca680df864 (pk: 3230)>],\n",
       " [<StructureData: uuid: d59bb12e-8802-4ce2-899b-6469a791afe1 (pk: 3235)>],\n",
       " [<StructureData: uuid: 3ab3f2ef-b4a5-4c43-87d5-a955599fced1 (pk: 3290)>],\n",
       " [<StructureData: uuid: 76a44fc8-4c26-4de9-af4d-e8aa21eab576 (pk: 3350)>],\n",
       " [<StructureData: uuid: 42361400-bdce-4b29-9045-e33b8a7c18b1 (pk: 3402)>],\n",
       " [<StructureData: uuid: 60ea5811-3e89-473b-98d2-4f9a92d9a07c (pk: 3472)>],\n",
       " [<StructureData: uuid: 28e81f2a-ee95-4bf8-a004-6acd1f521264 (pk: 3525)>],\n",
       " [<StructureData: uuid: 90efbb1c-c9b8-472b-a312-99290e2321e0 (pk: 3570)>],\n",
       " [<StructureData: uuid: b784dc64-9a8e-45e7-b6ce-524deb71b13c (pk: 3641)>],\n",
       " [<StructureData: uuid: f606153f-8ca0-42a2-9eec-7e5f23f784d6 (pk: 3667)>],\n",
       " [<StructureData: uuid: b1d67f0a-3cf0-436f-998b-c684fcd4503f (pk: 3683)>],\n",
       " [<StructureData: uuid: c4e6a2aa-004e-4373-9f13-398ba579deea (pk: 3740)>],\n",
       " [<StructureData: uuid: 70b68db3-77b7-4952-ae21-d8a9f3aea30e (pk: 3797)>],\n",
       " [<StructureData: uuid: 160a5ace-df0c-422a-996d-a050a1d7bc55 (pk: 3853)>],\n",
       " [<StructureData: uuid: bb5b6c93-dc84-40a0-9ac9-6793044c16ac (pk: 3907)>],\n",
       " [<StructureData: uuid: 29ae3911-a1db-44f2-b88b-68fbd365fb1d (pk: 3958)>],\n",
       " [<StructureData: uuid: 47daae4c-79cf-4612-89b2-5b9a52df573d (pk: 4013)>],\n",
       " [<StructureData: uuid: e2043ee2-e483-4691-a2e3-8c97a5b14448 (pk: 4080)>],\n",
       " [<StructureData: uuid: b7d6e159-2771-408c-aabc-390f08dc8bc9 (pk: 4129)>],\n",
       " [<StructureData: uuid: 88d7d308-9e97-403a-8fa0-d43c69ed5878 (pk: 4208)>],\n",
       " [<StructureData: uuid: 2386661e-f6ce-4c02-b1e7-d0db75d76469 (pk: 4257)>],\n",
       " [<StructureData: uuid: 8466e349-94da-4fb9-8dbe-7d9a582ce76f (pk: 4288)>],\n",
       " [<StructureData: uuid: c5ee6abf-fe28-4682-b1e5-2ca7d6c8b922 (pk: 4347)>],\n",
       " [<StructureData: uuid: 9ef06025-32ea-46b1-ac80-efa9a7790aa3 (pk: 4403)>],\n",
       " [<StructureData: uuid: e732e724-a3d6-47be-af7a-8c0e615e01d5 (pk: 4462)>],\n",
       " [<StructureData: uuid: dc01eacd-7bf5-4a98-a98b-5d33283cee5d (pk: 4516)>],\n",
       " [<StructureData: uuid: 377e40cd-957b-45c4-bb21-a80b9d6781ca (pk: 4566)>],\n",
       " [<StructureData: uuid: 6ec69457-0ae2-4d15-865f-0e62184ef8f0 (pk: 4622)>],\n",
       " [<StructureData: uuid: 818a4bcf-a0f7-46bf-a74f-ffe01112d07f (pk: 4678)>]]"
      ]
     },
     "execution_count": 8,
     "metadata": {},
     "output_type": "execute_result"
    }
   ],
   "source": [
    "qb = QueryBuilder()\n",
    "qb.append(StructureData)\n",
    "qb.all()"
   ]
  },
  {
   "cell_type": "markdown",
   "metadata": {},
   "source": [
    "Note that this command is very literal and does in fact retrieve **all** the structure nodes that are stored in your database, which may become very slow if your database becomes very large. One solution is to simply tell the `QueryBuilder` that we are for example only interested in 5 structure nodes. This can be done with the `limit` method as follows:"
   ]
  },
  {
   "cell_type": "code",
   "execution_count": 9,
   "metadata": {},
   "outputs": [
    {
     "data": {
      "text/plain": [
       "[[<StructureData: uuid: e97bcfe6-0312-4b6f-bdc4-62cbedfab119 (pk: 7)>],\n",
       " [<StructureData: uuid: 11a13eb6-0579-4729-90d9-c06dd143532e (pk: 21)>],\n",
       " [<StructureData: uuid: bf09f554-624f-4525-bdf3-52b8ec802940 (pk: 26)>],\n",
       " [<StructureData: uuid: 4909f51c-e037-4ba1-9b8f-0e8f7477b5ef (pk: 27)>],\n",
       " [<StructureData: uuid: b69afaa9-761e-4377-ae77-f952a60a8887 (pk: 28)>]]"
      ]
     },
     "execution_count": 9,
     "metadata": {},
     "output_type": "execute_result"
    }
   ],
   "source": [
    "qb = QueryBuilder()\n",
    "qb.append(StructureData)\n",
    "qb.limit(5)\n",
    "qb.all()"
   ]
  },
  {
   "cell_type": "markdown",
   "metadata": {},
   "source": [
    "Another option is to simply use the concept of array slicing, native to python, to specify a subset of the total return set to be returned"
   ]
  },
  {
   "cell_type": "code",
   "execution_count": 10,
   "metadata": {},
   "outputs": [
    {
     "data": {
      "text/plain": [
       "[[<StructureData: uuid: e97bcfe6-0312-4b6f-bdc4-62cbedfab119 (pk: 7)>],\n",
       " [<StructureData: uuid: 11a13eb6-0579-4729-90d9-c06dd143532e (pk: 21)>],\n",
       " [<StructureData: uuid: bf09f554-624f-4525-bdf3-52b8ec802940 (pk: 26)>],\n",
       " [<StructureData: uuid: 4909f51c-e037-4ba1-9b8f-0e8f7477b5ef (pk: 27)>],\n",
       " [<StructureData: uuid: b69afaa9-761e-4377-ae77-f952a60a8887 (pk: 28)>],\n",
       " [<StructureData: uuid: efe1b5c8-4aec-4738-ba86-707096a576af (pk: 39)>],\n",
       " [<StructureData: uuid: 0396bc2b-7bd9-4a0b-a70a-5b0bcc323ae6 (pk: 52)>]]"
      ]
     },
     "execution_count": 10,
     "metadata": {},
     "output_type": "execute_result"
    }
   ],
   "source": [
    "qb.limit(None)\n",
    "qb.all()[:7]"
   ]
  },
  {
   "cell_type": "markdown",
   "metadata": {},
   "source": [
    "If we want to know a little bit more about the retrieved structure nodes, we can ask the `QueryBuilder` to return an iterator which we can then use in a straightforward `for`-loop. This allows one for example to print the formula of the structures"
   ]
  },
  {
   "cell_type": "code",
   "execution_count": 11,
   "metadata": {},
   "outputs": [
    {
     "name": "stdout",
     "output_type": "stream",
     "text": [
      "BaO3Zr\n",
      "CsNbO3\n",
      "O3PbZr\n",
      "NbO3Rb\n",
      "O3PbTi\n"
     ]
    }
   ],
   "source": [
    "qb = QueryBuilder()\n",
    "qb.append(StructureData)\n",
    "qb.limit(5)\n",
    "for structure, in qb.iterall():\n",
    "    print structure.get_formula()"
   ]
  },
  {
   "cell_type": "markdown",
   "metadata": {},
   "source": [
    "This is just a simple example how we can employ the `QueryBuilder` to get details about the contents of our database. We have now seen simple queries for the `Node` and `StructureData` classes of nodes, but the same rules apply to all the `AiiDA` node classes. For example we may want to count the number of entries for each of the node classes in the following list"
   ]
  },
  {
   "cell_type": "code",
   "execution_count": 12,
   "metadata": {
    "collapsed": true
   },
   "outputs": [],
   "source": [
    "class_list = [Node, StructureData, KpointsData, ParameterData, UpfData]"
   ]
  },
  {
   "cell_type": "markdown",
   "metadata": {},
   "source": [
    "Using the tools we have learned so far, we can build a table of the number of occurrences of each of these node classes that are stored in our database. We simply loop over the `class_list` and create a `QueryBuilder` for each and count the entries."
   ]
  },
  {
   "cell_type": "code",
   "execution_count": 13,
   "metadata": {},
   "outputs": [
    {
     "name": "stdout",
     "output_type": "stream",
     "text": [
      "           Node |   4680\n",
      "  StructureData |    615\n",
      "    KpointsData |    857\n",
      "  ParameterData |   1332\n",
      "        UpfData |     99\n"
     ]
    }
   ],
   "source": [
    "for class_name in class_list:\n",
    "    qb = QueryBuilder()\n",
    "    qb.append(class_name)\n",
    "    print '{:>15} | {:6}'.format(class_name.__name__, qb.count())"
   ]
  },
  {
   "cell_type": "markdown",
   "metadata": {},
   "source": [
    "If all went well, you should see something like the following, where of course the numbers may differ for your database\n",
    "\n",
    "Class name     | Entries\n",
    "---------------|--------\n",
    " Node          | 10273 \n",
    " StructureData | 271   \n",
    " KpointsData   | 953   \n",
    " ParameterData | 2922  \n",
    " UpfData       | 85    "
   ]
  },
  {
   "cell_type": "markdown",
   "metadata": {},
   "source": [
    "### 2. Projection and filters\n",
    "Up till now we have always asked the `QueryBuilder` to return the entire node, of whatever class of nodes that we specified. However, we might not necessarily be interested in all the node's properties, but rather just a select set or even just a single property. We can tell the `QueryBuilder` which properties we would like returned, by asking it to **project** those properties in the result. For example, we may only want to get the uuid's of a set of nodes. "
   ]
  },
  {
   "cell_type": "code",
   "execution_count": null,
   "metadata": {
    "collapsed": true
   },
   "outputs": [],
   "source": [
    "qb = QueryBuilder()\n",
    "qb.append(Node, project=['uuid'])\n",
    "qb.limit(5)\n",
    "qb.all()"
   ]
  },
  {
   "cell_type": "markdown",
   "metadata": {},
   "source": [
    "We inform the `QueryBuilder` that we are only interested in the `uuid` property of the `Node` class by specifing the `project` keyword in the `append` call. Note that the value that we assign to `project` is a list, as we may want to specify more than one property. See if you can get the `QueryBuilder` to return *both* the `id` and the `uuid` of the first 5 `Node`'s in the following cell."
   ]
  },
  {
   "cell_type": "code",
   "execution_count": null,
   "metadata": {
    "collapsed": true
   },
   "outputs": [],
   "source": [
    "qb = QueryBuilder()\n",
    "qb.append(Node, project=['id', 'uuid'])#? What should the value be for the project key\n",
    "qb.limit(5)\n",
    "qb.all()"
   ]
  },
  {
   "cell_type": "markdown",
   "metadata": {},
   "source": [
    "To give you an idea of the various properties that you can project for some of the `AiiDA` node classes you can consult the following table.\n",
    "Note that this is by no means an exhaustive list\n",
    "\n",
    "Class    | Properties\n",
    "---------|-----------\n",
    "Node     | `id`, `uuid`, `type`, `label`, `description`, `ctime`, `mtime`\n",
    "Computer | `id`, `uuid`, `name`, `hostname`, `description`, `enabled`, `transport_type`, `scheduler_type`\n",
    "User     | `id`, `email`, `first_name`, `last_name`, `institution`\n",
    "Group    | `id`, `uuid`, `name`, `type`, `time`, `description`"
   ]
  },
  {
   "cell_type": "markdown",
   "metadata": {},
   "source": [
    "The same properties can also be used to *filter* for specific nodes in your database. Up till now, we only ever asked to return the `QueryBuilder` all the instances of a certain type of node, or at best a limited number of those. But we might be interested in a very specific node. For example, we may have the `id` of a certain node and we would like to know when it was created and last modified. We can tell the `QueryBuilder` to select nodes that only match that criterion, by telling it to **filter** based on that property."
   ]
  },
  {
   "cell_type": "code",
   "execution_count": null,
   "metadata": {
    "collapsed": true
   },
   "outputs": [],
   "source": [
    "qb = QueryBuilder()\n",
    "qb.append(Node, project=['ctime', 'mtime'], filters={'id': {'==': 1}})\n",
    "qb.all()"
   ]
  },
  {
   "cell_type": "markdown",
   "metadata": {},
   "source": [
    "Note the syntax of the `filters` keyword. The value is a dictionary, where the keys indicate the node property that it is supposed to operate on, in this case the `id` property. The value of that key is again itself a dictionary, where the key indicates the logical operator `==` and the value corresponds to the value of the property.\n",
    "\n",
    "You may have multiple criteria that you want to filter for, in which case you can use the logical `or` and `and` operators. Let's say, for example, that you want the `QueryBuilder` to retrieve all the `StructureData` nodes that have a certain `label` **and** where created no longer than 10 days ago. You can translate this criterion by making use of the `and` operator which allows you to specify multiple filters that all have to be satisfied."
   ]
  },
  {
   "cell_type": "code",
   "execution_count": null,
   "metadata": {
    "collapsed": true
   },
   "outputs": [],
   "source": [
    "qb = QueryBuilder()\n",
    "qb.append(\n",
    "    Node, \n",
    "    filters={\n",
    "        'and': [\n",
    "            {'ctime': {'>': datetime.now() - timedelta(days=12)}},\n",
    "            {'label': 'graphene'}\n",
    "        ]\n",
    "    }\n",
    ")\n",
    "qb.all()"
   ]
  },
  {
   "cell_type": "markdown",
   "metadata": {},
   "source": [
    "You will have noticed that the `>` operator, and its related operators, can work with python `datetime` objects. These are just a few of the operators that `QueryBuilder` understands. Below you find a table with the various logical operators that you can use\n",
    "\n",
    "Operator             | Data type             | Example                            | Description\n",
    "---------------------|-----------------------|------------------------------------|------------------\n",
    "`==`                 | all                   | `{'==': '12'}`                     | equality operator\n",
    "`in`                 | all                   | `{'in':['FINISHED', 'PARSING']}`   | member of a set\n",
    "`<`, `>`, `<=`, `>=` | float, int, datetime  | `{'>': 5.2}`                       | size comparison operator\n",
    "`like`               | char, str             | `{'like': 'calculation%'}`         | string comparison, `%` is wildcard\n",
    "`ilike`              | char, str             | `{'ilike': 'caLCulAtion%'}`        | string comparison, capital insensitive\n",
    "`or`                 |                       | `{'or': [{'<': 5.3}, {'>': 6.3}]}` | logical or operator\n",
    "`and`                |                       | `{'and': [{'>=': 2}, {'<=': 6}]}`  | logical and operator"
   ]
  },
  {
   "cell_type": "markdown",
   "metadata": {},
   "source": [
    "As an exercise, try to write a query below that will retrieve all `Group` nodes whose `name` property starts with the string `tutorial`."
   ]
  },
  {
   "cell_type": "code",
   "execution_count": null,
   "metadata": {
    "collapsed": true
   },
   "outputs": [],
   "source": [
    "# Write your query here\n",
    "qb = QueryBuilder()\n",
    "qb.append(Group, filters={'name': {'like': 'tutorial%'}})\n",
    "qb.limit(5)\n",
    "qb.all()"
   ]
  },
  {
   "cell_type": "markdown",
   "metadata": {},
   "source": [
    "### 3. Defining relationships between query clauses"
   ]
  },
  {
   "cell_type": "markdown",
   "metadata": {},
   "source": [
    "So far we have seen how we can use the `QueryBuilder` to search the database for entries of a specific node type, potentially projecting only specific properties and filtering for certain property values. However, our nodes do not live in a vacuum, but they are often related to one another. Especially, there will be interesting relationships between different types of nodes. Therefore we would like to be able to search for nodes, based on a certain relationship that they might have with other nodes. Consider for example that you have a `StructureData` node that was produced by some calculation. How would we be able to retrieve that calculation?\n",
    "\n",
    "To accomplish this, we need to be able to tell the `QueryBuilder` what the relationship is between the nodes that we are interested in. If we take the example of the structure node but abstracting it to all structure nodes, we could do the following to find all the structure nodes that were generated as an output by a `PwCalculation` node."
   ]
  },
  {
   "cell_type": "code",
   "execution_count": null,
   "metadata": {
    "collapsed": true
   },
   "outputs": [],
   "source": [
    "qb = QueryBuilder()\n",
    "qb.append(PwCalculation, tag='calculation')"
   ]
  },
  {
   "cell_type": "markdown",
   "metadata": {},
   "source": [
    "We are looking for descendants of `PwCalculation` nodes, so we `append` it to a `QueryBuilder` instance. In the future, we need to be able to reference to this clause and therefore we give it a name or `tag` it with the `tag` keyword."
   ]
  },
  {
   "cell_type": "code",
   "execution_count": null,
   "metadata": {
    "collapsed": true
   },
   "outputs": [],
   "source": [
    "qb.append(StructureData, output_of='calculation')"
   ]
  },
  {
   "cell_type": "markdown",
   "metadata": {},
   "source": [
    "The goal was to find `StructureData` nodes, so we `append` that to the `qb`. However, we didn't want to find just any `StructureData` nodes; they had to be an output of `PwCalculation`. Note how we expressed this relation by the `output_of` keyword and using the `tag` name `calculation` that we had just assigned in the previous `append` statement.\n",
    "Now all we have to do is execute the query to retrieve our structures:"
   ]
  },
  {
   "cell_type": "code",
   "execution_count": null,
   "metadata": {
    "collapsed": true
   },
   "outputs": [],
   "source": [
    "qb.limit(5)\n",
    "qb.all()"
   ]
  },
  {
   "cell_type": "markdown",
   "metadata": {},
   "source": [
    "What we did can be visualized schematically."
   ]
  },
  {
   "cell_type": "code",
   "execution_count": null,
   "metadata": {
    "collapsed": true
   },
   "outputs": [],
   "source": [
    "generate_query_graph(qb.get_json_compatible_queryhelp(), 'query1.png')\n",
    "Image(filename='query1.png')"
   ]
  },
  {
   "cell_type": "markdown",
   "metadata": {},
   "source": [
    "The `output_of` keyword is but one of many potential relationships that exist between the various `AiiDA` nodes, that are implemented in the `QueryBuilder`. The table below gives an overview of the implemented relationships, which nodes they are defined for and which relation it implicates."
   ]
  },
  {
   "cell_type": "markdown",
   "metadata": {},
   "source": [
    "Entity from\t| Entity to\t| Relationship  | Explanation\n",
    "------------|-----------|---------------|------------\n",
    "Node        | Node      | input_of      | One node as input of another node\n",
    "Node        | Node      | output_of     | One node as output of another node\n",
    "Node        | Node      | ancestor_of   | One node as the ancestor of another node\n",
    "Node        | Node      | descendant_of | One node as descendant of another node\n",
    "Group       | Node      | group_of      | The group of a node\n",
    "Node        | Group     | member_of     | The node is a member of a group\n",
    "Computer    | Node      | computer_of   | The computer of a node\n",
    "Node        | Computer  | has_computer  | The node of a computer\n",
    "User        | Node      | creator_of    | The creator of a node is a user\n",
    "Node        | User      | created_by    | The node was created by a user"
   ]
  },
  {
   "cell_type": "markdown",
   "metadata": {},
   "source": [
    "As an exercise, see if you can write a query that will return all the `UpfData` nodes that are a member of a `Group` whose name starts with the string `SSSP`."
   ]
  },
  {
   "cell_type": "code",
   "execution_count": null,
   "metadata": {
    "collapsed": true
   },
   "outputs": [],
   "source": [
    "qb = QueryBuilder()\n",
    "qb.append(Group, filters={'name': {'like': 'SSSP%'}}, tag='group')\n",
    "qb.append(UpfData, member_of='group')\n",
    "qb.all()[:5]\n",
    "# Here I also visualize what's going on:\n",
    "generate_query_graph(qb.get_json_compatible_queryhelp(), 'query2.png')\n",
    "Image(filename='query2.png')"
   ]
  },
  {
   "cell_type": "markdown",
   "metadata": {},
   "source": [
    "### 4. Attributes and extras"
   ]
  },
  {
   "cell_type": "markdown",
   "metadata": {},
   "source": [
    "In section 2, we showed you how you can `project` specific properties of a `Node` and gave a list of properties that a `Node` instance possesses. Since then, we have come across a lot of different `AiiDA` data nodes, such as `StructureData` and `UpfData`, that were secretly `Node`'s in disguise. Or to put it correctly, as `AiiDA` employs the object-oriented programming paradigm, both `StructureData` and `UpfData` are examples of subclasses of the `Node` class and therefore inherit its properties. That means that whatever property a `Node` has, both `StructureData` and `UpfData` will have too. However, there is a semantic difference between a `StructureData` node and a `UpfData`, and so we may want to add a property to one that would not make sense for the other. To solve this, `AiiDA` introduces the concept of `attributes`. These are similar to properties, except that they are specific to the `Node` type that they are attached to. This allows you to add an `attribute` to a certain node, without having to change the implementation of all the others.\n",
    "\n",
    "For example, the `ParameterData` nodes that are generated as output of `PwCalculation`'s may have an attribute named `wfc_cutoff`. To project for this particular `attribute`, one can use exactly the same syntax as shown in section 2 for the regular `Node` properties, and one has to only prepend `attributes.` to the attribute name. Demonstration:"
   ]
  },
  {
   "cell_type": "code",
   "execution_count": null,
   "metadata": {
    "collapsed": true
   },
   "outputs": [],
   "source": [
    "qb = QueryBuilder()\n",
    "qb.append(PwCalculation, tag='pw')\n",
    "qb.append(ParameterData, output_of='pw', project=[\"attributes.wfc_cutoff\"])\n",
    "qb.limit(5)\n",
    "qb.all()"
   ]
  },
  {
   "cell_type": "markdown",
   "metadata": {},
   "source": [
    "Note that not every `ParameterData` node has to have this attribute, in which case the `QueryBuilder` will return the python keyword `None`. Similar to the `attributes`, nodes also can have `extras`, which work in the same way, except that `extras` are mutable, which means that their value can be changed even after a node instance has been stored.\n",
    "\n",
    "If you are not sure which attributes a given node has, you can use the `get_attrs()` method to simply retrieve them all. It will return a dictionary with all the attributes the node has."
   ]
  },
  {
   "cell_type": "code",
   "execution_count": null,
   "metadata": {
    "collapsed": true
   },
   "outputs": [],
   "source": [
    "qb = QueryBuilder()\n",
    "qb.append(PwCalculation)\n",
    "node, = qb.first()\n",
    "node.get_attrs()"
   ]
  },
  {
   "cell_type": "markdown",
   "metadata": {},
   "source": [
    "The element type symbol of a pseudopotential, that is represented by a `UpfData` node, is stored in the `element` attribute. Using the knowledge that filtering on attributes works exactly as for normal node properties, see if you can write a query that will search your database for pseudopotentials for silicon."
   ]
  },
  {
   "cell_type": "code",
   "execution_count": null,
   "metadata": {
    "collapsed": true
   },
   "outputs": [],
   "source": [
    "qb = QueryBuilder()\n",
    "qb.append(UpfData, filters={'attributes.element': {'==': 'Si'}})\n",
    "qb.all()"
   ]
  },
  {
   "cell_type": "markdown",
   "metadata": {
    "collapsed": true
   },
   "source": [
    "### 5. A small high-through study"
   ]
  },
  {
   "cell_type": "markdown",
   "metadata": {},
   "source": [
    "In this part of the tutorial, we will focus on how to systematically retrieve, query and analyze the results of\n",
    "multiple calculations using AiiDA. We know you’re able to do this yourself, but to save time, a set of calculations\n",
    "have already been done with AiiDA for you on 57 perovskites, using three different pseudopotential families (LDA,\n",
    "PBE and PBESOL, all from GBRV 1.2). These calculations are spin-polarized (without spin-orbit coupling), use a Gaussian smearing and perform a variable-cell relaxation of the full unit cell. The idea of this part of the tutorial is to “screen” for magnetic and metallic perovskites in a “high-throughput” way. As you learned in the first part of the tutorial, AiiDA allows to organize calculations in groups. Once more check the list of groups in your database by typing:"
   ]
  },
  {
   "cell_type": "code",
   "execution_count": null,
   "metadata": {
    "collapsed": true
   },
   "outputs": [],
   "source": [
    "!verdi group list -A"
   ]
  },
  {
   "cell_type": "markdown",
   "metadata": {},
   "source": [
    "The calculations needed for this task were put in three different groups whose names start with \"tutorial\" (one for each pseudopotential family). The main task is to make a plot showing, for all perovskites and for each pseudopotential family, the total magnetization and the −T S contribution from the smearing to the total energy."
   ]
  },
  {
   "cell_type": "markdown",
   "metadata": {},
   "source": [
    "#### Start building the query\n",
    "So we first of all need to instantiate a QueryBuilder instance and filter by the right name:"
   ]
  },
  {
   "cell_type": "code",
   "execution_count": null,
   "metadata": {
    "collapsed": true
   },
   "outputs": [],
   "source": [
    "# Instantiating QB:\n",
    "qb = QueryBuilder()\n",
    "# Appending the groups I care about:\n",
    "qb.append(Group, filters={'name':{'like':'tutorial_%'}}, project='name', tag='group')\n",
    "# Visualize:\n",
    "generate_query_graph(qb.get_json_compatible_queryhelp(), 'query3.png')\n",
    "Image(filename='query3.png')"
   ]
  },
  {
   "cell_type": "markdown",
   "metadata": {},
   "source": [
    "#### Append the calculations that are members of each group"
   ]
  },
  {
   "cell_type": "code",
   "execution_count": null,
   "metadata": {
    "collapsed": true
   },
   "outputs": [],
   "source": [
    "# I want every PwCalculation that is a member of the specified groups:\n",
    "qb.append(PwCalculation, tag='calculation', member_of='group')\n",
    "#Visualize\n",
    "generate_query_graph(qb.get_json_compatible_queryhelp(), 'query4.png') \n",
    "Image(filename='query4.png')"
   ]
  },
  {
   "cell_type": "markdown",
   "metadata": {},
   "source": [
    "#### Append the structures that are input of the calculation. Project the formula, stored in the extras under the key 'formula'"
   ]
  },
  {
   "cell_type": "code",
   "execution_count": null,
   "metadata": {
    "collapsed": true
   },
   "outputs": [],
   "source": [
    "qb.append(StructureData, project=['extras.formula'], tag='structure', input_of='calculation')\n",
    "# Visualize:\n",
    "generate_query_graph(qb.get_json_compatible_queryhelp(), 'query5.png')\n",
    "Image(filename='query5.png')"
   ]
  },
  {
   "cell_type": "markdown",
   "metadata": {},
   "source": [
    "Append the parameters that are an output of the calculation.\n",
    "\n",
    "Project:\n",
    "* The smearing contribution and the units\n",
    "* The magnetization and the untits."
   ]
  },
  {
   "cell_type": "code",
   "execution_count": null,
   "metadata": {
    "collapsed": true
   },
   "outputs": [],
   "source": [
    "qb.append(ParameterData,tag='results',\n",
    "        project=['attributes.energy_smearing', 'attributes.energy_smearing_units',\n",
    "           'attributes.total_magnetization', 'attributes.total_magnetization_units',\n",
    "        ], output_of='calculation'\n",
    "    )\n",
    "generate_query_graph(qb.get_json_compatible_queryhelp(), 'query6.png') \n",
    "Image(filename='query6.png')"
   ]
  },
  {
   "cell_type": "markdown",
   "metadata": {},
   "source": [
    "#### Print the query results"
   ]
  },
  {
   "cell_type": "code",
   "execution_count": null,
   "metadata": {
    "collapsed": true
   },
   "outputs": [],
   "source": [
    "results = qb.all()\n",
    "for item in results:\n",
    "    print ', '.join(map(str, item))"
   ]
  },
  {
   "cell_type": "markdown",
   "metadata": {},
   "source": [
    "#### Plot the results\n",
    "Getting a long list is not always helpful. We prepared a function that visualizes the results of the query:"
   ]
  },
  {
   "cell_type": "code",
   "execution_count": null,
   "metadata": {
    "collapsed": true
   },
   "outputs": [],
   "source": [
    "plot_results(results)"
   ]
  },
  {
   "cell_type": "code",
   "execution_count": null,
   "metadata": {
    "collapsed": true
   },
   "outputs": [],
   "source": []
  },
  {
   "cell_type": "code",
   "execution_count": null,
   "metadata": {
    "collapsed": true
   },
   "outputs": [],
   "source": []
  },
  {
   "cell_type": "code",
   "execution_count": null,
   "metadata": {
    "collapsed": true
   },
   "outputs": [],
   "source": []
  },
  {
   "cell_type": "code",
   "execution_count": null,
   "metadata": {
    "collapsed": true
   },
   "outputs": [],
   "source": []
  },
  {
   "cell_type": "code",
   "execution_count": null,
   "metadata": {
    "collapsed": true
   },
   "outputs": [],
   "source": []
  }
 ],
 "metadata": {
  "kernelspec": {
   "display_name": "Python 2",
   "language": "python",
   "name": "python2"
  },
  "language_info": {
   "codemirror_mode": {
    "name": "ipython",
    "version": 2
   },
   "file_extension": ".py",
   "mimetype": "text/x-python",
   "name": "python",
   "nbconvert_exporter": "python",
   "pygments_lexer": "ipython2",
   "version": "2.7.6"
  }
 },
 "nbformat": 4,
 "nbformat_minor": 2
}
