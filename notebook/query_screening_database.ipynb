{
 "cells": [
  {
   "cell_type": "code",
   "execution_count": 1,
   "metadata": {
    "collapsed": true
   },
   "outputs": [],
   "source": [
    "import sys, numpy as np\n",
    "from argparse import ArgumentParser\n",
    "from matplotlib import gridspec, pyplot as plt\n",
    "\n",
    "from aiida import load_dbenv, is_dbenv_loaded\n",
    "if not is_dbenv_loaded():\n",
    "    load_dbenv()\n",
    "from aiida.orm.querybuilder import QueryBuilder\n",
    "from aiida.orm.data.structure import StructureData\n",
    "from aiida.orm.data.parameter import ParameterData\n",
    "from aiida.orm.calculation.job.quantumespresso.pw import PwCalculation\n",
    "from aiida.orm.group import Group"
   ]
  },
  {
   "cell_type": "code",
   "execution_count": 4,
   "metadata": {},
   "outputs": [],
   "source": [
    "def plot_results(query_res):\n",
    "    \"\"\"\n",
    "    :param query_res: The result of an instance of the QueryBuilder\n",
    "    \"\"\"\n",
    "    smearing_unit_set,magnetization_unit_set,pseudo_family_set = set(), set(), set()\n",
    "    # Storing results:\n",
    "    results_dict = {}\n",
    "    for pseudo_family, formula, smearing, smearing_units, mag, mag_units in query_res:\n",
    "        if formula not in results_dict:\n",
    "            results_dict[formula] = {}\n",
    "        # Storing the results:\n",
    "        results_dict[formula][pseudo_family] = (smearing, mag)\n",
    "        # Adding to the unit set:\n",
    "        smearing_unit_set.add(smearing_units)\n",
    "        magnetization_unit_set.add(mag_units)\n",
    "        pseudo_family_set.add(pseudo_family)\n",
    "\n",
    "    # Sorting by formula:\n",
    "    sorted_results = sorted(results_dict.items())\n",
    "    formula_list = zip(*sorted_results)[0]\n",
    "    nr_of_results = len(formula_list)\n",
    "\n",
    "    # Checks that I have not more than 3 pseudo families.\n",
    "    # If more are needed, define more colors\n",
    "    #pseudo_list = list(pseudo_family_set)\n",
    "    if len(pseudo_family_set) > 3:\n",
    "        raise Exception('I was expecting 3 or less pseudo families')\n",
    "\n",
    "    colors = ['b', 'r', 'g']\n",
    "\n",
    "    # Plotting:\n",
    "    plt.clf()\n",
    "    fig=plt.figure(figsize=(16, 9), facecolor='w', edgecolor=None)\n",
    "    gs  = gridspec.GridSpec(2,1, hspace=0.01, left=0.1, right=0.94)\n",
    "\n",
    "    # Defining barwidth\n",
    "    barwidth = 1. / (len(pseudo_family_set)+1)\n",
    "    offset = [-0.5+(0.5+n)*barwidth for n in range(len(pseudo_family_set))]\n",
    "    # Axing labels with units:\n",
    "    yaxis = (\"Smearing energy [{}]\".format(smearing_unit_set.pop()),\n",
    "        \"Total magnetization [{}]\".format(magnetization_unit_set.pop()))\n",
    "    # If more than one unit was specified, I will exit:\n",
    "    if smearing_unit_set:\n",
    "        raise Exception('Found different units for smearing')\n",
    "    if magnetization_unit_set:\n",
    "        raise Exception('Found different units for magnetization')\n",
    "    \n",
    "    # Making two plots, upper for the smearing, the lower for magnetization\n",
    "    for index in range(2):\n",
    "        ax=fig.add_subplot(gs[index])\n",
    "        for i,pseudo_family in enumerate(pseudo_family_set):\n",
    "            X = np.arange(nr_of_results)+offset[i]\n",
    "            Y = np.array([thisres[1][pseudo_family][index] for thisres in sorted_results])\n",
    "            ax.bar(X, Y,  width=0.2, facecolor=colors[i], edgecolor=colors[i], label=pseudo_family)\n",
    "        ax.set_ylabel(yaxis[index], fontsize=14, labelpad=15*index+5)\n",
    "        ax.set_xlim(-0.5, nr_of_results-0.5)\n",
    "        ax.set_xticks(np.arange(nr_of_results))\n",
    "        if index == 0:\n",
    "            plt.setp(ax.get_yticklabels()[0], visible=False)\n",
    "            ax.xaxis.tick_top()\n",
    "            ax.legend(loc=3, prop={'size': 18})\n",
    "        else:\n",
    "            plt.setp(ax.get_yticklabels()[-1], visible=False)\n",
    "        for i in range(0, nr_of_results, 2):\n",
    "            ax.axvspan(i-0.5, i+0.5, facecolor='y', alpha=0.2)\n",
    "        ax.set_xticklabels(list(formula_list),rotation=90, size=14, ha='center')\n",
    "    plt.show()"
   ]
  },
  {
   "cell_type": "code",
   "execution_count": 9,
   "metadata": {},
   "outputs": [
    {
     "name": "stdout",
     "output_type": "stream",
     "text": [
      "[{'outerjoin': False, 'joining_keyword': None, 'type': 'group', 'joining_value': None, 'tag': 'group'}, {'outerjoin': False, 'joining_keyword': 'member_of', 'type': 'calculation.job.quantumespresso.pw.PwCalculation.', 'joining_value': 'group', 'tag': 'calculation'}, {'edge_tag': 'calculation--structure', 'joining_keyword': 'input_of', 'joining_value': 'calculation', 'tag': 'structure', 'outerjoin': False, 'type': 'data.structure.StructureData.'}, {'edge_tag': 'calculation--results', 'joining_keyword': 'output_of', 'joining_value': 'calculation', 'tag': 'results', 'outerjoin': False, 'type': 'data.parameter.ParameterData.'}]\n"
     ]
    }
   ],
   "source": [
    "# Each group of calculations that are of interests has\n",
    "# the string: group_basename+_+pseudo\n",
    "# where pseudo is lda, pbe or pbesol\n",
    "group_basename = 'tutorial_%'\n",
    "# Instantiating QB:\n",
    "qb = QueryBuilder()\n",
    "# Appending the groups I care about:\n",
    "qb.append(Group, filters={'name':{'like':group_basename}}, project='name', tag='group')\n",
    "# Append the calculations that are members of each group\n",
    "qb.append(PwCalculation, tag='calculation', member_of='group')\n",
    "# Append the structures that are input of the calculation.\n",
    "# Project the formula, stored in the extras under the key 'formula'\n",
    "qb.append(StructureData, project=['extras.formula'], tag='structure', input_of='calculation')\n",
    "# Append the parameters that are an output of the calculation.\n",
    "# Project:\n",
    "#### The smearing contribution and the units\n",
    "#### The magnetization and the untits.\n",
    "qb.append(ParameterData,tag='results',\n",
    "        project=['attributes.energy_smearing', 'attributes.energy_smearing_units',\n",
    "           'attributes.total_magnetization', 'attributes.total_magnetization_units',\n",
    "        ], output_of='calculation'\n",
    "    )\n",
    "\n",
    "#plot_results(qb.all())\n",
    "print(qb.get_json_compatible_queryhelp())['path']\n"
   ]
  },
  {
   "cell_type": "code",
   "execution_count": null,
   "metadata": {
    "collapsed": true
   },
   "outputs": [],
   "source": []
  }
 ],
 "metadata": {
  "kernelspec": {
   "display_name": "Python 2",
   "language": "python",
   "name": "python2"
  },
  "language_info": {
   "codemirror_mode": {
    "name": "ipython",
    "version": 2
   },
   "file_extension": ".py",
   "mimetype": "text/x-python",
   "name": "python",
   "nbconvert_exporter": "python",
   "pygments_lexer": "ipython2",
   "version": "2.7.6"
  }
 },
 "nbformat": 4,
 "nbformat_minor": 2
}
