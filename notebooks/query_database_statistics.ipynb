{
 "cells": [
  {
   "cell_type": "markdown",
   "metadata": {},
   "source": [
    "# Using queries to understand AiiDA database contents #1\n",
    "## General information on Computers, Groups, Nodes and node connectivity\n",
    "Time: 2 mins"
   ]
  },
  {
   "cell_type": "code",
   "execution_count": null,
   "metadata": {
    "hide_input": true
   },
   "outputs": [],
   "source": [
    "from aiida import load_dbenv, is_dbenv_loaded\n",
    "if not is_dbenv_loaded():\n",
    "    load_dbenv()\n",
    "from aiida.orm import load_node, Node, Group, Computer, User\n",
    "from aiida.orm.querybuilder import QueryBuilder\n",
    "from IPython.display import Image\n",
    "\n",
    "from notebook_helpers import generate_query_graph"
   ]
  },
  {
   "cell_type": "markdown",
   "metadata": {},
   "source": [
    "#### How many nodes/groups/computers/users are stored in my database?"
   ]
  },
  {
   "cell_type": "code",
   "execution_count": null,
   "metadata": {},
   "outputs": [],
   "source": [
    "print \"My database contains:\"\n",
    "for cls in (User, Computer, Group, Node):\n",
    "    qb = QueryBuilder()\n",
    "    qb.append(cls)\n",
    "    count = qb.count()\n",
    "    print \"{:>5}  {}s\".format(count, cls.__name__)"
   ]
  },
  {
   "cell_type": "markdown",
   "metadata": {},
   "source": [
    "#### How many of each subclass of Group/Node are stored in my database"
   ]
  },
  {
   "cell_type": "code",
   "execution_count": null,
   "metadata": {},
   "outputs": [],
   "source": [
    "for cls in (Node, Group):\n",
    "    print '\\n', 'Subclasses of {}:'.format(cls.__name__)\n",
    "    qb1 = QueryBuilder()\n",
    "    qb1.append(cls, project='type')\n",
    "    distinct_types, = zip(*qb1.distinct().all()) # Getting all distinct types\n",
    "    # Iterating through distinct types:\n",
    "    for dtype in sorted(distinct_types):\n",
    "        qb2 = QueryBuilder()\n",
    "        qb2.append(cls, filters={'type':dtype})\n",
    "        subcls_count = qb2.count()\n",
    "        print '   {:<15} | {:<4}'.format(dtype.strip('.').split('.')[-1] or \"N/A\", subcls_count)"
   ]
  },
  {
   "cell_type": "markdown",
   "metadata": {},
   "source": [
    "#### What is the connectivity of my database? How many links? How many distinct paths?"
   ]
  },
  {
   "cell_type": "code",
   "execution_count": null,
   "metadata": {},
   "outputs": [],
   "source": [
    "# Here I query the number of links:\n",
    "qb1 = QueryBuilder()\n",
    "qb1.append(Node, tag='n1')\n",
    "qb1.append(Node, output_of='n1')\n",
    "link_count = qb1.count()\n",
    "print '\\nThe number of links in my database is: {}'.format(link_count)\n",
    "\n",
    "generate_query_graph(qb1.get_json_compatible_queryhelp(), 'query-statistics-1.png')\n",
    "Image(filename='query-statistics-1.png')\n"
   ]
  },
  {
   "cell_type": "code",
   "execution_count": null,
   "metadata": {},
   "outputs": [],
   "source": [
    "# Here I query the number of distinct paths:\n",
    "qb2 = QueryBuilder()\n",
    "qb2.append(Node, tag='n1')\n",
    "qb2.append(Node, descendant_of='n1')\n",
    "path_count = qb2.count()\n",
    "print '\\nThe number of distinct paths in my database is: {}'.format(path_count)\n",
    "\n",
    "generate_query_graph(qb2.get_json_compatible_queryhelp(), 'query-statistics-2.png')\n",
    "Image(filename='query-statistics-2.png')"
   ]
  },
  {
   "cell_type": "code",
   "execution_count": null,
   "metadata": {},
   "outputs": [],
   "source": []
  }
 ],
 "metadata": {
  "kernelspec": {
   "display_name": "Python 2",
   "language": "python",
   "name": "python2"
  },
  "language_info": {
   "codemirror_mode": {
    "name": "ipython",
    "version": 2
   },
   "file_extension": ".py",
   "mimetype": "text/x-python",
   "name": "python",
   "nbconvert_exporter": "python",
   "pygments_lexer": "ipython2",
   "version": "2.7.12"
  }
 },
 "nbformat": 4,
 "nbformat_minor": 2
}
