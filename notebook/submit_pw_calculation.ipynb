{
 "cells": [
  {
   "cell_type": "markdown",
   "metadata": {},
   "source": [
    "# Submitting calculations\n",
    "#### Create a structure, kpoints, and input parameters and submit a Quantum ESPRESSO (PW) calculation\n",
    "Time: 3 mins"
   ]
  },
  {
   "cell_type": "code",
   "execution_count": 7,
   "metadata": {
    "hide_input": true
   },
   "outputs": [],
   "source": [
    "from aiida.backends.utils import load_dbenv, is_dbenv_loaded\n",
    "if not is_dbenv_loaded():\n",
    "    load_dbenv()\n",
    "\n",
    "from aiida.orm.utils import load_node\n",
    "from aiida.work.run import run\n",
    "from aiida.orm.code import Code\n",
    "from aiida.orm.data.base import Bool, Str\n",
    "from aiida.orm.data.parameter import ParameterData\n",
    "from aiida.orm.data.array.kpoints import KpointsData\n",
    "from aiida.orm.data.structure import StructureData\n",
    "from ase.lattice.spacegroup import crystal\n",
    "\n",
    "import numpy as np"
   ]
  },
  {
   "cell_type": "markdown",
   "metadata": {},
   "source": [
    "#### Create a diamond cubic crystal structure"
   ]
  },
  {
   "cell_type": "code",
   "execution_count": 8,
   "metadata": {},
   "outputs": [
    {
     "data": {
      "text/plain": [
       "<StructureData: uuid: 5da63df5-7993-4a69-b42f-cbb94861414e (pk: 5214)>"
      ]
     },
     "execution_count": 8,
     "metadata": {},
     "output_type": "execute_result"
    }
   ],
   "source": [
    "# Define a structure, employing the Atomic Structure Environment library\n",
    "alat = 3.568\n",
    "ase_definition = crystal('C', [(0,0,0)], spacegroup=227, cellpar=[alat, alat, alat, 90, 90, 90], primitive_cell=True)*2\n",
    "structure = StructureData(ase=ase_definition)\n",
    "structure.store()"
   ]
  },
  {
   "cell_type": "markdown",
   "metadata": {},
   "source": [
    "#### Create the _k_-points mesh"
   ]
  },
  {
   "cell_type": "code",
   "execution_count": 9,
   "metadata": {},
   "outputs": [
    {
     "data": {
      "text/plain": [
       "<KpointsData: uuid: ca07ac8f-5646-41d0-ab52-2ef7d83e9b47 (pk: 5215)>"
      ]
     },
     "execution_count": 9,
     "metadata": {},
     "output_type": "execute_result"
    }
   ],
   "source": [
    "# Define the k-points mesh\n",
    "kpoints = KpointsData()\n",
    "kpoints_mesh = [1, 1, 1]\n",
    "kpoints.set_kpoints_mesh(kpoints_mesh)\n",
    "kpoints.store()"
   ]
  },
  {
   "cell_type": "markdown",
   "metadata": {},
   "source": [
    "#### List existing pseudopotential families"
   ]
  },
  {
   "cell_type": "code",
   "execution_count": 10,
   "metadata": {},
   "outputs": [
    {
     "name": "stdout",
     "output_type": "stream",
     "text": [
      "WARNING:py.warnings:/home/aiida/aiida/aiida/backends/djsite/db/models.py:45: RemovedInDjango18Warning: `AiidaObjectManager.get_query_set` method should be renamed `get_queryset`.\n",
      "  class AiidaObjectManager(m.Manager):\n",
      "\n",
      "* GBRV_pbe [33 pseudos]\n",
      "* GBRV_lda [33 pseudos]\n",
      "* GBRV_pbesol [33 pseudos]\n",
      "* SSSP [85 pseudos]\n"
     ]
    }
   ],
   "source": [
    "!verdi data upf listfamilies"
   ]
  },
  {
   "cell_type": "markdown",
   "metadata": {},
   "source": [
    "#### Define the calculation input parameters"
   ]
  },
  {
   "cell_type": "code",
   "execution_count": 11,
   "metadata": {
    "collapsed": true
   },
   "outputs": [],
   "source": [
    "# Define the pseudo potential family and input parameters for pw.x\n",
    "pseudo_family = 'SSSP'\n",
    "parameters = {\n",
    "    'CONTROL': {\n",
    "        \"calculation\": \"scf\",\n",
    "        'tstress': True,\n",
    "    },\n",
    "    'SYSTEM': {\n",
    "        'ecutwfc': 40.,\n",
    "        'ecutrho': 320.,\n",
    "    },\n",
    "    'ELECTRONS': {\n",
    "        'conv_thr': 1.e-10,\n",
    "    }\n",
    "}"
   ]
  },
  {
   "cell_type": "markdown",
   "metadata": {},
   "source": [
    "#### See the available codes and select one of them"
   ]
  },
  {
   "cell_type": "code",
   "execution_count": 12,
   "metadata": {},
   "outputs": [
    {
     "name": "stdout",
     "output_type": "stream",
     "text": [
      "WARNING:py.warnings:/home/aiida/aiida/aiida/backends/djsite/db/models.py:45: RemovedInDjango18Warning: `AiidaObjectManager.get_query_set` method should be renamed `get_queryset`.\n",
      "  class AiidaObjectManager(m.Manager):\n",
      "\n",
      "# List of configured codes:\n",
      "# (use 'verdi code show CODEID' to see the details)\n",
      "* pk 4681 - pw-5.1@localhost\n"
     ]
    }
   ],
   "source": [
    "!verdi code list"
   ]
  },
  {
   "cell_type": "markdown",
   "metadata": {},
   "source": [
    "#### Get the Code instance from the name"
   ]
  },
  {
   "cell_type": "code",
   "execution_count": 13,
   "metadata": {
    "collapsed": true
   },
   "outputs": [],
   "source": [
    "codename = 'pw-5.1@localhost'\n",
    "code = Code.get_from_string(codename)"
   ]
  },
  {
   "cell_type": "markdown",
   "metadata": {},
   "source": [
    "#### Create a new calculation from the code and set the input parameters"
   ]
  },
  {
   "cell_type": "code",
   "execution_count": 14,
   "metadata": {
    "collapsed": true
   },
   "outputs": [],
   "source": [
    "calc = code.new_calc()\n",
    "calc.use_structure(structure)\n",
    "calc.use_pseudos_from_family(pseudo_family)\n",
    "calc.use_parameters(ParameterData(dict=parameters))\n",
    "calc.use_kpoints(kpoints)\n",
    "calc.set_resources({\"num_machines\": 1})\n",
    "calc.set_max_wallclock_seconds(30*60)"
   ]
  },
  {
   "cell_type": "markdown",
   "metadata": {},
   "source": [
    "#### Store the calculation and submit it to the daemon"
   ]
  },
  {
   "cell_type": "code",
   "execution_count": 15,
   "metadata": {},
   "outputs": [
    {
     "name": "stdout",
     "output_type": "stream",
     "text": [
      "Submitted a PwCalculation with pk<5217>\n"
     ]
    }
   ],
   "source": [
    "calc.store_all()\n",
    "calc.submit()\n",
    "print \"Submitted a {} with pk<{}>\".format(calc.__class__.__name__, calc.pk)"
   ]
  },
  {
   "cell_type": "markdown",
   "metadata": {},
   "source": [
    "#### Check the status of the calculation"
   ]
  },
  {
   "cell_type": "code",
   "execution_count": 16,
   "metadata": {},
   "outputs": [
    {
     "name": "stdout",
     "output_type": "stream",
     "text": [
      "WARNING:py.warnings:/home/aiida/aiida/aiida/backends/djsite/db/models.py:45: RemovedInDjango18Warning: `AiidaObjectManager.get_query_set` method should be renamed `get_queryset`.\n",
      "  class AiidaObjectManager(m.Manager):\n",
      "\n",
      "# Last daemon state_updater check: 0h:09m:22s ago (at 09:53:12 on 2017-04-24)\n",
      "  PK  State     Creation      Sched. state  Computer    Type\n",
      "----  --------  ----------  --------------  ----------  ------------------\n",
      "5217  TOSUBMIT  3s ago                      localhost   quantumespresso.pw\n",
      "\n",
      "Total results: 1\n",
      "\n"
     ]
    }
   ],
   "source": [
    "!verdi calculation list"
   ]
  },
  {
   "cell_type": "markdown",
   "metadata": {},
   "source": [
    "#### Monitor its status until completion"
   ]
  },
  {
   "cell_type": "code",
   "execution_count": 17,
   "metadata": {
    "collapsed": true,
    "hide_input": true
   },
   "outputs": [],
   "source": [
    "import time\n",
    "from IPython.display import clear_output\n",
    "\n",
    "def check_calculation_status(calc):\n",
    "    while not calc.has_finished():\n",
    "        clear_output()\n",
    "        !verdi calculation list\n",
    "        time.sleep(2)\n",
    "\n",
    "    clear_output()\n",
    "    !verdi calculation list $calc.pk"
   ]
  },
  {
   "cell_type": "code",
   "execution_count": 18,
   "metadata": {},
   "outputs": [
    {
     "name": "stdout",
     "output_type": "stream",
     "text": [
      "WARNING:py.warnings:/home/aiida/aiida/aiida/backends/djsite/db/models.py:45: RemovedInDjango18Warning: `AiidaObjectManager.get_query_set` method should be renamed `get_queryset`.\n",
      "  class AiidaObjectManager(m.Manager):\n",
      "\n",
      "# Last daemon state_updater check: 0h:00m:00s ago (at 10:03:25 on 2017-04-24)\n",
      "  PK  State     Creation    Sched. state    Computer    Type\n",
      "----  --------  ----------  --------------  ----------  ------------------\n",
      "5217  FINISHED  55s ago     DONE            localhost   quantumespresso.pw\n",
      "\n",
      "Total results: 1\n",
      "\n"
     ]
    }
   ],
   "source": [
    "check_calculation_status(calc)"
   ]
  },
  {
   "cell_type": "markdown",
   "metadata": {},
   "source": [
    "#### Check that the calculation finished successfully"
   ]
  },
  {
   "cell_type": "code",
   "execution_count": 19,
   "metadata": {},
   "outputs": [
    {
     "data": {
      "text/plain": [
       "True"
      ]
     },
     "execution_count": 19,
     "metadata": {},
     "output_type": "execute_result"
    }
   ],
   "source": [
    "calc.has_finished_ok()"
   ]
  },
  {
   "cell_type": "markdown",
   "metadata": {},
   "source": [
    "#### We can easily show all the attached outputs"
   ]
  },
  {
   "cell_type": "code",
   "execution_count": 20,
   "metadata": {},
   "outputs": [
    {
     "data": {
      "text/plain": [
       "{u'output_array': <ArrayData: uuid: 7b4cf775-e8e0-479d-84f8-f8f9cd758d5c (pk: 5222)>,\n",
       " u'output_array_5222': <ArrayData: uuid: 7b4cf775-e8e0-479d-84f8-f8f9cd758d5c (pk: 5222)>,\n",
       " u'output_kpoints': <KpointsData: uuid: 93cff57e-0ff0-4d78-a000-b0337cefcf75 (pk: 5220)>,\n",
       " u'output_kpoints_5220': <KpointsData: uuid: 93cff57e-0ff0-4d78-a000-b0337cefcf75 (pk: 5220)>,\n",
       " u'output_parameters': <ParameterData: uuid: f13ae77f-5cd5-4643-bc66-3bbee0563492 (pk: 5221)>,\n",
       " u'output_parameters_5221': <ParameterData: uuid: f13ae77f-5cd5-4643-bc66-3bbee0563492 (pk: 5221)>,\n",
       " u'remote_folder': <RemoteData: uuid: c417697a-eee9-4d31-afc9-79ca05a2b59e (pk: 5218)>,\n",
       " u'remote_folder_5218': <RemoteData: uuid: c417697a-eee9-4d31-afc9-79ca05a2b59e (pk: 5218)>,\n",
       " u'retrieved': <FolderData: uuid: 9913d36c-bf77-48c9-a1fe-71da02f495f4 (pk: 5219)>,\n",
       " u'retrieved_5219': <FolderData: uuid: 9913d36c-bf77-48c9-a1fe-71da02f495f4 (pk: 5219)>}"
      ]
     },
     "execution_count": 20,
     "metadata": {},
     "output_type": "execute_result"
    }
   ],
   "source": [
    "calc.get_outputs_dict()"
   ]
  },
  {
   "cell_type": "markdown",
   "metadata": {},
   "source": [
    "#### There are convenient methods to directly access the results"
   ]
  },
  {
   "cell_type": "code",
   "execution_count": 21,
   "metadata": {},
   "outputs": [
    {
     "name": "stdout",
     "output_type": "stream",
     "text": [
      "Total energy = -2471.82841453 eV\n"
     ]
    }
   ],
   "source": [
    "print \"Total energy = {} {}\".format(calc.res.energy, calc.res.energy_units)"
   ]
  },
  {
   "cell_type": "code",
   "execution_count": null,
   "metadata": {
    "collapsed": true
   },
   "outputs": [],
   "source": []
  }
 ],
 "metadata": {
  "kernelspec": {
   "display_name": "Python 2",
   "language": "python",
   "name": "python2"
  },
  "language_info": {
   "codemirror_mode": {
    "name": "ipython",
    "version": 2
   },
   "file_extension": ".py",
   "mimetype": "text/x-python",
   "name": "python",
   "nbconvert_exporter": "python",
   "pygments_lexer": "ipython2",
   "version": "2.7.6"
  }
 },
 "nbformat": 4,
 "nbformat_minor": 2
}
