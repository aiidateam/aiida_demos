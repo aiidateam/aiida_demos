{
 "cells": [
  {
   "cell_type": "markdown",
   "metadata": {},
   "source": [
    "# Automatic k-points and pseudopotentials\n",
    "## Run band calculations with pseudos from SSSP and k-points from SeeK-path"
   ]
  },
  {
   "cell_type": "markdown",
   "metadata": {},
   "source": [
    "<div class=\"alert alert-box alert-info\">\n",
    "This example expects that you have already imported the sample data provided with the demos (to have the SSSP pseudopotential library).\n",
    "</div>"
   ]
  },
  {
   "cell_type": "code",
   "execution_count": null,
   "metadata": {
    "hide_input": true
   },
   "outputs": [],
   "source": [
    "from aiida import load_dbenv, is_dbenv_loaded\n",
    "if not is_dbenv_loaded():\n",
    "    load_dbenv()\n",
    "from aiida.orm import DataFactory, CalculationFactory, Code, load_node\n",
    "from aiida.orm.data.base import Str\n",
    "ParameterData=DataFactory('parameter')\n",
    "import os, time, numpy, pylab\n",
    "import nglview\n",
    "from IPython.display import Image\n",
    "%matplotlib inline"
   ]
  },
  {
   "cell_type": "markdown",
   "metadata": {},
   "source": [
    "#### Load the importer from the COD database, and get a silicon supercell (take the first query result)"
   ]
  },
  {
   "cell_type": "code",
   "execution_count": null,
   "metadata": {},
   "outputs": [],
   "source": [
    "from aiida.tools.dbimporters import DbImporterFactory\n",
    "CodImporter = DbImporterFactory('cod')\n",
    "importer = CodImporter()"
   ]
  },
  {
   "cell_type": "code",
   "execution_count": null,
   "metadata": {},
   "outputs": [],
   "source": [
    "all_si_results = list(importer.query(spacegroup=\"F d -3 m :1\", formula=\"Si\"))\n",
    "cod_result = all_si_results[0] # e.g.: ID 9008565"
   ]
  },
  {
   "cell_type": "markdown",
   "metadata": {},
   "source": [
    "#### Convert it to an explicit AiiDA structure, show cell and coordinates"
   ]
  },
  {
   "cell_type": "code",
   "execution_count": null,
   "metadata": {},
   "outputs": [],
   "source": [
    "structure = cod_result.get_aiida_structure()"
   ]
  },
  {
   "cell_type": "markdown",
   "metadata": {},
   "source": [
    "#### Visualize the structure"
   ]
  },
  {
   "cell_type": "code",
   "execution_count": null,
   "metadata": {},
   "outputs": [],
   "source": [
    "view = nglview.show_ase(structure.get_ase())\n",
    "view"
   ]
  },
  {
   "cell_type": "code",
   "execution_count": null,
   "metadata": {},
   "outputs": [],
   "source": [
    "print structure._exportstring('xsf')[0]"
   ]
  },
  {
   "cell_type": "markdown",
   "metadata": {},
   "source": [
    "#### Get primitive cell from SeeK-path (also standardized according to crystallographic conventions), and show some information"
   ]
  },
  {
   "cell_type": "code",
   "execution_count": null,
   "metadata": {},
   "outputs": [],
   "source": [
    "from aiida.tools import get_kpoints_path, get_explicit_kpoints_path\n",
    "seekpath_info = get_kpoints_path(structure)\n",
    "primitive_structure = seekpath_info['primitive_structure']\n",
    "explicit_path = get_explicit_kpoints_path(structure)"
   ]
  },
  {
   "cell_type": "code",
   "execution_count": null,
   "metadata": {},
   "outputs": [],
   "source": [
    "parameters = seekpath_info['parameters'].get_dict()\n",
    "print \"Bravais lattice: {}\\nSpacegroup: {}\\nInput cell had a volume {}x w.r.t. the primitive cell\".format(\n",
    "    parameters['bravais_lattice_extended'], \n",
    "    parameters['spacegroup_international'], \n",
    "    int(parameters['volume_original_wrt_prim']))\n",
    "print \"Suggested path: \",\n",
    "print \", \".join(\"{}-{}\".format(p1, p2) for p1, p2 in parameters['path'])\n",
    "print \"K-point coordinates (scaled units):\"\n",
    "for label, coords in parameters['point_coords'].iteritems():\n",
    "    print \"{:7s} {:18.10f} {:18.10f} {:18.10f}\".format(label, *coords)"
   ]
  },
  {
   "cell_type": "markdown",
   "metadata": {},
   "source": [
    "#### Visualize primitive structure"
   ]
  },
  {
   "cell_type": "code",
   "execution_count": null,
   "metadata": {},
   "outputs": [],
   "source": [
    "view = nglview.show_ase(primitive_structure.get_ase())\n",
    "view"
   ]
  },
  {
   "cell_type": "code",
   "execution_count": null,
   "metadata": {},
   "outputs": [],
   "source": [
    "Image(filename='../common/data/bz-cF2.png')"
   ]
  },
  {
   "cell_type": "markdown",
   "metadata": {},
   "source": [
    "#### Get suggested cutoff from SSSP"
   ]
  },
  {
   "cell_type": "code",
   "execution_count": null,
   "metadata": {},
   "outputs": [],
   "source": [
    "SSSP_eff_cutoffs = {l.split()[0]: int(l.split()[1]) \n",
    "                    for l in open(os.path.join(\n",
    "                        os.path.dirname(__name__),os.pardir,\n",
    "                        'common','data','SSSP_acc_cutoffs.txt')).readlines() \n",
    "                    if l.split()[1] != '??'}"
   ]
  },
  {
   "cell_type": "code",
   "execution_count": null,
   "metadata": {
    "scrolled": true
   },
   "outputs": [],
   "source": [
    "for elem in sorted(SSSP_eff_cutoffs)[:10]:\n",
    "    print \"{:2s}: {:3.0f} Ry\".format(elem, SSSP_eff_cutoffs[elem])\n",
    "print \"   ...\""
   ]
  },
  {
   "cell_type": "markdown",
   "metadata": {},
   "source": [
    "#### Pick the suggested cutoff for this structure, as the largest cutoff for all species in the system"
   ]
  },
  {
   "cell_type": "code",
   "execution_count": null,
   "metadata": {},
   "outputs": [],
   "source": [
    "SSSP_cutoff = float(max(SSSP_eff_cutoffs[sym] for sym in structure.get_symbols_set()))\n",
    "print \"Suggested cutoff: {} Ry\".format(SSSP_cutoff)"
   ]
  },
  {
   "cell_type": "markdown",
   "metadata": {},
   "source": [
    "#### Pick a suitable regular mesh from a given density; here: 0.4 Angstrom<sup>-1</sup>"
   ]
  },
  {
   "cell_type": "code",
   "execution_count": null,
   "metadata": {},
   "outputs": [],
   "source": [
    "KpointsData = DataFactory('array.kpoints')\n",
    "kpts = KpointsData()\n",
    "kpts.set_cell_from_structure(primitive_structure)\n",
    "kpts.set_kpoints_mesh_from_density(distance=0.4, offset=[0.,0.,0.])"
   ]
  },
  {
   "cell_type": "code",
   "execution_count": null,
   "metadata": {},
   "outputs": [],
   "source": [
    "print kpts.get_kpoints_mesh()"
   ]
  },
  {
   "cell_type": "markdown",
   "metadata": {},
   "source": [
    "#### Select the code to use"
   ]
  },
  {
   "cell_type": "code",
   "execution_count": null,
   "metadata": {},
   "outputs": [],
   "source": [
    "from notebook_helpers import get_code_pwonly_dropdown\n",
    "from IPython.display import display\n",
    "code_group = get_code_pwonly_dropdown()\n",
    "display(code_group)"
   ]
  },
  {
   "cell_type": "markdown",
   "metadata": {},
   "source": [
    "#### Generate a Quantum ESPRESSO relaxation calculation and submit it"
   ]
  },
  {
   "cell_type": "code",
   "execution_count": null,
   "metadata": {},
   "outputs": [],
   "source": [
    "from aiida.orm import CalculationFactory, load_node\n",
    "from aiida.work.run import run, submit\n",
    "from aiida_quantumespresso.utils.pseudopotential import validate_and_prepare_pseudos_inputs\n",
    "from aiida_quantumespresso.utils.resources import get_default_options\n",
    "\n",
    "PwCalculation = CalculationFactory('quantumespresso.pw')\n",
    "\n",
    "# Dictionary, where values are the code labels of each type of code required\n",
    "# Here we require only PW\n",
    "code_names = code_group.children[1].value\n",
    "if code_names:\n",
    "    code_name = code_names['pw']\n",
    "    print \"I will use the code '{}'\".format(code_names['pw'])\n",
    "else:\n",
    "    print \"No code found: the rest will crash. Select a code, or configure one first!\"\n",
    "    code_name = None\n",
    "code = Code.get_from_string(code_name)\n",
    "parameters = {\n",
    "    'CONTROL': {\n",
    "        'calculation': 'relax',\n",
    "        'restart_mode': 'from_scratch',\n",
    "    },\n",
    "    'SYSTEM': {\n",
    "        'ecutwfc': SSSP_cutoff,\n",
    "        'ecutrho': 8. * SSSP_cutoff,\n",
    "    },\n",
    "    'ELECTRONS': {\n",
    "        'conv_thr': 1.e-10,\n",
    "    }\n",
    "}\n",
    "\n",
    "inputs = {\n",
    "    'code': code,\n",
    "    'structure': primitive_structure,\n",
    "    'kpoints': kpts,\n",
    "    'parameters': ParameterData(dict=parameters),\n",
    "    'pseudo': validate_and_prepare_pseudos_inputs(primitive_structure, pseudo_family=Str('SSSP')),\n",
    "    '_options': get_default_options()\n",
    "}"
   ]
  },
  {
   "cell_type": "markdown",
   "metadata": {},
   "source": [
    "<div class=\"alert alert-box alert-info\">\n",
    "Remember at this stage to check if the daemon is started, otherwise the calculation will never run<br>\n",
    "<br>\n",
    "To check the daemon status, run in a terminal `verdi daemon status`<br>\n",
    "To start the daemon, run in a terminal `verdi daemon start`\n",
    "</div>"
   ]
  },
  {
   "cell_type": "code",
   "execution_count": null,
   "metadata": {},
   "outputs": [],
   "source": [
    "\n",
    "print('Running a {} pw.x calculation... '.format('relax'))\n",
    "results, pk = run(PwCalculation.process(), _return_pid=True, **inputs)\n",
    "calc = load_node(pk)\n",
    "print('PwCalculation<{}> terminated with state: {}'.format(calc.pk, calc.get_state()))\n",
    "print('\\n{link:25s} {node}'.format(link='Output link', node='Node pk and type'))\n",
    "print('{s}'.format(s='-'*60))\n",
    "for link, node in sorted(calc.get_outputs(also_labels=True)):\n",
    "    print('{:25s} <{}> {}'.format(link, node.pk, node.__class__.__name__))"
   ]
  },
  {
   "cell_type": "markdown",
   "metadata": {},
   "source": [
    "#### Perform the bands calculation "
   ]
  },
  {
   "cell_type": "code",
   "execution_count": null,
   "metadata": {},
   "outputs": [],
   "source": [
    "parameters = {\n",
    "    'CONTROL': {\n",
    "        'calculation': 'bands',\n",
    "        'restart_mode': 'restart',\n",
    "    },\n",
    "    'SYSTEM': {\n",
    "        'ecutwfc': SSSP_cutoff,\n",
    "        'ecutrho': 8. * SSSP_cutoff,\n",
    "    },\n",
    "    'ELECTRONS': {\n",
    "        'conv_thr': 1.e-10,\n",
    "    }\n",
    "}\n",
    "\n",
    "inputs = {\n",
    "    'code': code,\n",
    "    'structure': calc.out.output_structure,\n",
    "    'parent_folder': calc.out.remote_folder,\n",
    "    'kpoints': explicit_path['explicit_kpoints'],\n",
    "    'parameters': ParameterData(dict=parameters),\n",
    "    'pseudo': validate_and_prepare_pseudos_inputs(primitive_structure, pseudo_family=Str('SSSP')),\n",
    "    '_options': get_default_options()\n",
    "}"
   ]
  },
  {
   "cell_type": "code",
   "execution_count": null,
   "metadata": {},
   "outputs": [],
   "source": [
    "print('Running a {} pw.x calculation... '.format('bands'))\n",
    "results, pk = run(PwCalculation.process(), _return_pid=True, **inputs)\n",
    "bandscalc = load_node(pk)\n",
    "print('PwCalculation<{}> terminated with state: {}'.format(bandscalc.pk, bandscalc.get_state()))\n",
    "print('\\n{link:25s} {node}'.format(link='Output link', node='Node pk and type'))\n",
    "print('{s}'.format(s='-'*60))\n",
    "for link, node in sorted(bandscalc.get_outputs(also_labels=True)):\n",
    "    print('{:25s} <{}> {}'.format(link, node.pk, node.__class__.__name__))"
   ]
  },
  {
   "cell_type": "markdown",
   "metadata": {},
   "source": [
    "#### Retrieve the BandsData object and plot it with matplotlib"
   ]
  },
  {
   "cell_type": "code",
   "execution_count": null,
   "metadata": {},
   "outputs": [],
   "source": [
    "bandsdata = bandscalc.out.output_band\n",
    "bandsdata.show_mpl()"
   ]
  },
  {
   "cell_type": "code",
   "execution_count": null,
   "metadata": {},
   "outputs": [],
   "source": []
  }
 ],
 "metadata": {
  "kernelspec": {
   "display_name": "Python 2",
   "language": "python",
   "name": "python2"
  },
  "language_info": {
   "codemirror_mode": {
    "name": "ipython",
    "version": 2
   },
   "file_extension": ".py",
   "mimetype": "text/x-python",
   "name": "python",
   "nbconvert_exporter": "python",
   "pygments_lexer": "ipython2",
   "version": "2.7.12"
  }
 },
 "nbformat": 4,
 "nbformat_minor": 2
}
