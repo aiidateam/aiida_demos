{
 "cells": [
  {
   "cell_type": "markdown",
   "metadata": {},
   "source": [
    "# Using queries to understand AiiDA database contents #1\n",
    "## General information on Computers, Groups, Nodes and node connectivity"
   ]
  },
  {
   "cell_type": "code",
   "execution_count": 6,
   "metadata": {
    "collapsed": true,
    "hide_input": true
   },
   "outputs": [],
   "source": [
    "from aiida import load_dbenv, is_dbenv_loaded\n",
    "if not is_dbenv_loaded():\n",
    "    load_dbenv()\n",
    "from aiida.orm import load_node, Node, Group, Computer, User\n",
    "from aiida.orm.querybuilder import QueryBuilder"
   ]
  },
  {
   "cell_type": "markdown",
   "metadata": {},
   "source": [
    "#### How many nodes/groups/computers/users are stored in my database?"
   ]
  },
  {
   "cell_type": "code",
   "execution_count": 7,
   "metadata": {},
   "outputs": [
    {
     "name": "stdout",
     "output_type": "stream",
     "text": [
      "My database contains:\n",
      "    2  Users\n",
      "    2  Computers\n",
      "   14  Groups\n",
      " 5163  Nodes\n"
     ]
    }
   ],
   "source": [
    "print \"My database contains:\"\n",
    "for cls in (User, Computer, Group, Node):\n",
    "    qb = QueryBuilder()\n",
    "    qb.append(cls)\n",
    "    count = qb.count()\n",
    "    print \"{:>5}  {}s\".format(count, cls.__name__)"
   ]
  },
  {
   "cell_type": "markdown",
   "metadata": {},
   "source": [
    "#### How many of each subclass of Group/Node are stored in my database"
   ]
  },
  {
   "cell_type": "code",
   "execution_count": 8,
   "metadata": {},
   "outputs": [
    {
     "name": "stdout",
     "output_type": "stream",
     "text": [
      "\n",
      "Subclasses of Node:\n",
      "   PwCalculation   | 485 \n",
      "   WorkCalculation | 28  \n",
      "   Code            | 2   \n",
      "   ArrayData       | 478 \n",
      "   BandsData       | 2   \n",
      "   KpointsData     | 909 \n",
      "   TrajectoryData  | 2   \n",
      "   Float           | 24  \n",
      "   Int             | 4   \n",
      "   Str             | 12  \n",
      "   FolderData      | 481 \n",
      "   ParameterData   | 1414\n",
      "   RemoteData      | 481 \n",
      "   StructureData   | 668 \n",
      "   UpfData         | 173 \n",
      "\n",
      "Subclasses of Group:\n",
      "   N/A             | 3   \n",
      "   import          | 1   \n",
      "   run             | 6   \n",
      "   family          | 4   \n"
     ]
    }
   ],
   "source": [
    "for cls in (Node, Group):\n",
    "    print '\\n', 'Subclasses of {}:'.format(cls.__name__)\n",
    "    qb1 = QueryBuilder()\n",
    "    qb1.append(cls, project='type')\n",
    "    distinct_types, = zip(*qb1.distinct().all()) # Getting all distinct types\n",
    "    # Iterating through distinct types:\n",
    "    for dtype in sorted(distinct_types):\n",
    "        qb2 = QueryBuilder()\n",
    "        qb2.append(cls, filters={'type':dtype})\n",
    "        subcls_count = qb2.count()\n",
    "        print '   {:<15} | {:<4}'.format(dtype.strip('.').split('.')[-1] or \"N/A\", subcls_count)"
   ]
  },
  {
   "cell_type": "markdown",
   "metadata": {},
   "source": [
    "#### What is the connectivity of my database? How many links? How many distinct paths?"
   ]
  },
  {
   "cell_type": "code",
   "execution_count": 5,
   "metadata": {},
   "outputs": [
    {
     "name": "stdout",
     "output_type": "stream",
     "text": [
      "\n",
      "The number of links in my database is: 6647\n",
      "\n",
      "The number of distinct paths in my database is: 62063\n"
     ]
    }
   ],
   "source": [
    "qb1 = QueryBuilder()\n",
    "qb1.append(Node, tag='n1')\n",
    "qb1.append(Node, output_of='n1')\n",
    "link_count = qb1.count()\n",
    "print '\\nThe number of links in my database is: {}'.format(link_count)\n",
    "\n",
    "qb2 = QueryBuilder()\n",
    "qb2.append(Node, tag='n1')\n",
    "qb2.append(Node, descendant_of='n1')\n",
    "path_count = qb2.count()\n",
    "print '\\nThe number of distinct paths in my database is: {}'.format(path_count)\n"
   ]
  },
  {
   "cell_type": "code",
   "execution_count": null,
   "metadata": {
    "collapsed": true
   },
   "outputs": [],
   "source": []
  }
 ],
 "metadata": {
  "kernelspec": {
   "display_name": "Python 2",
   "language": "python",
   "name": "python2"
  },
  "language_info": {
   "codemirror_mode": {
    "name": "ipython",
    "version": 2
   },
   "file_extension": ".py",
   "mimetype": "text/x-python",
   "name": "python",
   "nbconvert_exporter": "python",
   "pygments_lexer": "ipython2",
   "version": "2.7.6"
  }
 },
 "nbformat": 4,
 "nbformat_minor": 2
}
