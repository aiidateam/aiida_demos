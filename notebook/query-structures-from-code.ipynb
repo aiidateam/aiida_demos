{
 "cells": [
  {
   "cell_type": "markdown",
   "metadata": {},
   "source": [
    "## Query codes and connected calculations"
   ]
  },
  {
   "cell_type": "code",
   "execution_count": 2,
   "metadata": {
    "collapsed": true,
    "hide_input": true
   },
   "outputs": [],
   "source": [
    "import numpy as np\n",
    "from aiida import load_dbenv, is_dbenv_loaded\n",
    "if not is_dbenv_loaded():\n",
    "    load_dbenv()\n",
    "from aiida.orm import load_node, Node, Code, Calculation, CalculationFactory\n",
    "from aiida.orm.data.structure import StructureData\n",
    "from aiida.orm.data.parameter import ParameterData\n",
    "from aiida.orm.querybuilder import QueryBuilder\n",
    "\n"
   ]
  },
  {
   "cell_type": "markdown",
   "metadata": {},
   "source": [
    "Which codes do I have, and how many calculations have I launched with each one of them?"
   ]
  },
  {
   "cell_type": "code",
   "execution_count": 23,
   "metadata": {},
   "outputs": [
    {
     "name": "stdout",
     "output_type": "stream",
     "text": [
      "+------------------+------------------+\n",
      "| Codename         |  #calculations   |\n",
      "+------------------+------------------+\n",
      "| pw-SVN-piz-daint |       444        |\n",
      "| pw-5.1           |        28        |\n",
      "+------------------+------------------+\n"
     ]
    }
   ],
   "source": [
    "print \"+-{:-^16}-+-{:-^16}-+\".format(\"\", \"\")\n",
    "print \"| {:<16} | {:^16} |\".format(\"Codename\", \"#calculations\")\n",
    "print \"+-{:-^16}-+-{:-^16}-+\".format(\"\", \"\")\n",
    "qb = QueryBuilder()\n",
    "qb.append(Code)\n",
    "all_codes = qb.all()\n",
    "for code, in all_codes:\n",
    "    code_query = QueryBuilder()\n",
    "    code_query.append(Code, filters={'id':code.id}, tag='code')\n",
    "    code_query.append(Calculation, output_of='code')\n",
    "    calculation_count = code_query.count()\n",
    "    print \"| {:<16} | {:^16} |\".format(code.label, calculation_count)\n",
    "print \"+-{:-^16}-+-{:-^16}-+\".format(\"\", \"\")"
   ]
  },
  {
   "cell_type": "markdown",
   "metadata": {},
   "source": [
    "I am interested in some more statistics of a specific code:\n",
    "I want to find all vc-relax QE-calculation that were run using the Code with label \"pw-SVN-piz-daint\"\n",
    "that ran on a single machine.\n",
    "What was the average walltime used by these calculations?"
   ]
  },
  {
   "cell_type": "code",
   "execution_count": 24,
   "metadata": {},
   "outputs": [
    {
     "name": "stdout",
     "output_type": "stream",
     "text": [
      "Number of calculations: 444\n",
      "Average walltime (in seconds): 550.15045045\n"
     ]
    }
   ],
   "source": [
    "# Instantiating a query-object:\n",
    "qb = QueryBuilder()\n",
    "# Aadding the code and a filter on the label:\n",
    "qb.append(Code, filters={'label':'pw-SVN-piz-daint'}, tag='code')\n",
    "# Adding the calculation as an output of this code, and a filter on the resources:\n",
    "qb.append(CalculationFactory('quantumespresso.pw'), output_of='code', tag='calculation', \n",
    "          filters={'attributes.jobresource_params.num_machines':1}\n",
    "    )\n",
    "# Adding the parameters of the calculation to the query, filtering by calculation type:\n",
    "qb.append(ParameterData, input_of='calculation',\n",
    "          filters={'attributes.CONTROL.calculation':'vc-relax'})\n",
    "# Adding the output-parameters of the calculation, projecting on wall time consumed:\n",
    "qb.append(ParameterData, output_of='calculation', project=('attributes.wall_time_seconds'))\n",
    "\n",
    "all_walltimes = qb.all()\n",
    "\n",
    "print \"Number of calculations:\", len(all_walltimes)\n",
    "print \"Average walltime (in seconds):\", np.mean(zip(*all_walltimes)[0])\n"
   ]
  },
  {
   "cell_type": "code",
   "execution_count": null,
   "metadata": {
    "collapsed": true
   },
   "outputs": [],
   "source": []
  }
 ],
 "metadata": {
  "kernelspec": {
   "display_name": "Python 2",
   "language": "python",
   "name": "python2"
  },
  "language_info": {
   "codemirror_mode": {
    "name": "ipython",
    "version": 2
   },
   "file_extension": ".py",
   "mimetype": "text/x-python",
   "name": "python",
   "nbconvert_exporter": "python",
   "pygments_lexer": "ipython2",
   "version": "2.7.6"
  }
 },
 "nbformat": 4,
 "nbformat_minor": 2
}
