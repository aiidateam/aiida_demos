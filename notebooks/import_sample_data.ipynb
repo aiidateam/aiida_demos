{
 "cells": [
  {
   "cell_type": "markdown",
   "metadata": {},
   "source": [
    "## Import sample data coming along with the AiiDA demos and tutorials"
   ]
  },
  {
   "cell_type": "markdown",
   "metadata": {},
   "source": [
    "Run the following command to import in your database the data used for the demo.\n",
    "This demo data include:\n",
    "- calculations on perovskites performed on about 50 perovskites with three different pseudopotentials\n",
    "- a few groups named `tutorial_*` that collect relevant calculations\n",
    "- a version of the SSSP pseudopotential library (in a group named `SSSP`)\n",
    "- a few more nodes used in the tutorial"
   ]
  },
  {
   "cell_type": "markdown",
   "metadata": {},
   "source": [
    "<div class=\"alert alert-box alert-info\">\n",
    "This import file is compatible with AiiDA 0.11.4. \n",
    "For newer AiiDA versions you might need to download it and run `verdi export migrate` on it first.\n",
    "</div>"
   ]
  },
  {
   "cell_type": "code",
   "execution_count": null,
   "metadata": {},
   "outputs": [],
   "source": [
    "import os\n",
    "\n",
    "# For the time being, the file is hosted on dropbox\n",
    "import_url = \"https://www.dropbox.com/s/4z6rnzne9z3s5zq/import_data_for_demo_aiida_v0.11.4.aiida?dl=1\"\n",
    "import_file = \"/tmp/import_data_for_demo_aiida_v0.11.4.aiida\"\n",
    "\n",
    "! wget \"{import_url}\" -O \"{import_file}\""
   ]
  },
  {
   "cell_type": "markdown",
   "metadata": {},
   "source": [
    "### Let's run `verdi import` to import the data"
   ]
  },
  {
   "cell_type": "code",
   "execution_count": null,
   "metadata": {},
   "outputs": [],
   "source": [
    "!verdi import {import_file}"
   ]
  },
  {
   "cell_type": "markdown",
   "metadata": {},
   "source": [
    "### I check if the import went fine"
   ]
  },
  {
   "cell_type": "code",
   "execution_count": null,
   "metadata": {},
   "outputs": [],
   "source": [
    "%aiida\n",
    "from aiida.orm import load_node\n",
    "from IPython.display import display, Markdown\n",
    "from aiida.common.exceptions import NotExistent\n",
    "\n",
    "try:\n",
    "    n = load_node('2bc836d1-02ee-4d5e-acc3-925f0878d767')\n",
    "    display(Markdown('<div class=\"alert alert-box alert-info\">I could find a node that is in the import, so I expect that the import went fine.</div>'))\n",
    "except NotExistent:\n",
    "     display(Markdown('<div class=\"alert alert-box alert-danger\">There was a problem in the import! I cannot find a node that I expect.</div>'))"
   ]
  },
  {
   "cell_type": "code",
   "execution_count": null,
   "metadata": {},
   "outputs": [],
   "source": []
  }
 ],
 "metadata": {
  "kernelspec": {
   "display_name": "Python 2",
   "language": "python",
   "name": "python2"
  },
  "language_info": {
   "codemirror_mode": {
    "name": "ipython",
    "version": 2
   },
   "file_extension": ".py",
   "mimetype": "text/x-python",
   "name": "python",
   "nbconvert_exporter": "python",
   "pygments_lexer": "ipython2",
   "version": "2.7.14"
  }
 },
 "nbformat": 4,
 "nbformat_minor": 2
}
