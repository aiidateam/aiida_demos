{
 "cells": [
  {
   "cell_type": "markdown",
   "metadata": {},
   "source": [
    "# Submit PW calculation\n",
    "#### Create a structure, kpoints, and input parameters and submit a Quantum ESPRESSO calculation"
   ]
  },
  {
   "cell_type": "code",
   "execution_count": 3,
   "metadata": {
    "collapsed": true,
    "hide_input": true
   },
   "outputs": [],
   "source": [
    "from aiida.backends.utils import load_dbenv, is_dbenv_loaded\n",
    "if not is_dbenv_loaded():\n",
    "    load_dbenv()\n",
    "\n",
    "from aiida.orm.utils import load_node\n",
    "from aiida.work.run import run\n",
    "from aiida.orm.code import Code\n",
    "from aiida.orm.data.base import Bool, Str\n",
    "from aiida.orm.data.parameter import ParameterData\n",
    "from aiida.orm.data.array.kpoints import KpointsData\n",
    "from aiida.orm.data.structure import StructureData\n",
    "from ase.lattice.spacegroup import crystal"
   ]
  },
  {
   "cell_type": "markdown",
   "metadata": {},
   "source": [
    "#### Create a diamond cubic crystal structure"
   ]
  },
  {
   "cell_type": "code",
   "execution_count": 4,
   "metadata": {},
   "outputs": [
    {
     "data": {
      "text/plain": [
       "<StructureData: uuid: 6919e37a-f710-4f5c-8e38-a7d0f5cf142b (pk: 4936)>"
      ]
     },
     "execution_count": 4,
     "metadata": {},
     "output_type": "execute_result"
    }
   ],
   "source": [
    "# Define a structure, employing the Atomic Structure Environment library\n",
    "alat = 3.568\n",
    "ase_definition = crystal('C', [(0,0,0)], spacegroup=227, cellpar=[alat, alat, alat, 90, 90, 90], primitive_cell=True)*2\n",
    "structure = StructureData(ase=ase_definition)\n",
    "structure.store()"
   ]
  },
  {
   "cell_type": "markdown",
   "metadata": {},
   "source": [
    "#### Create the _k_-points mesh"
   ]
  },
  {
   "cell_type": "code",
   "execution_count": 3,
   "metadata": {},
   "outputs": [
    {
     "data": {
      "text/plain": [
       "<KpointsData: uuid: 64587c03-96d9-466c-a524-968864432003 (pk: 4503)>"
      ]
     },
     "execution_count": 3,
     "metadata": {},
     "output_type": "execute_result"
    }
   ],
   "source": [
    "# Define the k-points mesh\n",
    "kpoints = KpointsData()\n",
    "kpoints_mesh = [1, 1, 1]\n",
    "kpoints.set_kpoints_mesh(kpoints_mesh)\n",
    "kpoints.store()"
   ]
  },
  {
   "cell_type": "markdown",
   "metadata": {},
   "source": [
    "#### Define the calculation input parameters"
   ]
  },
  {
   "cell_type": "code",
   "execution_count": 4,
   "metadata": {
    "collapsed": true
   },
   "outputs": [],
   "source": [
    "# Define the pseudo potential family and input parameters for pw.x\n",
    "pseudo_family = 'SSSP_v0.7_eff_PBE'\n",
    "parameters = {\n",
    "    'CONTROL': {\n",
    "        \"calculation\": \"scf\",\n",
    "        'tstress': True,\n",
    "    },\n",
    "    'SYSTEM': {\n",
    "        'ecutwfc': 40.,\n",
    "        'ecutrho': 320.,\n",
    "    },\n",
    "    'ELECTRONS': {\n",
    "        'conv_thr': 1.e-10,\n",
    "    }\n",
    "}"
   ]
  },
  {
   "cell_type": "markdown",
   "metadata": {},
   "source": [
    "#### Tell AiiDA which code to use"
   ]
  },
  {
   "cell_type": "code",
   "execution_count": 5,
   "metadata": {
    "collapsed": true
   },
   "outputs": [],
   "source": [
    "# Retrieve the code\n",
    "codename = 'pw-v5.4.0'\n",
    "code = Code.get_from_string(codename)"
   ]
  },
  {
   "cell_type": "code",
   "execution_count": 6,
   "metadata": {
    "collapsed": true
   },
   "outputs": [],
   "source": [
    "# Create a new calculation from the code and set the inputs\n",
    "calc = code.new_calc()\n",
    "calc.use_structure(structure)\n",
    "calc.use_pseudos_from_family(pseudo_family)\n",
    "calc.use_parameters(ParameterData(dict=parameters))\n",
    "calc.use_kpoints(kpoints)\n",
    "calc.set_resources({\"num_machines\": 1})\n",
    "calc.set_max_wallclock_seconds(30*60)"
   ]
  },
  {
   "cell_type": "code",
   "execution_count": 7,
   "metadata": {},
   "outputs": [
    {
     "name": "stdout",
     "output_type": "stream",
     "text": [
      "Submitted a PwCalculation with pk<4505>\n"
     ]
    }
   ],
   "source": [
    "# Simply store the calculation and submit it\n",
    "calc.store_all()\n",
    "calc.submit()\n",
    "print \"Submitted a {} with pk<{}>\".format(calc.__class__.__name__, calc.pk)"
   ]
  },
  {
   "cell_type": "code",
   "execution_count": 12,
   "metadata": {},
   "outputs": [
    {
     "name": "stdout",
     "output_type": "stream",
     "text": [
      "# Last daemon state_updater check: 0h:00m:00s ago (at 14:28:17 on 2017-04-13)\n",
      "PK    State    Creation    Sched. state    Computer    Type\n",
      "----  -------  ----------  --------------  ----------  ------\n",
      "\n",
      "Total results: 0\n",
      "\n"
     ]
    }
   ],
   "source": [
    "!verdi calculation list"
   ]
  },
  {
   "cell_type": "code",
   "execution_count": 13,
   "metadata": {},
   "outputs": [
    {
     "data": {
      "text/plain": [
       "True"
      ]
     },
     "execution_count": 13,
     "metadata": {},
     "output_type": "execute_result"
    }
   ],
   "source": [
    "# Load the calculation node and check if it finished correctly\n",
    "calculation = load_node(calc.pk)\n",
    "calculation.has_finished_ok()"
   ]
  },
  {
   "cell_type": "code",
   "execution_count": 14,
   "metadata": {},
   "outputs": [
    {
     "data": {
      "text/plain": [
       "{u'output_array': <ArrayData: uuid: 3b32da67-1578-43dd-9e83-3e73b0a0cf28 (pk: 4510)>,\n",
       " u'output_array_4510': <ArrayData: uuid: 3b32da67-1578-43dd-9e83-3e73b0a0cf28 (pk: 4510)>,\n",
       " u'output_kpoints': <KpointsData: uuid: f155fba8-ccd9-4c55-98c7-9e3347c6e160 (pk: 4508)>,\n",
       " u'output_kpoints_4508': <KpointsData: uuid: f155fba8-ccd9-4c55-98c7-9e3347c6e160 (pk: 4508)>,\n",
       " u'output_parameters': <ParameterData: uuid: 0f69eb3d-e3d1-4d74-b807-e9b9e7cf35da (pk: 4509)>,\n",
       " u'output_parameters_4509': <ParameterData: uuid: 0f69eb3d-e3d1-4d74-b807-e9b9e7cf35da (pk: 4509)>,\n",
       " u'remote_folder': <RemoteData: uuid: c1129d33-72d5-470b-91ff-6ac1e8687e54 (pk: 4506)>,\n",
       " u'remote_folder_4506': <RemoteData: uuid: c1129d33-72d5-470b-91ff-6ac1e8687e54 (pk: 4506)>,\n",
       " u'retrieved': <FolderData: uuid: b536dcd1-86df-4b61-80ce-4062748a0880 (pk: 4507)>,\n",
       " u'retrieved_4507': <FolderData: uuid: b536dcd1-86df-4b61-80ce-4062748a0880 (pk: 4507)>}"
      ]
     },
     "execution_count": 14,
     "metadata": {},
     "output_type": "execute_result"
    }
   ],
   "source": [
    "# We can easily show all the attached outputs\n",
    "calculation.get_outputs_dict()"
   ]
  },
  {
   "cell_type": "code",
   "execution_count": 15,
   "metadata": {},
   "outputs": [
    {
     "name": "stdout",
     "output_type": "stream",
     "text": [
      "Total energy = -2471.82841453 eV\n"
     ]
    }
   ],
   "source": [
    "# There are convenience methods to directly access the results\n",
    "print \"Total energy = {} {}\".format(calculation.res.energy, calculation.res.energy_units)"
   ]
  },
  {
   "cell_type": "code",
   "execution_count": null,
   "metadata": {
    "collapsed": true
   },
   "outputs": [],
   "source": []
  }
 ],
 "metadata": {
  "kernelspec": {
   "display_name": "Python 2",
   "language": "python",
   "name": "python2"
  },
  "language_info": {
   "codemirror_mode": {
    "name": "ipython",
    "version": 2
   },
   "file_extension": ".py",
   "mimetype": "text/x-python",
   "name": "python",
   "nbconvert_exporter": "python",
   "pygments_lexer": "ipython2",
   "version": "2.7.6"
  }
 },
 "nbformat": 4,
 "nbformat_minor": 2
}
