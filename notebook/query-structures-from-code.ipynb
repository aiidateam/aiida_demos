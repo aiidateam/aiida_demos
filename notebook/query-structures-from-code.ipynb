{
 "cells": [
  {
   "cell_type": "markdown",
   "metadata": {},
   "source": [
    "## Query structures from code\n",
    "### bla"
   ]
  },
  {
   "cell_type": "code",
   "execution_count": 2,
   "metadata": {
    "collapsed": true,
    "hide_input": true
   },
   "outputs": [],
   "source": [
    "import numpy as np\n",
    "from aiida import load_dbenv, is_dbenv_loaded\n",
    "if not is_dbenv_loaded():\n",
    "    load_dbenv()\n",
    "from aiida.orm import load_node, Node, Code, Calculation, CalculationFactory\n",
    "from aiida.orm.data.structure import StructureData\n",
    "from aiida.orm.data.parameter import ParameterData\n",
    "from aiida.orm.querybuilder import QueryBuilder\n",
    "\n"
   ]
  },
  {
   "cell_type": "code",
   "execution_count": 3,
   "metadata": {},
   "outputs": [
    {
     "name": "stdout",
     "output_type": "stream",
     "text": [
      "1088 pw-SVN-piz-daint 444\n",
      "4681 pw-5.1 21\n"
     ]
    }
   ],
   "source": [
    "# Which codes do I have, and how many calculations have I launched with each one of them?\n",
    "for code, in QueryBuilder().append(Code).all():\n",
    "    print code.id, code.label, QueryBuilder().append(Code, filters={'id':code.id}).append(Calculation).count()"
   ]
  },
  {
   "cell_type": "code",
   "execution_count": 4,
   "metadata": {},
   "outputs": [
    {
     "name": "stdout",
     "output_type": "stream",
     "text": [
      "Average walltime (in seconds): 550.15045045\n"
     ]
    }
   ],
   "source": [
    "# Now I want to find out all vc-relax QE-calculation that were run using the Code with label pw-SVN-piz-daint\n",
    "# on a single machine.\n",
    "# I am interested in the average walltime used by these calculations\n",
    "\n",
    "qb = QueryBuilder()\n",
    "qb.append(Code, filters={'label':'pw-SVN-piz-daint'})\n",
    "qb.append(CalculationFactory('quantumespresso.pw'),tag='calculation', \n",
    "          filters={'attributes.jobresource_params.num_machines':1})\n",
    "qb.append(ParameterData, input_of='calculation',\n",
    "          filters={'attributes.SYSTEM.ecutwfc':{'>=':50}, 'attributes.CONTROL.calculation':'vc-relax'})\n",
    "qb.append(ParameterData, output_of='calculation', project=('attributes.wall_time_seconds'))\n",
    "\n",
    "print \"Average walltime (in seconds):\", np.mean(zip(*qb.all())[0])\n"
   ]
  },
  {
   "cell_type": "code",
   "execution_count": null,
   "metadata": {
    "collapsed": true
   },
   "outputs": [],
   "source": []
  }
 ],
 "metadata": {
  "kernelspec": {
   "display_name": "Python 2",
   "language": "python",
   "name": "python2"
  },
  "language_info": {
   "codemirror_mode": {
    "name": "ipython",
    "version": 2
   },
   "file_extension": ".py",
   "mimetype": "text/x-python",
   "name": "python",
   "nbconvert_exporter": "python",
   "pygments_lexer": "ipython2",
   "version": "2.7.6"
  }
 },
 "nbformat": 4,
 "nbformat_minor": 2
}
