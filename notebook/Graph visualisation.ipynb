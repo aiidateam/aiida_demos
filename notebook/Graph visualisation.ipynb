{
 "cells": [
  {
   "cell_type": "code",
   "execution_count": 1,
   "metadata": {
    "hide_input": true
   },
   "outputs": [],
   "source": [
    "from aiida import load_dbenv, is_dbenv_loaded\n",
    "if not is_dbenv_loaded():\n",
    "    load_dbenv()\n",
    "from aiida.orm import load_node\n",
    "from IPython.display import Image\n",
    "import markdown"
   ]
  },
  {
   "cell_type": "code",
   "execution_count": 2,
   "metadata": {
    "collapsed": true
   },
   "outputs": [],
   "source": [
    "def generate_graph(pk):\n",
    "    !verdi graph generate {pk}\n",
    "    !dot -Tpng {pk}.dot -o {pk}.png\n",
    "    return \"{}.png\".format(pk)"
   ]
  },
  {
   "cell_type": "markdown",
   "metadata": {},
   "source": [
    "Get the list of executed calculations"
   ]
  },
  {
   "cell_type": "code",
   "execution_count": 3,
   "metadata": {},
   "outputs": [
    {
     "name": "stdout",
     "output_type": "stream",
     "text": [
      "# Last daemon state_updater check: 0h:00m:09s ago (at 13:08:36 on 2017-04-20)\n",
      "  PK  State             Creation    Sched. state    Computer    Type\n",
      "----  ----------------  ----------  --------------  ----------  ------------------\n",
      "4685  FINISHED          328D ago    DONE            localhost   quantumespresso.pw\n",
      "4694  FAILED            327D ago                    localhost   quantumespresso.pw\n",
      "4698  FAILED            327D ago                    localhost   quantumespresso.pw\n",
      "4702  FINISHED          327D ago    DONE            localhost   quantumespresso.pw\n",
      "4708  SUBMISSIONFAILED  317D ago                    localhost   quantumespresso.pw\n",
      "4709  FAILED            317D ago    DONE            localhost   quantumespresso.pw\n",
      "4714  FINISHED          317D ago    DONE            localhost   quantumespresso.pw\n",
      "4723  FINISHED          309D ago    DONE            localhost   quantumespresso.pw\n",
      "4731  FINISHED          309D ago    DONE            localhost   quantumespresso.pw\n",
      "4811  FAILED            285D ago                    localhost   quantumespresso.pw\n",
      "4829  FINISHED          7D ago      DONE            localhost   quantumespresso.pw\n",
      "4839  FINISHED          7D ago      DONE            localhost   quantumespresso.pw\n",
      "4849  FINISHED          7D ago      DONE            localhost   quantumespresso.pw\n",
      "4859  FINISHED          7D ago      DONE            localhost   quantumespresso.pw\n",
      "4869  FINISHED          7D ago      DONE            localhost   quantumespresso.pw\n",
      "4889  FINISHED          7D ago      DONE            localhost   quantumespresso.pw\n",
      "4899  FINISHED          7D ago      DONE            localhost   quantumespresso.pw\n",
      "4909  FINISHED          7D ago      DONE            localhost   quantumespresso.pw\n",
      "4919  FINISHED          7D ago      DONE            localhost   quantumespresso.pw\n",
      "4929  FINISHED          7D ago      DONE            localhost   quantumespresso.pw\n",
      "4941  FINISHED          40m ago     DONE            localhost   quantumespresso.pw\n",
      "\n",
      "Total results: 21\n",
      "\n"
     ]
    }
   ],
   "source": [
    "!verdi calculation list -a"
   ]
  },
  {
   "cell_type": "markdown",
   "metadata": {},
   "source": [
    "Generate the graph for a calculation and show it"
   ]
  },
  {
   "cell_type": "code",
   "execution_count": 4,
   "metadata": {},
   "outputs": [
    {
     "name": "stdout",
     "output_type": "stream",
     "text": [
      "out_file_name  4811.dot\r\n"
     ]
    },
    {
     "data": {
      "text/plain": [
       "'4811.png'"
      ]
     },
     "execution_count": 4,
     "metadata": {},
     "output_type": "execute_result"
    }
   ],
   "source": [
    "generate_graph(4811)"
   ]
  },
  {
   "cell_type": "markdown",
   "metadata": {},
   "source": [
    "![title](4811.png)"
   ]
  },
  {
   "cell_type": "code",
   "execution_count": 5,
   "metadata": {},
   "outputs": [
    {
     "data": {
      "text/plain": [
       "[(u'code',\n",
       "  <Code: Remote code 'pw-5.1' on localhost, pk: 4681, uuid: f1227d49-4863-4741-b8d9-b7293f88580c>),\n",
       " (u'pseudo_O',\n",
       "  <UpfData: uuid: 3b18ca52-8fdf-41f0-bd6d-f70bb395b8e5 (pk: 4187)>),\n",
       " (u'pseudo_Ti',\n",
       "  <UpfData: uuid: c9c75827-202e-447b-ac28-3a6ae843f26e (pk: 4758)>),\n",
       " (u'parameters',\n",
       "  <ParameterData: uuid: 0f5e3751-58e6-4c7e-97bd-cc4edf48725d (pk: 4810)>),\n",
       " (u'kpoints',\n",
       "  <KpointsData: uuid: 1a722607-3c36-493b-9ed6-5dc91f49f4f1 (pk: 4370)>),\n",
       " (u'pseudo_Ba',\n",
       "  <UpfData: uuid: 4e86f197-0de2-4676-976f-67f76a2d527a (pk: 4787)>),\n",
       " (u'structure',\n",
       "  <StructureData: uuid: 3a4b1270-82bf-4d66-a51f-982294f6e1b3 (pk: 285)>)]"
      ]
     },
     "execution_count": 5,
     "metadata": {},
     "output_type": "execute_result"
    }
   ],
   "source": [
    "calc = load_node(4811)\n",
    "calc.get_inputs(also_labels=True)"
   ]
  },
  {
   "cell_type": "code",
   "execution_count": 6,
   "metadata": {},
   "outputs": [
    {
     "name": "stdout",
     "output_type": "stream",
     "text": [
      "out_file_name  285.dot\r\n"
     ]
    },
    {
     "data": {
      "text/plain": [
       "[(u'output_structure',\n",
       "  <PwCalculation: uuid: 0a1a8946-c933-480c-b03c-88322c1850c8 (pk: 4536)>)]"
      ]
     },
     "execution_count": 6,
     "metadata": {},
     "output_type": "execute_result"
    }
   ],
   "source": [
    "structure = calc.inp.structure\n",
    "generate_graph(structure.pk)\n",
    "structure.get_inputs(also_labels=True)"
   ]
  },
  {
   "cell_type": "markdown",
   "metadata": {},
   "source": [
    "![structure](285.png)"
   ]
  },
  {
   "cell_type": "markdown",
   "metadata": {},
   "source": [
    "Now, let's look at some of our structures"
   ]
  },
  {
   "cell_type": "code",
   "execution_count": 7,
   "metadata": {},
   "outputs": [
    {
     "name": "stdout",
     "output_type": "stream",
     "text": [
      "ID\tformula\tlabel\r\n",
      "4684\tSi2\t\r\n",
      "4688\tSi2\t\r\n",
      "4693\tSi2\t\r\n",
      "4697\tSi2\t\r\n",
      "4701\tSi2\t\r\n",
      "4705\tSi2\t\r\n",
      "4712\tSi2\t\r\n",
      "4717\tSi2\t\r\n",
      "4721\tSi2\t\r\n",
      "4729\tSi2\t\r\n",
      "4814\tSi2\t\r\n",
      "4819\tC2\t\r\n",
      "4826\tC2\t\r\n",
      "4837\tC2\t\r\n",
      "4847\tC2\t\r\n",
      "4857\tC2\t\r\n",
      "4867\tC2\t\r\n",
      "4879\tC2\t\r\n",
      "4886\tC2\t\r\n",
      "4897\tC2\t\r\n",
      "4907\tC2\t\r\n",
      "4917\tC2\t\r\n",
      "4927\tC2\t\r\n",
      "4936\tC16\t\r\n",
      "4937\tC16\t\r\n",
      "4938\tC16\t\r\n",
      "4947\tAuMg\t\r\n"
     ]
    }
   ],
   "source": [
    "!verdi data structure list"
   ]
  },
  {
   "cell_type": "code",
   "execution_count": 9,
   "metadata": {},
   "outputs": [
    {
     "name": "stdout",
     "output_type": "stream",
     "text": [
      "out_file_name  4684.dot\r\n"
     ]
    },
    {
     "data": {
      "text/plain": [
       "'4684.png'"
      ]
     },
     "execution_count": 9,
     "metadata": {},
     "output_type": "execute_result"
    }
   ],
   "source": [
    "generate_graph(4684)"
   ]
  },
  {
   "cell_type": "markdown",
   "metadata": {},
   "source": [
    "![title](4684.png)"
   ]
  },
  {
   "cell_type": "code",
   "execution_count": 11,
   "metadata": {},
   "outputs": [
    {
     "data": {
      "text/plain": [
       "{u'energy': -261.853040321525,\n",
       " u'energy_accuracy': 7.211016614409e-09,\n",
       " u'energy_accuracy_units': u'eV',\n",
       " u'energy_units': u'eV',\n",
       " u'fermi_energy': 6.15670461331551,\n",
       " u'fermi_energy_units': u'eV',\n",
       " u'forces_units': u'ev / angstrom',\n",
       " u'number_of_atoms': 2,\n",
       " u'number_of_bands': 4,\n",
       " u'number_of_species': 1,\n",
       " u'parser_info': u'AiiDA QE Basic Parser v0.1',\n",
       " u'parser_warnings': [],\n",
       " u'stress': [[-0.038541524152872, 0.0, 0.0],\n",
       "  [0.0, -0.038541524152872, 0.0],\n",
       "  [0.0, 0.0, -0.038541524152872]],\n",
       " u'stress_units': u'GPascal',\n",
       " u'total_force': 0.0,\n",
       " u'total_force_units': u'ev / angstrom',\n",
       " u'volume': 40.0257569737036,\n",
       " u'warnings': [],\n",
       " u'xml_warnings': []}"
      ]
     },
     "execution_count": 11,
     "metadata": {},
     "output_type": "execute_result"
    }
   ],
   "source": [
    "calc = load_node(4685)\n",
    "calc.out.output_parameters.get_dict()"
   ]
  },
  {
   "cell_type": "markdown",
   "metadata": {},
   "source": [
    "You can also quickly display the graph from the command line if you only have a terminal"
   ]
  },
  {
   "cell_type": "code",
   "execution_count": 12,
   "metadata": {},
   "outputs": [
    {
     "name": "stdout",
     "output_type": "stream",
     "text": [
      "\r\n",
      "                       /-RemoteData [4686]\r\n",
      "                      |\r\n",
      "                      |--FolderData [4687]\r\n",
      "                      |\r\n",
      "-- /PwCalculation [4685]-StructureData [4688]\r\n",
      "                      |\r\n",
      "                      |--ParameterData [4689]\r\n",
      "                      |\r\n",
      "                       \\-ArrayData [4690]\r\n"
     ]
    }
   ],
   "source": [
    "!verdi work tree 4685"
   ]
  },
  {
   "cell_type": "code",
   "execution_count": null,
   "metadata": {
    "collapsed": true
   },
   "outputs": [],
   "source": []
  }
 ],
 "metadata": {
  "kernelspec": {
   "display_name": "Python 2",
   "language": "python",
   "name": "python2"
  },
  "language_info": {
   "codemirror_mode": {
    "name": "ipython",
    "version": 2
   },
   "file_extension": ".py",
   "mimetype": "text/x-python",
   "name": "python",
   "nbconvert_exporter": "python",
   "pygments_lexer": "ipython2",
   "version": "2.7.6"
  }
 },
 "nbformat": 4,
 "nbformat_minor": 2
}
