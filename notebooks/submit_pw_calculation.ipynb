{
 "cells": [
  {
   "cell_type": "markdown",
   "metadata": {},
   "source": [
    "# Submitting calculations\n",
    "#### Create a structure, kpoints, and input parameters and submit a Quantum ESPRESSO (PW) calculation\n",
    "Time: 3 mins"
   ]
  },
  {
   "cell_type": "code",
   "execution_count": 24,
   "metadata": {
    "collapsed": true,
    "hide_input": false
   },
   "outputs": [],
   "source": [
    "from aiida.backends.utils import load_dbenv, is_dbenv_loaded\n",
    "if not is_dbenv_loaded():\n",
    "    load_dbenv()\n",
    "\n",
    "from aiida.orm.utils import load_node\n",
    "from aiida.work.run import run\n",
    "from aiida.orm.code import Code\n",
    "from aiida.orm.data.base import Bool, Str\n",
    "from aiida.orm.data.parameter import ParameterData\n",
    "from aiida.orm.data.array.kpoints import KpointsData\n",
    "from aiida.orm.data.structure import StructureData\n",
    "from ase.lattice.spacegroup import crystal\n",
    "\n",
    "import nglview\n",
    "#import warnings\n",
    "#warnings.filterwarnings('ignore')"
   ]
  },
  {
   "cell_type": "markdown",
   "metadata": {},
   "source": [
    "#### Create a diamond cubic crystal structure"
   ]
  },
  {
   "cell_type": "code",
   "execution_count": 25,
   "metadata": {},
   "outputs": [
    {
     "data": {
      "text/plain": [
       "<StructureData: uuid: 2dd9f48b-115c-46ec-aba3-35aee1b15849 (pk: 5360)>"
      ]
     },
     "execution_count": 25,
     "metadata": {},
     "output_type": "execute_result"
    }
   ],
   "source": [
    "# Define a structure, employing the Atomic Structure Environment library\n",
    "alat = 3.568\n",
    "ase_definition = crystal('C', [(0,0,0)], spacegroup=227, cellpar=[alat, alat, alat, 90, 90, 90], primitive_cell=True)*2\n",
    "structure = StructureData(ase=ase_definition)\n",
    "structure.store()"
   ]
  },
  {
   "cell_type": "markdown",
   "metadata": {},
   "source": [
    "#### Show the already stored structure"
   ]
  },
  {
   "cell_type": "code",
   "execution_count": 26,
   "metadata": {},
   "outputs": [
    {
     "name": "stderr",
     "output_type": "stream",
     "text": [
      "The installed widget Javascript is the wrong version.\n"
     ]
    }
   ],
   "source": [
    "view = nglview.show_ase(structure.get_ase())\n",
    "view"
   ]
  },
  {
   "cell_type": "markdown",
   "metadata": {},
   "source": [
    "#### Create the _k_-points mesh"
   ]
  },
  {
   "cell_type": "code",
   "execution_count": 27,
   "metadata": {},
   "outputs": [
    {
     "data": {
      "text/plain": [
       "<KpointsData: uuid: 5e37c0dc-a398-4067-a56a-500425e91ad1 (pk: 5361)>"
      ]
     },
     "execution_count": 27,
     "metadata": {},
     "output_type": "execute_result"
    }
   ],
   "source": [
    "# Define the k-points mesh\n",
    "kpoints = KpointsData()\n",
    "kpoints_mesh = [1, 1, 1]\n",
    "kpoints.set_kpoints_mesh(kpoints_mesh)\n",
    "kpoints.store()"
   ]
  },
  {
   "cell_type": "markdown",
   "metadata": {},
   "source": [
    "#### List existing pseudopotential families"
   ]
  },
  {
   "cell_type": "code",
   "execution_count": 28,
   "metadata": {},
   "outputs": [
    {
     "name": "stdout",
     "output_type": "stream",
     "text": [
      "* GBRV_pbe [33 pseudos]\r\n",
      "* GBRV_lda [33 pseudos]\r\n",
      "* GBRV_pbesol [33 pseudos]\r\n",
      "* SSSP [85 pseudos]\r\n"
     ]
    }
   ],
   "source": [
    "!verdi data upf listfamilies"
   ]
  },
  {
   "cell_type": "markdown",
   "metadata": {},
   "source": [
    "#### Define the calculation input parameters"
   ]
  },
  {
   "cell_type": "code",
   "execution_count": 29,
   "metadata": {
    "collapsed": true
   },
   "outputs": [],
   "source": [
    "# Define the pseudo potential family and input parameters for pw.x\n",
    "pseudo_family = 'SSSP'\n",
    "parameters = {\n",
    "    'CONTROL': {\n",
    "        \"calculation\": \"scf\",\n",
    "        'tstress': True,\n",
    "    },\n",
    "    'SYSTEM': {\n",
    "        'ecutwfc': 40.,\n",
    "        'ecutrho': 320.,\n",
    "    },\n",
    "    'ELECTRONS': {\n",
    "        'conv_thr': 1.e-10,\n",
    "    }\n",
    "}"
   ]
  },
  {
   "cell_type": "markdown",
   "metadata": {},
   "source": [
    "#### See the available codes and select one of them"
   ]
  },
  {
   "cell_type": "code",
   "execution_count": 30,
   "metadata": {},
   "outputs": [
    {
     "name": "stdout",
     "output_type": "stream",
     "text": [
      "# List of configured codes:\n",
      "# (use 'verdi code show CODEID' to see the details)\n",
      "* pk 4681 - pw-5.1@localhost\n"
     ]
    }
   ],
   "source": [
    "!verdi code list"
   ]
  },
  {
   "cell_type": "markdown",
   "metadata": {},
   "source": [
    "#### Get the Code instance from the name"
   ]
  },
  {
   "cell_type": "code",
   "execution_count": 31,
   "metadata": {
    "collapsed": true
   },
   "outputs": [],
   "source": [
    "codename = 'pw-5.1@localhost'\n",
    "code = Code.get_from_string(codename)"
   ]
  },
  {
   "cell_type": "markdown",
   "metadata": {},
   "source": [
    "#### Create a new calculation from the code and set the input parameters"
   ]
  },
  {
   "cell_type": "code",
   "execution_count": 32,
   "metadata": {
    "collapsed": true
   },
   "outputs": [],
   "source": [
    "calc = code.new_calc()\n",
    "calc.use_structure(structure)\n",
    "calc.use_pseudos_from_family(pseudo_family)\n",
    "calc.use_parameters(ParameterData(dict=parameters))\n",
    "calc.use_kpoints(kpoints)\n",
    "calc.set_resources({\"num_machines\": 1})\n",
    "calc.set_max_wallclock_seconds(30*60)"
   ]
  },
  {
   "cell_type": "markdown",
   "metadata": {},
   "source": [
    "#### Store the calculation and submit it to the daemon"
   ]
  },
  {
   "cell_type": "code",
   "execution_count": 33,
   "metadata": {},
   "outputs": [
    {
     "name": "stdout",
     "output_type": "stream",
     "text": [
      "Submitted a PwCalculation with pk<5363>\n"
     ]
    }
   ],
   "source": [
    "calc.store_all()\n",
    "calc.submit()\n",
    "print \"Submitted a {} with pk<{}>\".format(calc.__class__.__name__, calc.pk)"
   ]
  },
  {
   "cell_type": "markdown",
   "metadata": {},
   "source": [
    "#### Check the status of the calculation"
   ]
  },
  {
   "cell_type": "code",
   "execution_count": 34,
   "metadata": {},
   "outputs": [
    {
     "name": "stdout",
     "output_type": "stream",
     "text": [
      "# Last daemon state_updater check: 0h:00m:01s ago (at 17:22:58 on 2017-04-24)\n",
      "  PK  State          Creation    Sched. state    Computer    Type\n",
      "----  -------------  ----------  --------------  ----------  ------------------\n",
      "5363  WITHSCHEDULER  6s ago      RUNNING         localhost   quantumespresso.pw\n",
      "\n",
      "Total results: 1\n",
      "\n"
     ]
    }
   ],
   "source": [
    "!verdi calculation list"
   ]
  },
  {
   "cell_type": "markdown",
   "metadata": {},
   "source": [
    "#### Monitor its status until completion"
   ]
  },
  {
   "cell_type": "code",
   "execution_count": 35,
   "metadata": {
    "collapsed": true,
    "hide_input": true
   },
   "outputs": [],
   "source": [
    "import time\n",
    "from IPython.display import clear_output\n",
    "\n",
    "def check_calculation_status(calc):\n",
    "    while not calc.has_finished():\n",
    "        clear_output()\n",
    "        !verdi calculation list\n",
    "        time.sleep(2)\n",
    "\n",
    "    clear_output()\n",
    "    !verdi calculation list $calc.pk"
   ]
  },
  {
   "cell_type": "code",
   "execution_count": 36,
   "metadata": {},
   "outputs": [
    {
     "name": "stdout",
     "output_type": "stream",
     "text": [
      "# Last daemon state_updater check: 0h:00m:00s ago (at 17:23:12 on 2017-04-24)\n",
      "  PK  State     Creation    Sched. state    Computer    Type\n",
      "----  --------  ----------  --------------  ----------  ------------------\n",
      "5363  FINISHED  20s ago     DONE            localhost   quantumespresso.pw\n",
      "\n",
      "Total results: 1\n",
      "\n"
     ]
    }
   ],
   "source": [
    "check_calculation_status(calc)"
   ]
  },
  {
   "cell_type": "markdown",
   "metadata": {},
   "source": [
    "#### Check that the calculation finished successfully"
   ]
  },
  {
   "cell_type": "code",
   "execution_count": 37,
   "metadata": {},
   "outputs": [
    {
     "data": {
      "text/plain": [
       "True"
      ]
     },
     "execution_count": 37,
     "metadata": {},
     "output_type": "execute_result"
    }
   ],
   "source": [
    "calc.has_finished_ok()"
   ]
  },
  {
   "cell_type": "markdown",
   "metadata": {},
   "source": [
    "#### We can easily show all the attached outputs"
   ]
  },
  {
   "cell_type": "code",
   "execution_count": 38,
   "metadata": {},
   "outputs": [
    {
     "data": {
      "text/plain": [
       "{u'output_array': <ArrayData: uuid: bd00645f-f7d9-4a36-a33c-d75d39e71aa1 (pk: 5368)>,\n",
       " u'output_array_5368': <ArrayData: uuid: bd00645f-f7d9-4a36-a33c-d75d39e71aa1 (pk: 5368)>,\n",
       " u'output_kpoints': <KpointsData: uuid: 938921d8-1e0f-4b31-8bae-6081544703d0 (pk: 5366)>,\n",
       " u'output_kpoints_5366': <KpointsData: uuid: 938921d8-1e0f-4b31-8bae-6081544703d0 (pk: 5366)>,\n",
       " u'output_parameters': <ParameterData: uuid: a938786d-14c1-4fc4-b223-34325f1419b2 (pk: 5367)>,\n",
       " u'output_parameters_5367': <ParameterData: uuid: a938786d-14c1-4fc4-b223-34325f1419b2 (pk: 5367)>,\n",
       " u'remote_folder': <RemoteData: uuid: 2b84f89a-1ae2-4b4f-bbd4-b0add67deaa2 (pk: 5364)>,\n",
       " u'remote_folder_5364': <RemoteData: uuid: 2b84f89a-1ae2-4b4f-bbd4-b0add67deaa2 (pk: 5364)>,\n",
       " u'retrieved': <FolderData: uuid: 8034ad4b-ac3a-4c0c-855f-97b4355fb44d (pk: 5365)>,\n",
       " u'retrieved_5365': <FolderData: uuid: 8034ad4b-ac3a-4c0c-855f-97b4355fb44d (pk: 5365)>}"
      ]
     },
     "execution_count": 38,
     "metadata": {},
     "output_type": "execute_result"
    }
   ],
   "source": [
    "calc.get_outputs_dict()"
   ]
  },
  {
   "cell_type": "markdown",
   "metadata": {},
   "source": [
    "#### There are convenient methods to directly access the results"
   ]
  },
  {
   "cell_type": "code",
   "execution_count": 39,
   "metadata": {},
   "outputs": [
    {
     "name": "stdout",
     "output_type": "stream",
     "text": [
      "Total energy = -2471.82841453 eV\n"
     ]
    }
   ],
   "source": [
    "print \"Total energy = {} {}\".format(calc.res.energy, calc.res.energy_units)"
   ]
  },
  {
   "cell_type": "code",
   "execution_count": null,
   "metadata": {
    "collapsed": true
   },
   "outputs": [],
   "source": []
  }
 ],
 "metadata": {
  "kernelspec": {
   "display_name": "Python 2",
   "language": "python",
   "name": "python2"
  },
  "language_info": {
   "codemirror_mode": {
    "name": "ipython",
    "version": 2
   },
   "file_extension": ".py",
   "mimetype": "text/x-python",
   "name": "python",
   "nbconvert_exporter": "python",
   "pygments_lexer": "ipython2",
   "version": "2.7.6"
  }
 },
 "nbformat": 4,
 "nbformat_minor": 2
}
