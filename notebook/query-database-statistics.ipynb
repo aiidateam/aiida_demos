{
 "cells": [
  {
   "cell_type": "code",
   "execution_count": 8,
   "metadata": {},
   "outputs": [],
   "source": [
    "from aiida import load_dbenv, is_dbenv_loaded\n",
    "if not is_dbenv_loaded():\n",
    "    load_dbenv()\n",
    "from aiida.orm import load_node, Node, Group, Computer, User\n",
    "from aiida.orm.querybuilder import QueryBuilder"
   ]
  },
  {
   "cell_type": "code",
   "execution_count": 18,
   "metadata": {},
   "outputs": [
    {
     "name": "stdout",
     "output_type": "stream",
     "text": [
      "My database contains 2 Users\n",
      "My database contains 2 Computers\n",
      "My database contains 14 Groups\n",
      "My database contains 4935 Nodes\n",
      "\n",
      "Subclasses of Node:\n",
      "   PwCalculation                  | 464 \n",
      "   WorkCalculation                | 14  \n",
      "   Code                           | 2   \n",
      "   ArrayData                      | 459 \n",
      "   KpointsData                    | 877 \n",
      "   Float                          | 12  \n",
      "   Int                            | 2   \n",
      "   Str                            | 6   \n",
      "   FolderData                     | 460 \n",
      "   ParameterData                  | 1368\n",
      "   RemoteData                     | 460 \n",
      "   StructureData                  | 638 \n",
      "   UpfData                        | 173 \n",
      "\n",
      "Subclasses of Group:\n",
      "   N/A                            | 3   \n",
      "   import                         | 1   \n",
      "   run                            | 6   \n",
      "   family                         | 4   \n",
      "\n",
      "The number of links in my database is: 6501\n",
      "\n",
      "The number of distinc paths in my database is: 60538\n"
     ]
    }
   ],
   "source": [
    "############### How many nodes/groups/computers/users does my database have: #########\n",
    "for cls in (User, Computer,Group, Node):\n",
    "    # Instantiating QB:\n",
    "    qb = QueryBuilder().append(cls)\n",
    "    print \"My database contains {} {}s\".format(qb.count(), cls.__name__)\n",
    "\n",
    "############## I want to know how many subtypes of Group/Node I have #################\n",
    "for cls in (Node, Group):\n",
    "    print '\\n', 'Subclasses of {}:'.format(cls.__name__)\n",
    "\n",
    "    qb = QueryBuilder()\n",
    "    qb.append(cls, project='type')\n",
    "    distinct_types, = zip(*qb.distinct().all())\n",
    "    # Going through distinct types:\n",
    "    for dtype in sorted(distinct_types):\n",
    "        dbcount = QueryBuilder().append(cls, filters={'type':dtype}).count()\n",
    "        print '   {:<30} | {:<4}'.format(dtype.strip('.').split('.')[-1] or \"N/A\", dbcount)\n",
    "\n",
    "############ What is the connectivity of my database ##############################\n",
    "qb = QueryBuilder()\n",
    "qb.append(Node, tag='n1')\n",
    "qb.append(Node, output_of='n1')\n",
    "print '\\nThe number of links in my database is:',qb.count()\n",
    "\n",
    "qb = QueryBuilder()\n",
    "qb.append(Node, tag='n1')\n",
    "qb.append(Node, descendant_of='n1')\n",
    "print '\\nThe number of distinc paths in my database is:',qb.count()\n"
   ]
  },
  {
   "cell_type": "code",
   "execution_count": null,
   "metadata": {
    "collapsed": true
   },
   "outputs": [],
   "source": []
  }
 ],
 "metadata": {
  "kernelspec": {
   "display_name": "Python 2",
   "language": "python",
   "name": "python2"
  },
  "language_info": {
   "codemirror_mode": {
    "name": "ipython",
    "version": 2
   },
   "file_extension": ".py",
   "mimetype": "text/x-python",
   "name": "python",
   "nbconvert_exporter": "python",
   "pygments_lexer": "ipython2",
   "version": "2.7.6"
  }
 },
 "nbformat": 4,
 "nbformat_minor": 2
}
