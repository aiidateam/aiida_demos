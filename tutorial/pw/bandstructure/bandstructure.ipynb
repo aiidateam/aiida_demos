{
 "cells": [
  {
   "cell_type": "markdown",
   "metadata": {
    "deletable": true,
    "editable": true
   },
   "source": [
    "# A real world workchain example: electronic band structure"
   ]
  },
  {
   "cell_type": "markdown",
   "metadata": {
    "deletable": true,
    "editable": true
   },
   "source": [
    "*Import statements - make sure to execute the cell below this one (it may be hidden)*"
   ]
  },
  {
   "cell_type": "code",
   "execution_count": null,
   "metadata": {
    "collapsed": false,
    "deletable": true,
    "editable": true,
    "hide_input": false
   },
   "outputs": [],
   "source": [
    "from datetime import datetime, timedelta\n",
    "from aiida import load_dbenv, is_dbenv_loaded\n",
    "if not is_dbenv_loaded():\n",
    "    load_dbenv()\n",
    "\n",
    "from aiida.work.run import run\n",
    "from aiida.orm.data.base import Str\n",
    "from aiida.tools.dbimporters import DbImporterFactory\n",
    "from aiida.workflows.user.workchain.quantumespresso.pw.bands import PwBandsWorkChain"
   ]
  },
  {
   "cell_type": "markdown",
   "metadata": {
    "deletable": true,
    "editable": true
   },
   "source": [
    "### Calculating the electronic band structure with an AiiDA workchain\n",
    "This tutorial will show how useful a workchain can be in performing a well defined task, such as computing and visualizing the electronic band structure for a simple crystal structure. The goal of this tutorial is not to show you the intricacies of the actual workchain itself, but rather to serve as an example that workchains can simplify standard workflows in computational materials science. The workchain that we will use here will employ Quantum Espresso's pw.x code to calculate the charge densities for several crystal structures and compute a band structure from those. Many choices that normally face the researcher before being able to perform this calculation, such as the selection of suitable pseudo potentials, energy cutoff values, k-point grids and k-point paths along high symmetry points, are now performed automatically by the workchain. All that remains for the user to do is to simply define a structure, pass it to the workchain and sit back!"
   ]
  },
  {
   "cell_type": "markdown",
   "metadata": {
    "deletable": true,
    "editable": true
   },
   "source": [
    "*Disclaimer: the part of the workchain that will try to self-consistently converge the charge density, written specifically for this demonstration, is a stripped down version and as such has only limited capabilities in the handling of completed pw.x calculations that did not successfully converge. However, the workchain is written in such a way, providing function stubs where this error handling code could be written, that you can easily take this as a template and implement this functionality yourself.*"
   ]
  },
  {
   "cell_type": "code",
   "execution_count": null,
   "metadata": {
    "collapsed": false,
    "deletable": true,
    "editable": true
   },
   "outputs": [],
   "source": [
    "CodImporter = DbImporterFactory('cod')\n",
    "importer = CodImporter()"
   ]
  },
  {
   "cell_type": "code",
   "execution_count": null,
   "metadata": {
    "collapsed": false,
    "deletable": true,
    "editable": true
   },
   "outputs": [],
   "source": [
    "# GaAs COD ID(9008845)\n",
    "structure_GaAs = importer.query(id='9008845')[0].get_aiida_structure()\n",
    "structure_GaAs.get_formula()"
   ]
  },
  {
   "cell_type": "code",
   "execution_count": null,
   "metadata": {
    "collapsed": false,
    "deletable": true,
    "editable": true
   },
   "outputs": [],
   "source": [
    "# h-BN COD ID(9008997)\n",
    "structure_hBN = importer.query(id='9008997')[0].get_aiida_structure()\n",
    "structure_hBN.get_formula()"
   ]
  },
  {
   "cell_type": "code",
   "execution_count": null,
   "metadata": {
    "collapsed": false,
    "deletable": true,
    "editable": true
   },
   "outputs": [],
   "source": [
    "# CaF2 COD ID(1000043)\n",
    "structure_CaF2 = importer.query(id='1000043')[0].get_aiida_structure()\n",
    "structure_CaF2.get_formula()"
   ]
  },
  {
   "cell_type": "code",
   "execution_count": null,
   "metadata": {
    "collapsed": false,
    "deletable": true,
    "editable": true
   },
   "outputs": [],
   "source": [
    "# Cu COD ID(4105040)\n",
    "structure_Cu = importer.query(id='4105040')[0].get_aiida_structure()\n",
    "structure_Cu.get_formula()"
   ]
  },
  {
   "cell_type": "code",
   "execution_count": null,
   "metadata": {
    "collapsed": false,
    "deletable": true,
    "editable": true
   },
   "outputs": [],
   "source": [
    "# Make sure here to define the correct codename that corresponds to the pw.x code installed on your machine of choice\n",
    "codename = Str('pw-5.1@localhost')"
   ]
  },
  {
   "cell_type": "code",
   "execution_count": null,
   "metadata": {
    "collapsed": false,
    "deletable": true,
    "editable": true
   },
   "outputs": [],
   "source": [
    "results_GaAs = run(\n",
    "    PwBandsWorkChain,\n",
    "    codename=codename,\n",
    "    structure=structure_GaAs,\n",
    ")"
   ]
  },
  {
   "cell_type": "code",
   "execution_count": null,
   "metadata": {
    "collapsed": false,
    "deletable": true,
    "editable": true
   },
   "outputs": [],
   "source": [
    "fermi_energy = results_GaAs['scf_parameters'].dict.fermi_energy\n",
    "results_GaAs['bandstructure'].show_mpl(y_origin=fermi_energy, plot_zero_axis=True)"
   ]
  },
  {
   "cell_type": "code",
   "execution_count": null,
   "metadata": {
    "collapsed": false,
    "deletable": true,
    "editable": true
   },
   "outputs": [],
   "source": [
    "results_hBN = run(\n",
    "    PwBandsWorkChain,\n",
    "    codename=codename,\n",
    "    structure=structure_hBN,\n",
    ")"
   ]
  },
  {
   "cell_type": "code",
   "execution_count": null,
   "metadata": {
    "collapsed": false,
    "deletable": true,
    "editable": true
   },
   "outputs": [],
   "source": [
    "fermi_energy = results_hBN['scf_parameters'].dict.fermi_energy\n",
    "results_hBN['bandstructure'].show_mpl(y_origin=fermi_energy, plot_zero_axis=True)"
   ]
  },
  {
   "cell_type": "code",
   "execution_count": null,
   "metadata": {
    "collapsed": false,
    "deletable": true,
    "editable": true
   },
   "outputs": [],
   "source": [
    "results_CaF2 = run(\n",
    "    PwBandsWorkChain,\n",
    "    codename=codename,\n",
    "    structure=structure_CaF2,\n",
    ")"
   ]
  },
  {
   "cell_type": "code",
   "execution_count": null,
   "metadata": {
    "collapsed": false,
    "deletable": true,
    "editable": true
   },
   "outputs": [],
   "source": [
    "fermi_energy = results_CaF2['scf_parameters'].dict.fermi_energy\n",
    "results_CaF2['bandstructure'].show_mpl(y_origin=fermi_energy, plot_zero_axis=True)"
   ]
  },
  {
   "cell_type": "code",
   "execution_count": null,
   "metadata": {
    "collapsed": false,
    "deletable": true,
    "editable": true
   },
   "outputs": [],
   "source": [
    "results_Cu = run(\n",
    "    PwBandsWorkChain,\n",
    "    codename=codename,\n",
    "    structure=structure_Cu,\n",
    ")"
   ]
  },
  {
   "cell_type": "code",
   "execution_count": null,
   "metadata": {
    "collapsed": false,
    "deletable": true,
    "editable": true
   },
   "outputs": [],
   "source": [
    "fermi_energy = results_Cu['scf_parameters'].dict.fermi_energy\n",
    "results_Cu['bandstructure'].show_mpl(y_origin=fermi_energy, plot_zero_axis=True)"
   ]
  },
  {
   "cell_type": "code",
   "execution_count": null,
   "metadata": {
    "collapsed": true,
    "deletable": true,
    "editable": true
   },
   "outputs": [],
   "source": []
  }
 ],
 "metadata": {
  "kernelspec": {
   "display_name": "Python 2",
   "language": "python",
   "name": "python2"
  },
  "language_info": {
   "codemirror_mode": {
    "name": "ipython",
    "version": 2
   },
   "file_extension": ".py",
   "mimetype": "text/x-python",
   "name": "python",
   "nbconvert_exporter": "python",
   "pygments_lexer": "ipython2",
   "version": "2.7.12"
  }
 },
 "nbformat": 4,
 "nbformat_minor": 2
}
