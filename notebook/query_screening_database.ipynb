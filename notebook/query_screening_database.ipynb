{
 "cells": [
  {
   "cell_type": "markdown",
   "metadata": {},
   "source": [
    "# Complex query\n",
    "\n",
    "## Query the database using a provenance relationship using QueryBuilder\n",
    "\n",
    "Time: 3 mins\n",
    "\n",
    "##### In this example, we query the calculations in our database that are part of specific groups, and analyze the output. We want to get the magnetization of each structure that we computed. We are also interested in the smearing contribution to the total energy as an indicator of the existence and magnitude of the bandgap."
   ]
  },
  {
   "cell_type": "code",
   "execution_count": null,
   "metadata": {
    "collapsed": true,
    "hide_input": true
   },
   "outputs": [],
   "source": [
    "import sys, numpy as np\n",
    "from argparse import ArgumentParser\n",
    "from matplotlib import gridspec, pyplot as plt\n",
    "\n",
    "from aiida import load_dbenv, is_dbenv_loaded\n",
    "if not is_dbenv_loaded():\n",
    "    load_dbenv()\n",
    "from aiida.orm.querybuilder import QueryBuilder\n",
    "from aiida.orm.data.structure import StructureData\n",
    "from aiida.orm.data.parameter import ParameterData\n",
    "from aiida.orm.calculation.job.quantumespresso.pw import PwCalculation\n",
    "from aiida.orm.group import Group"
   ]
  },
  {
   "cell_type": "code",
   "execution_count": null,
   "metadata": {
    "collapsed": true,
    "hide_input": true
   },
   "outputs": [],
   "source": [
    "def plot_results(query_res):\n",
    "    \"\"\"\n",
    "    :param query_res: The result of an instance of the QueryBuilder\n",
    "    \"\"\"\n",
    "    smearing_unit_set,magnetization_unit_set,pseudo_family_set = set(), set(), set()\n",
    "    # Storing results:\n",
    "    results_dict = {}\n",
    "    for pseudo_family, formula, smearing, smearing_units, mag, mag_units in query_res:\n",
    "        if formula not in results_dict:\n",
    "            results_dict[formula] = {}\n",
    "        # Storing the results:\n",
    "        results_dict[formula][pseudo_family] = (smearing, mag)\n",
    "        # Adding to the unit set:\n",
    "        smearing_unit_set.add(smearing_units)\n",
    "        magnetization_unit_set.add(mag_units)\n",
    "        pseudo_family_set.add(pseudo_family)\n",
    "\n",
    "    # Sorting by formula:\n",
    "    sorted_results = sorted(results_dict.items())\n",
    "    formula_list = zip(*sorted_results)[0]\n",
    "    nr_of_results = len(formula_list)\n",
    "\n",
    "    # Checks that I have not more than 3 pseudo families.\n",
    "    # If more are needed, define more colors\n",
    "    #pseudo_list = list(pseudo_family_set)\n",
    "    if len(pseudo_family_set) > 3:\n",
    "        raise Exception('I was expecting 3 or less pseudo families')\n",
    "\n",
    "    colors = ['b', 'r', 'g']\n",
    "\n",
    "    # Plotting:\n",
    "    plt.clf()\n",
    "    fig=plt.figure(figsize=(16, 9), facecolor='w', edgecolor=None)\n",
    "    gs  = gridspec.GridSpec(2,1, hspace=0.01, left=0.1, right=0.94)\n",
    "\n",
    "    # Defining barwidth\n",
    "    barwidth = 1. / (len(pseudo_family_set)+1)\n",
    "    offset = [-0.5+(0.5+n)*barwidth for n in range(len(pseudo_family_set))]\n",
    "    # Axing labels with units:\n",
    "    yaxis = (\"Smearing energy [{}]\".format(smearing_unit_set.pop()),\n",
    "        \"Total magnetization [{}]\".format(magnetization_unit_set.pop()))\n",
    "    # If more than one unit was specified, I will exit:\n",
    "    if smearing_unit_set:\n",
    "        raise Exception('Found different units for smearing')\n",
    "    if magnetization_unit_set:\n",
    "        raise Exception('Found different units for magnetization')\n",
    "    \n",
    "    # Making two plots, upper for the smearing, the lower for magnetization\n",
    "    for index in range(2):\n",
    "        ax=fig.add_subplot(gs[index])\n",
    "        for i,pseudo_family in enumerate(pseudo_family_set):\n",
    "            X = np.arange(nr_of_results)+offset[i]\n",
    "            Y = np.array([thisres[1][pseudo_family][index] for thisres in sorted_results])\n",
    "            ax.bar(X, Y,  width=0.2, facecolor=colors[i], edgecolor=colors[i], label=pseudo_family)\n",
    "        ax.set_ylabel(yaxis[index], fontsize=14, labelpad=15*index+5)\n",
    "        ax.set_xlim(-0.5, nr_of_results-0.5)\n",
    "        ax.set_xticks(np.arange(nr_of_results))\n",
    "        if index == 0:\n",
    "            plt.setp(ax.get_yticklabels()[0], visible=False)\n",
    "            ax.xaxis.tick_top()\n",
    "            ax.legend(loc=3, prop={'size': 18})\n",
    "        else:\n",
    "            plt.setp(ax.get_yticklabels()[-1], visible=False)\n",
    "        for i in range(0, nr_of_results, 2):\n",
    "            ax.axvspan(i-0.5, i+0.5, facecolor='y', alpha=0.2)\n",
    "        ax.set_xticklabels(list(formula_list),rotation=90, size=14, ha='center')\n",
    "    plt.show()"
   ]
  },
  {
   "cell_type": "code",
   "execution_count": null,
   "metadata": {
    "collapsed": true,
    "hide_input": true
   },
   "outputs": [],
   "source": [
    "def generate_query_graph(qh, out_file_name):\n",
    "\n",
    "    def draw_vertice_settings(idx, vertice, **kwargs):\n",
    "        \"\"\"\n",
    "        Returns a string with all infos needed in a .dot file  to define a node of a graph.\n",
    "        :param node:\n",
    "        :param kwargs: Additional key-value pairs to be added to the returned string\n",
    "        :return: a string\n",
    "        \"\"\"\n",
    "        if 'calculation' in vertice['type']:\n",
    "            shape = \"shape=polygon,sides=4\"\n",
    "        elif 'code' in vertice['type']:\n",
    "            shape = \"shape=diamond\"\n",
    "        else:\n",
    "            shape = \"shape=ellipse\"\n",
    "        filters = kwargs.pop('filters', None)\n",
    "        additional_string = \"\"\n",
    "        if filters:\n",
    "            additional_string += '\\nFilters:'\n",
    "            for k,v in filters.items():\n",
    "                additional_string += \"\\n   {} : {}\".format(k,v)\n",
    "\n",
    "\n",
    "        label_string = \" ('{}')\".format(vertice['tag'])\n",
    "\n",
    "        labelstring = 'label=\"{} {}{}\"'.format(\n",
    "            vertice['type'], #.split('.')[-2] or 'Node',\n",
    "            label_string,\n",
    "            additional_string)\n",
    "        #~ return \"N{} [{},{}{}];\".format(idx, shape, labelstring,\n",
    "        return \"{} [{},{}];\".format(vertice['tag'], shape, labelstring)\n",
    "    nodes = {v['tag']:draw_vertice_settings(idx, v, filters=qh['filters'][v['tag']]) for idx, v in enumerate(qh['path'])}\n",
    "    links = [(v['tag'], v['joining_value'], v['joining_keyword']) for v in qh['path'][1:]]\n",
    "\n",
    "    with open('temp.dot','w') as fout:\n",
    "        fout.write(\"digraph G {\\n\")\n",
    "        for l in links:\n",
    "            fout.write('    {} -> {} [label=\" {}\"];\\n'.format(*l))\n",
    "        for _, n_values in nodes.items():\n",
    "            fout.write(\"    {}\\n\".format(n_values))\n",
    "\n",
    "        fout.write(\"}\\n\")\n",
    "    import os\n",
    "    os.system('dot temp.dot -Tpng -o {}'.format(out_file_name))"
   ]
  },
  {
   "cell_type": "code",
   "execution_count": null,
   "metadata": {
    "collapsed": true,
    "hide_input": false
   },
   "outputs": [],
   "source": [
    "# Each group of calculations that are of interests has the string: \"tutorial_\"+pseudo,\n",
    "# where pseudo is lda, pbe or pbesol\n",
    "group_basename = 'tutorial_%'"
   ]
  },
  {
   "cell_type": "markdown",
   "metadata": {},
   "source": [
    "#### Start building the query"
   ]
  },
  {
   "cell_type": "code",
   "execution_count": null,
   "metadata": {},
   "outputs": [],
   "source": [
    "# Instantiate QB:\n",
    "qb = QueryBuilder()\n",
    "# Append the Group to the entities returned, with a filter on the name:\n",
    "qb.append(Group, filters={'name':{'like':group_basename}}, project='name', tag='group')"
   ]
  },
  {
   "cell_type": "markdown",
   "metadata": {},
   "source": [
    "#### Visualize the query so far"
   ]
  },
  {
   "cell_type": "code",
   "execution_count": null,
   "metadata": {
    "collapsed": true,
    "hide_input": true
   },
   "outputs": [],
   "source": [
    "from IPython.display import Image"
   ]
  },
  {
   "cell_type": "code",
   "execution_count": null,
   "metadata": {},
   "outputs": [],
   "source": [
    "generate_query_graph(qb.get_json_compatible_queryhelp(), 'query1.png')\n",
    "Image(filename='query1.png')"
   ]
  },
  {
   "cell_type": "markdown",
   "metadata": {},
   "source": [
    "#### Append the calculations that are members of each group"
   ]
  },
  {
   "cell_type": "code",
   "execution_count": null,
   "metadata": {},
   "outputs": [],
   "source": [
    "# I want every PwCalculation that is a member of the specified groups:\n",
    "qb.append(PwCalculation, tag='calculation', member_of='group')"
   ]
  },
  {
   "cell_type": "markdown",
   "metadata": {},
   "source": [
    "#### Visualize the current status of the query"
   ]
  },
  {
   "cell_type": "code",
   "execution_count": null,
   "metadata": {},
   "outputs": [],
   "source": [
    "generate_query_graph(qb.get_json_compatible_queryhelp(), 'query2.png') \n",
    "Image(filename='query2.png')"
   ]
  },
  {
   "cell_type": "markdown",
   "metadata": {},
   "source": [
    "#### Append the structures that are input of the calculation. Project the formula, stored in the extras under the key 'formula'"
   ]
  },
  {
   "cell_type": "code",
   "execution_count": null,
   "metadata": {},
   "outputs": [],
   "source": [
    "qb.append(StructureData, project=['extras.formula'], tag='structure', input_of='calculation')"
   ]
  },
  {
   "cell_type": "markdown",
   "metadata": {},
   "source": [
    "#### Visualize the current status of the query"
   ]
  },
  {
   "cell_type": "code",
   "execution_count": null,
   "metadata": {},
   "outputs": [],
   "source": [
    "generate_query_graph(qb.get_json_compatible_queryhelp(), 'query3.png')\n",
    "Image(filename='query3.png')"
   ]
  },
  {
   "cell_type": "markdown",
   "metadata": {},
   "source": [
    "Append the parameters that are an output of the calculation.\n",
    "\n",
    "Project:\n",
    "* The smearing contribution and the units\n",
    "* The magnetization and the untits."
   ]
  },
  {
   "cell_type": "code",
   "execution_count": null,
   "metadata": {},
   "outputs": [],
   "source": [
    "qb.append(ParameterData,tag='results',\n",
    "        project=['attributes.energy_smearing', 'attributes.energy_smearing_units',\n",
    "           'attributes.total_magnetization', 'attributes.total_magnetization_units',\n",
    "        ], output_of='calculation'\n",
    "    )"
   ]
  },
  {
   "cell_type": "markdown",
   "metadata": {},
   "source": [
    "#### Visualize the final query"
   ]
  },
  {
   "cell_type": "code",
   "execution_count": null,
   "metadata": {},
   "outputs": [],
   "source": [
    "generate_query_graph(qb.get_json_compatible_queryhelp(), 'query4.png') \n",
    "Image(filename='query4.png')"
   ]
  },
  {
   "cell_type": "markdown",
   "metadata": {},
   "source": [
    "#### Print the query results"
   ]
  },
  {
   "cell_type": "code",
   "execution_count": null,
   "metadata": {},
   "outputs": [],
   "source": [
    "veryresults = qb.all()\n",
    "for item in results:\n",
    "    print ', '.join(map(str, item))"
   ]
  },
  {
   "cell_type": "markdown",
   "metadata": {},
   "source": [
    "#### Plot the results\n",
    "Getting a long list is not always helpful. We prepared a function that visualizes the results of the query:"
   ]
  },
  {
   "cell_type": "code",
   "execution_count": null,
   "metadata": {},
   "outputs": [],
   "source": [
    "plot_results(results)"
   ]
  },
  {
   "cell_type": "code",
   "execution_count": null,
   "metadata": {
    "collapsed": true
   },
   "outputs": [],
   "source": []
  }
 ],
 "metadata": {
  "kernelspec": {
   "display_name": "Python 2",
   "language": "python",
   "name": "python2"
  },
  "language_info": {
   "codemirror_mode": {
    "name": "ipython",
    "version": 2
   },
   "file_extension": ".py",
   "mimetype": "text/x-python",
   "name": "python",
   "nbconvert_exporter": "python",
   "pygments_lexer": "ipython2",
   "version": "2.7.6"
  }
 },
 "nbformat": 4,
 "nbformat_minor": 2
}
