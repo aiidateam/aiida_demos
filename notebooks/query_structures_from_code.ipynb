{
 "cells": [
  {
   "cell_type": "markdown",
   "metadata": {},
   "source": [
    "# Using queries to understand AiiDA database contents #2\n",
    "## Code and calculation statistics\n",
    "\n",
    "Time: 2 mins"
   ]
  },
  {
   "cell_type": "code",
   "execution_count": null,
   "metadata": {
    "collapsed": true,
    "hide_input": true
   },
   "outputs": [],
   "source": [
    "import numpy as np\n",
    "from aiida import load_dbenv, is_dbenv_loaded\n",
    "if not is_dbenv_loaded():\n",
    "    load_dbenv()\n",
    "from aiida.orm import load_node, Node, Code, Calculation, CalculationFactory\n",
    "from aiida.orm.data.structure import StructureData\n",
    "from aiida.orm.data.parameter import ParameterData\n",
    "from aiida.orm.calculation.job.quantumespresso.pw import PwCalculation\n",
    "from aiida.orm.querybuilder import QueryBuilder\n",
    "from IPython.display import Image"
   ]
  },
  {
   "cell_type": "code",
   "execution_count": null,
   "metadata": {
    "collapsed": true,
    "hide_input": true
   },
   "outputs": [],
   "source": [
    "def generate_query_graph(qh, out_file_name):\n",
    "\n",
    "    def draw_vertice_settings(idx, vertice, **kwargs):\n",
    "        \"\"\"\n",
    "        Returns a string with all infos needed in a .dot file  to define a node of a graph.\n",
    "        :param node:\n",
    "        :param kwargs: Additional key-value pairs to be added to the returned string\n",
    "        :return: a string\n",
    "        \"\"\"\n",
    "        if 'calculation' in vertice['type']:\n",
    "            shape = \"shape=polygon,sides=4\"\n",
    "        elif 'code' in vertice['type']:\n",
    "            shape = \"shape=diamond\"\n",
    "        else:\n",
    "            shape = \"shape=ellipse\"\n",
    "        filters = kwargs.pop('filters', None)\n",
    "        additional_string = \"\"\n",
    "        if filters:\n",
    "            additional_string += '\\nFilters:'\n",
    "            for k,v in filters.items():\n",
    "                additional_string += \"\\n   {} : {}\".format(k,v)\n",
    "\n",
    "\n",
    "        label_string = \" ('{}')\".format(vertice['tag'])\n",
    "\n",
    "        labelstring = 'label=\"{} {}{}\"'.format(\n",
    "            vertice['type'], #.split('.')[-2] or 'Node',\n",
    "            label_string,\n",
    "            additional_string)\n",
    "        #~ return \"N{} [{},{}{}];\".format(idx, shape, labelstring,\n",
    "        return \"{} [{},{}];\".format(vertice['tag'], shape, labelstring)\n",
    "    nodes = {v['tag']:draw_vertice_settings(idx, v, filters=qh['filters'][v['tag']]) for idx, v in enumerate(qh['path'])}\n",
    "    links = [(v['tag'], v['joining_value'], v['joining_keyword']) for v in qh['path'][1:]]\n",
    "\n",
    "    with open('temp.dot','w') as fout:\n",
    "        fout.write(\"digraph G {\\n\")\n",
    "        for l in links:\n",
    "            fout.write('    {} -> {} [label=\" {}\"];\\n'.format(*l))\n",
    "        for _, n_values in nodes.items():\n",
    "            fout.write(\"    {}\\n\".format(n_values))\n",
    "\n",
    "        fout.write(\"}\\n\")\n",
    "    import os\n",
    "    os.system('dot temp.dot -Tpng -o {}'.format(out_file_name))"
   ]
  },
  {
   "cell_type": "markdown",
   "metadata": {},
   "source": [
    "#### Which codes do I have, and how many calculations have I launched with each one of them?"
   ]
  },
  {
   "cell_type": "code",
   "execution_count": null,
   "metadata": {},
   "outputs": [],
   "source": [
    "print \"+-{:-^16}-+-{:-^16}-+\".format(\"\", \"\")\n",
    "print \"| {:<16} | {:^16} |\".format(\"Codename\", \"#calculations\")\n",
    "print \"+-{:-^16}-+-{:-^16}-+\".format(\"\", \"\")\n",
    "\n",
    "qb = QueryBuilder()\n",
    "qb.append(Code)\n",
    "all_codes = qb.all()\n",
    "for code, in all_codes:\n",
    "    code_query = QueryBuilder()\n",
    "    code_query.append(Code, filters={'id':code.id}, tag='code')\n",
    "    code_query.append(Calculation, output_of='code')\n",
    "    calculation_count = code_query.count()\n",
    "    print \"| {:<16} | {:^16} |\".format(code.label, calculation_count)\n",
    "\n",
    "print \"+-{:-^16}-+-{:-^16}-+\".format(\"\", \"\")"
   ]
  },
  {
   "cell_type": "markdown",
   "metadata": {},
   "source": [
    "#### Visualize the last query"
   ]
  },
  {
   "cell_type": "code",
   "execution_count": null,
   "metadata": {},
   "outputs": [],
   "source": [
    "generate_query_graph(code_query.get_json_compatible_queryhelp(), 'query-structures-1.png')\n",
    "Image(filename='query-structures-1.png')"
   ]
  },
  {
   "cell_type": "markdown",
   "metadata": {},
   "source": [
    "#### Finding code statistics\n",
    "I am interested in some more statistics of a specific code:\n",
    "- I want to find all vc-relax QE-calculation that were run using the Code with label \"pw-SVN-piz-daint\" that ran on a single machine.\n",
    "- What was the average walltime used by these calculations?"
   ]
  },
  {
   "cell_type": "code",
   "execution_count": null,
   "metadata": {},
   "outputs": [],
   "source": [
    "# Instantiating a query-object:\n",
    "qb = QueryBuilder()\n",
    "# Aadding the code and a filter on the lhttp://128.178.106.24:8888/notebooks/aiida_demos/notebook/query-structures-from-code.ipynb#abel:\n",
    "qb.append(Code, filters={'label':'pw-SVN-piz-daint'}, tag='code')\n",
    "# Adding the calculation as an output of this code, and a filter on the resources:\n",
    "qb.append(PwCalculation, output_of='code', tag='calculation', \n",
    "          filters={'attributes.jobresource_params.num_machines':1}\n",
    "    )\n",
    "# Adding the parameters of the calculation to the query, filtering by calculation type:\n",
    "qb.append(ParameterData, input_of='calculation',\n",
    "          filters={'attributes.CONTROL.calculation':'vc-relax'})\n",
    "# Adding the output-parameters of the calculation, projecting on wall time consumed:\n",
    "qb.append(ParameterData, output_of='calculation', project=('attributes.wall_time_seconds'))\n",
    "\n",
    "all_walltimes = qb.all()\n",
    "\n",
    "print \"Number of calculations:\", len(all_walltimes)\n",
    "print \"Average walltime (in seconds):\", np.mean(zip(*all_walltimes)[0])\n"
   ]
  },
  {
   "cell_type": "code",
   "execution_count": null,
   "metadata": {},
   "outputs": [],
   "source": [
    "generate_query_graph(qb.get_json_compatible_queryhelp(), 'query-structures-1.png')\n",
    "Image(filename='query-structures-1.png')"
   ]
  },
  {
   "cell_type": "code",
   "execution_count": null,
   "metadata": {
    "collapsed": true
   },
   "outputs": [],
   "source": []
  },
  {
   "cell_type": "code",
   "execution_count": null,
   "metadata": {
    "collapsed": true
   },
   "outputs": [],
   "source": []
  }
 ],
 "metadata": {
  "kernelspec": {
   "display_name": "Python 2",
   "language": "python",
   "name": "python2"
  },
  "language_info": {
   "codemirror_mode": {
    "name": "ipython",
    "version": 2
   },
   "file_extension": ".py",
   "mimetype": "text/x-python",
   "name": "python",
   "nbconvert_exporter": "python",
   "pygments_lexer": "ipython2",
   "version": "2.7.12"
  }
 },
 "nbformat": 4,
 "nbformat_minor": 2
}
