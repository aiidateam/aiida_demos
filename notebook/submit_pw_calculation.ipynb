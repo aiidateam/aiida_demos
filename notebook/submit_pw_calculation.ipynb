{
 "cells": [
  {
   "cell_type": "markdown",
   "metadata": {},
   "source": [
    "# Submitting calculations with AiiDA\n",
    "#### Create a structure, kpoints, and input parameters and submit a Quantum ESPRESSO (PW) calculation"
   ]
  },
  {
   "cell_type": "code",
   "execution_count": 1,
   "metadata": {
    "collapsed": true,
    "hide_input": true
   },
   "outputs": [],
   "source": [
    "from aiida.backends.utils import load_dbenv, is_dbenv_loaded\n",
    "if not is_dbenv_loaded():\n",
    "    load_dbenv()\n",
    "\n",
    "from aiida.orm.utils import load_node\n",
    "from aiida.work.run import run\n",
    "from aiida.orm.code import Code\n",
    "from aiida.orm.data.base import Bool, Str\n",
    "from aiida.orm.data.parameter import ParameterData\n",
    "from aiida.orm.data.array.kpoints import KpointsData\n",
    "from aiida.orm.data.structure import StructureData\n",
    "from ase.lattice.spacegroup import crystal"
   ]
  },
  {
   "cell_type": "markdown",
   "metadata": {},
   "source": [
    "#### Create a diamond cubic crystal structure"
   ]
  },
  {
   "cell_type": "code",
   "execution_count": 2,
   "metadata": {},
   "outputs": [
    {
     "data": {
      "text/plain": [
       "<StructureData: uuid: 43cd5aa5-a4b6-46f7-bb76-80b364d287a6 (pk: 5037)>"
      ]
     },
     "execution_count": 2,
     "metadata": {},
     "output_type": "execute_result"
    }
   ],
   "source": [
    "# Define a structure, employing the Atomic Structure Environment library\n",
    "alat = 3.568\n",
    "ase_definition = crystal('C', [(0,0,0)], spacegroup=227, cellpar=[alat, alat, alat, 90, 90, 90], primitive_cell=True)*2\n",
    "structure = StructureData(ase=ase_definition)\n",
    "structure.store()"
   ]
  },
  {
   "cell_type": "markdown",
   "metadata": {},
   "source": [
    "#### Create the _k_-points mesh"
   ]
  },
  {
   "cell_type": "code",
   "execution_count": 3,
   "metadata": {},
   "outputs": [
    {
     "data": {
      "text/plain": [
       "<KpointsData: uuid: 4e187b06-b829-488e-adeb-a4dcb027c8e6 (pk: 5038)>"
      ]
     },
     "execution_count": 3,
     "metadata": {},
     "output_type": "execute_result"
    }
   ],
   "source": [
    "# Define the k-points mesh\n",
    "kpoints = KpointsData()\n",
    "kpoints_mesh = [1, 1, 1]\n",
    "kpoints.set_kpoints_mesh(kpoints_mesh)\n",
    "kpoints.store()"
   ]
  },
  {
   "cell_type": "markdown",
   "metadata": {},
   "source": [
    "#### Define the calculation input parameters"
   ]
  },
  {
   "cell_type": "code",
   "execution_count": 4,
   "metadata": {
    "collapsed": true
   },
   "outputs": [],
   "source": [
    "# Define the pseudo potential family and input parameters for pw.x\n",
    "pseudo_family = 'SSSP'\n",
    "parameters = {\n",
    "    'CONTROL': {\n",
    "        \"calculation\": \"scf\",\n",
    "        'tstress': True,\n",
    "    },\n",
    "    'SYSTEM': {\n",
    "        'ecutwfc': 40.,\n",
    "        'ecutrho': 320.,\n",
    "    },\n",
    "    'ELECTRONS': {\n",
    "        'conv_thr': 1.e-10,\n",
    "    }\n",
    "}"
   ]
  },
  {
   "cell_type": "markdown",
   "metadata": {},
   "source": [
    "#### See the available codes and select one of them"
   ]
  },
  {
   "cell_type": "code",
   "execution_count": 5,
   "metadata": {},
   "outputs": [
    {
     "name": "stdout",
     "output_type": "stream",
     "text": [
      "# List of configured codes:\n",
      "# (use 'verdi code show CODEID' to see the details)\n",
      "* pk 4681 - pw-5.1@localhost\n"
     ]
    }
   ],
   "source": [
    "!verdi code list"
   ]
  },
  {
   "cell_type": "markdown",
   "metadata": {},
   "source": [
    "#### Tell AiiDA which code to use"
   ]
  },
  {
   "cell_type": "code",
   "execution_count": 6,
   "metadata": {
    "collapsed": true
   },
   "outputs": [],
   "source": [
    "codename = 'pw-5.1'\n",
    "code = Code.get_from_string(codename)"
   ]
  },
  {
   "cell_type": "markdown",
   "metadata": {},
   "source": [
    "#### Create a new calculation from the code and set the inputs"
   ]
  },
  {
   "cell_type": "code",
   "execution_count": 7,
   "metadata": {
    "collapsed": true
   },
   "outputs": [],
   "source": [
    "calc = code.new_calc()\n",
    "calc.use_structure(structure)\n",
    "calc.use_pseudos_from_family(pseudo_family)\n",
    "calc.use_parameters(ParameterData(dict=parameters))\n",
    "calc.use_kpoints(kpoints)\n",
    "calc.set_resources({\"num_machines\": 1})\n",
    "calc.set_max_wallclock_seconds(30*60)"
   ]
  },
  {
   "cell_type": "markdown",
   "metadata": {},
   "source": [
    "#### Store the calculation and submit it"
   ]
  },
  {
   "cell_type": "code",
   "execution_count": 8,
   "metadata": {},
   "outputs": [
    {
     "name": "stdout",
     "output_type": "stream",
     "text": [
      "Submitted a PwCalculation with pk<5040>\n"
     ]
    }
   ],
   "source": [
    "calc.store_all()\n",
    "calc.submit()\n",
    "print \"Submitted a {} with pk<{}>\".format(calc.__class__.__name__, calc.pk)"
   ]
  },
  {
   "cell_type": "markdown",
   "metadata": {},
   "source": [
    "#### Check the status of the calculation"
   ]
  },
  {
   "cell_type": "code",
   "execution_count": 9,
   "metadata": {},
   "outputs": [
    {
     "name": "stdout",
     "output_type": "stream",
     "text": [
      "# Last daemon state_updater check: 0h:00m:24s ago (at 17:51:59 on 2017-04-20)\n",
      "  PK  State     Creation      Sched. state  Computer    Type\n",
      "----  --------  ----------  --------------  ----------  ------------------\n",
      "5040  TOSUBMIT  4s ago                      localhost   quantumespresso.pw\n",
      "\n",
      "Total results: 1\n",
      "\n"
     ]
    }
   ],
   "source": [
    "!verdi calculation list"
   ]
  },
  {
   "cell_type": "markdown",
   "metadata": {},
   "source": [
    "#### Monitor its status until completion"
   ]
  },
  {
   "cell_type": "code",
   "execution_count": 10,
   "metadata": {
    "collapsed": true,
    "hide_input": true
   },
   "outputs": [],
   "source": [
    "import time\n",
    "from IPython.display import clear_output\n",
    "\n",
    "def check_calculation_status(calc):\n",
    "    while not calc.has_finished():\n",
    "        clear_output()\n",
    "        !verdi calculation list\n",
    "        time.sleep(2)\n",
    "\n",
    "    clear_output()\n",
    "    !verdi calculation list $calc.pk"
   ]
  },
  {
   "cell_type": "code",
   "execution_count": 11,
   "metadata": {},
   "outputs": [
    {
     "name": "stdout",
     "output_type": "stream",
     "text": [
      "# Last daemon state_updater check: 0h:00m:06s ago (at 17:53:29 on 2017-04-20)\n",
      "  PK  State     Creation    Sched. state    Computer    Type\n",
      "----  --------  ----------  --------------  ----------  ------------------\n",
      "5040  FINISHED  1m ago      DONE            localhost   quantumespresso.pw\n",
      "\n",
      "Total results: 1\n",
      "\n"
     ]
    }
   ],
   "source": [
    "check_calculation_status(calc)"
   ]
  },
  {
   "cell_type": "markdown",
   "metadata": {},
   "source": [
    "#### Load the calculation node and check if it finished correctly"
   ]
  },
  {
   "cell_type": "code",
   "execution_count": 12,
   "metadata": {},
   "outputs": [
    {
     "data": {
      "text/plain": [
       "True"
      ]
     },
     "execution_count": 12,
     "metadata": {},
     "output_type": "execute_result"
    }
   ],
   "source": [
    "calculation = load_node(calc.pk)\n",
    "calculation.has_finished_ok()"
   ]
  },
  {
   "cell_type": "markdown",
   "metadata": {},
   "source": [
    "#### We can easily show all the attached outputs"
   ]
  },
  {
   "cell_type": "code",
   "execution_count": 13,
   "metadata": {},
   "outputs": [
    {
     "data": {
      "text/plain": [
       "{u'output_array': <ArrayData: uuid: ac518c1b-3154-4a87-bc31-615ae58f3d84 (pk: 5045)>,\n",
       " u'output_array_5045': <ArrayData: uuid: ac518c1b-3154-4a87-bc31-615ae58f3d84 (pk: 5045)>,\n",
       " u'output_kpoints': <KpointsData: uuid: f67e7bda-c025-46ee-94bf-b11cf8ff3c27 (pk: 5043)>,\n",
       " u'output_kpoints_5043': <KpointsData: uuid: f67e7bda-c025-46ee-94bf-b11cf8ff3c27 (pk: 5043)>,\n",
       " u'output_parameters': <ParameterData: uuid: bb19f108-7d18-4186-8f6f-0347a0724e41 (pk: 5044)>,\n",
       " u'output_parameters_5044': <ParameterData: uuid: bb19f108-7d18-4186-8f6f-0347a0724e41 (pk: 5044)>,\n",
       " u'remote_folder': <RemoteData: uuid: 042c2163-0896-4a06-9361-aec2dcda6f78 (pk: 5041)>,\n",
       " u'remote_folder_5041': <RemoteData: uuid: 042c2163-0896-4a06-9361-aec2dcda6f78 (pk: 5041)>,\n",
       " u'retrieved': <FolderData: uuid: 11a8b166-583d-4c39-8bfe-2fac06f1f98d (pk: 5042)>,\n",
       " u'retrieved_5042': <FolderData: uuid: 11a8b166-583d-4c39-8bfe-2fac06f1f98d (pk: 5042)>}"
      ]
     },
     "execution_count": 13,
     "metadata": {},
     "output_type": "execute_result"
    }
   ],
   "source": [
    "calculation.get_outputs_dict()"
   ]
  },
  {
   "cell_type": "markdown",
   "metadata": {},
   "source": [
    "#### There are convenient methods to directly access the results"
   ]
  },
  {
   "cell_type": "code",
   "execution_count": 14,
   "metadata": {},
   "outputs": [
    {
     "name": "stdout",
     "output_type": "stream",
     "text": [
      "Total energy = -2471.82841453 eV\n"
     ]
    }
   ],
   "source": [
    "print \"Total energy = {} {}\".format(calculation.res.energy, calculation.res.energy_units)"
   ]
  }
 ],
 "metadata": {
  "kernelspec": {
   "display_name": "Python 2",
   "language": "python",
   "name": "python2"
  },
  "language_info": {
   "codemirror_mode": {
    "name": "ipython",
    "version": 2
   },
   "file_extension": ".py",
   "mimetype": "text/x-python",
   "name": "python",
   "nbconvert_exporter": "python",
   "pygments_lexer": "ipython2",
   "version": "2.7.6"
  }
 },
 "nbformat": 4,
 "nbformat_minor": 2
}
