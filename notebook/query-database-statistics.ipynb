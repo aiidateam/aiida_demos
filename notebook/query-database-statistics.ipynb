{
 "cells": [
  {
   "cell_type": "markdown",
   "metadata": {},
   "source": [
    "# Using queries to understand AiiDA database contents #1\n",
    "## General information on Computers, Groups, Nodes and node connectivity"
   ]
  },
  {
   "cell_type": "code",
   "execution_count": null,
   "metadata": {
    "collapsed": true,
    "hide_input": true
   },
   "outputs": [],
   "source": [
    "from aiida import load_dbenv, is_dbenv_loaded\n",
    "if not is_dbenv_loaded():\n",
    "    load_dbenv()\n",
    "from aiida.orm import load_node, Node, Group, Computer, User\n",
    "from aiida.orm.querybuilder import QueryBuilder\n",
    "from IPython.display import Image\n",
    "\n",
    "def generate_query_graph(qh, out_file_name):\n",
    "\n",
    "    def draw_vertice_settings(idx, vertice, **kwargs):\n",
    "        \"\"\"\n",
    "        Returns a string with all infos needed in a .dot file  to define a node of a graph.\n",
    "        :param node:\n",
    "        :param kwargs: Additional key-value pairs to be added to the returned string\n",
    "        :return: a string\n",
    "        \"\"\"\n",
    "        if 'calculation' in vertice['type']:\n",
    "            shape = \"shape=polygon,sides=4\"\n",
    "        elif 'code' in vertice['type']:\n",
    "            shape = \"shape=diamond\"\n",
    "        else:\n",
    "            shape = \"shape=ellipse\"\n",
    "        filters = kwargs.pop('filters', None)\n",
    "        additional_string = \"\"\n",
    "        if filters:\n",
    "            additional_string += '\\nFilters:'\n",
    "            for k,v in filters.items():\n",
    "                additional_string += \"\\n   {} : {}\".format(k,v)\n",
    "\n",
    "\n",
    "        label_string = \" ('{}')\".format(vertice['tag'])\n",
    "\n",
    "        labelstring = 'label=\"{} {}{}\"'.format(\n",
    "            vertice['type'], #.split('.')[-2] or 'Node',\n",
    "            label_string,\n",
    "            additional_string)\n",
    "        #~ return \"N{} [{},{}{}];\".format(idx, shape, labelstring,\n",
    "        return \"{} [{},{}];\".format(vertice['tag'], shape, labelstring)\n",
    "    nodes = {v['tag']:draw_vertice_settings(idx, v, filters=qh['filters'][v['tag']]) for idx, v in enumerate(qh['path'])}\n",
    "    links = [(v['tag'], v['joining_value'], v['joining_keyword']) for v in qh['path'][1:]]\n",
    "\n",
    "    with open('temp.dot','w') as fout:\n",
    "        fout.write(\"digraph G {\\n\")\n",
    "        for l in links:\n",
    "            fout.write('    {} -> {} [label=\" {}\"];\\n'.format(*l))\n",
    "        for _, n_values in nodes.items():\n",
    "            fout.write(\"    {}\\n\".format(n_values))\n",
    "\n",
    "        fout.write(\"}\\n\")\n",
    "    import os\n",
    "    os.system('dot temp.dot -Tpng -o {}'.format(out_file_name))"
   ]
  },
  {
   "cell_type": "markdown",
   "metadata": {},
   "source": [
    "#### How many nodes/groups/computers/users are stored in my database?"
   ]
  },
  {
   "cell_type": "code",
   "execution_count": null,
   "metadata": {},
   "outputs": [],
   "source": [
    "print \"My database contains:\"\n",
    "for cls in (User, Computer, Group, Node):\n",
    "    qb = QueryBuilder()\n",
    "    qb.append(cls)\n",
    "    count = qb.count()\n",
    "    print \"{:>5}  {}s\".format(count, cls.__name__)"
   ]
  },
  {
   "cell_type": "markdown",
   "metadata": {},
   "source": [
    "#### How many of each subclass of Group/Node are stored in my database"
   ]
  },
  {
   "cell_type": "code",
   "execution_count": null,
   "metadata": {},
   "outputs": [],
   "source": [
    "for cls in (Node, Group):\n",
    "    print '\\n', 'Subclasses of {}:'.format(cls.__name__)\n",
    "    qb1 = QueryBuilder()\n",
    "    qb1.append(cls, project='type')\n",
    "    distinct_types, = zip(*qb1.distinct().all()) # Getting all distinct types\n",
    "    # Iterating through distinct types:\n",
    "    for dtype in sorted(distinct_types):\n",
    "        qb2 = QueryBuilder()\n",
    "        qb2.append(cls, filters={'type':dtype})\n",
    "        subcls_count = qb2.count()\n",
    "        print '   {:<15} | {:<4}'.format(dtype.strip('.').split('.')[-1] or \"N/A\", subcls_count)"
   ]
  },
  {
   "cell_type": "markdown",
   "metadata": {},
   "source": [
    "#### What is the connectivity of my database? How many links? How many distinct paths?"
   ]
  },
  {
   "cell_type": "code",
   "execution_count": null,
   "metadata": {},
   "outputs": [],
   "source": [
    "# Here I query the number of links:\n",
    "qb1 = QueryBuilder()\n",
    "qb1.append(Node, tag='n1')\n",
    "qb1.append(Node, output_of='n1')\n",
    "link_count = qb1.count()\n",
    "print '\\nThe number of links in my database is: {}'.format(link_count)\n",
    "\n",
    "generate_query_graph(qb1.get_json_compatible_queryhelp(), 'query-statistics-1.png')\n",
    "Image(filename='query-statistics-1.png')\n"
   ]
  },
  {
   "cell_type": "code",
   "execution_count": null,
   "metadata": {},
   "outputs": [],
   "source": [
    "# Here I query the number of distinct paths:\n",
    "qb2 = QueryBuilder()\n",
    "qb2.append(Node, tag='n1')\n",
    "qb2.append(Node, descendant_of='n1')\n",
    "path_count = qb2.count()\n",
    "print '\\nThe number of distinct paths in my database is: {}'.format(path_count)\n",
    "\n",
    "generate_query_graph(qb2.get_json_compatible_queryhelp(), 'query-statistics-2.png')\n",
    "Image(filename='query-statistics-2.png')"
   ]
  },
  {
   "cell_type": "code",
   "execution_count": null,
   "metadata": {
    "collapsed": true
   },
   "outputs": [],
   "source": []
  }
 ],
 "metadata": {
  "kernelspec": {
   "display_name": "Python 2",
   "language": "python",
   "name": "python2"
  },
  "language_info": {
   "codemirror_mode": {
    "name": "ipython",
    "version": 2
   },
   "file_extension": ".py",
   "mimetype": "text/x-python",
   "name": "python",
   "nbconvert_exporter": "python",
   "pygments_lexer": "ipython2",
   "version": "2.7.6"
  }
 },
 "nbformat": 4,
 "nbformat_minor": 2
}
