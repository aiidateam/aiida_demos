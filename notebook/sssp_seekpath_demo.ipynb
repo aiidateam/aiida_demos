{
 "cells": [
  {
   "cell_type": "markdown",
   "metadata": {},
   "source": [
    "# AiiDA mini-demo\n",
    "## Automatic calculations with pseudos from SSSP and k-points from SeeK-path"
   ]
  },
  {
   "cell_type": "markdown",
   "metadata": {},
   "source": [
    "Some initial imports"
   ]
  },
  {
   "cell_type": "code",
   "execution_count": 5,
   "metadata": {
    "collapsed": true
   },
   "outputs": [],
   "source": [
    "from aiida import load_dbenv, is_dbenv_loaded\n",
    "if not is_dbenv_loaded():\n",
    "    load_dbenv()\n",
    "from aiida.orm import DataFactory, CalculationFactory, Code, load_node\n",
    "ParameterData=DataFactory('parameter')\n",
    "import os, time, numpy, pylab\n",
    "%matplotlib inline"
   ]
  },
  {
   "cell_type": "markdown",
   "metadata": {},
   "source": [
    "Load the importer from the COD database, and get a silicon supercell (take the first query result)"
   ]
  },
  {
   "cell_type": "code",
   "execution_count": 2,
   "metadata": {
    "collapsed": true
   },
   "outputs": [],
   "source": [
    "from aiida.tools.dbimporters import DbImporterFactory\n",
    "CodImporter = DbImporterFactory('cod')\n",
    "importer = CodImporter()"
   ]
  },
  {
   "cell_type": "code",
   "execution_count": 3,
   "metadata": {
    "collapsed": true
   },
   "outputs": [],
   "source": [
    "all_si_results = list(importer.query(spacegroup=\"F d -3 m :1\", formula=\"Si\"))\n",
    "cod_result = all_si_results[0] # e.g.: ID 9008565"
   ]
  },
  {
   "cell_type": "markdown",
   "metadata": {},
   "source": [
    "Convert it to an explicit AiiDA structure, show cell and coordinates"
   ]
  },
  {
   "cell_type": "code",
   "execution_count": 4,
   "metadata": {
    "collapsed": true
   },
   "outputs": [],
   "source": [
    "structure = cod_result.get_aiida_structure()"
   ]
  },
  {
   "cell_type": "code",
   "execution_count": 5,
   "metadata": {},
   "outputs": [
    {
     "name": "stdout",
     "output_type": "stream",
     "text": [
      "CRYSTAL\n",
      "PRIMVEC 1\n",
      "      5.4307000000       0.0000000000       0.0000000000\n",
      "      0.0000000000       5.4307000000       0.0000000000\n",
      "      0.0000000000       0.0000000000       5.4307000000\n",
      "PRIMCOORD 1\n",
      "8 1\n",
      "14       0.0000000000       0.0000000000       0.0000000000\n",
      "14       0.0000000000       2.7153500000       2.7153500000\n",
      "14       2.7153500000       0.0000000000       2.7153500000\n",
      "14       2.7153500000       2.7153500000       0.0000000000\n",
      "14       4.0730250000       4.0730250000       1.3576750000\n",
      "14       4.0730250000       1.3576750000       4.0730250000\n",
      "14       1.3576750000       4.0730250000       4.0730250000\n",
      "14       1.3576750000       1.3576750000       1.3576750000\n",
      "\n"
     ]
    }
   ],
   "source": [
    "print structure._exportstring('xsf')"
   ]
  },
  {
   "cell_type": "markdown",
   "metadata": {},
   "source": [
    "### Get primitive cell from SeeK-path (also standardized according to crystallographic conventions), and show some information"
   ]
  },
  {
   "cell_type": "code",
   "execution_count": 6,
   "metadata": {
    "collapsed": true
   },
   "outputs": [],
   "source": [
    "from seekpath.aiidawrappers import get_path, get_explicit_k_path\n",
    "seekpath_info = get_path(structure)\n",
    "primitive_structure = seekpath_info['primitive_structure']\n",
    "explicit_path = get_explicit_k_path(structure)"
   ]
  },
  {
   "cell_type": "code",
   "execution_count": 7,
   "metadata": {},
   "outputs": [
    {
     "name": "stdout",
     "output_type": "stream",
     "text": [
      "Bravais lattice: cF2\n",
      "Spacegroup: Fd-3m\n",
      "Input cell had a volume 4x w.r.t. the primitive cell\n",
      "Suggested path:  GAMMA-X, X-U, K-GAMMA, GAMMA-L, L-W, W-X\n",
      "K-point coordinates (scaled units):\n",
      "K             0.3750000000       0.3750000000       0.7500000000\n",
      "L             0.5000000000       0.5000000000       0.5000000000\n",
      "U             0.6250000000       0.2500000000       0.6250000000\n",
      "W             0.5000000000       0.2500000000       0.7500000000\n",
      "X             0.5000000000       0.0000000000       0.5000000000\n",
      "GAMMA         0.0000000000       0.0000000000       0.0000000000\n",
      "W_2           0.7500000000       0.2500000000       0.5000000000\n"
     ]
    }
   ],
   "source": [
    "print \"Bravais lattice: {}\\nSpacegroup: {}\\nInput cell had a volume {}x w.r.t. the primitive cell\".format(\n",
    "    seekpath_info['bravais_lattice_extended'], \n",
    "    seekpath_info['spacegroup_international'], \n",
    "    int(seekpath_info['volume_original_wrt_prim']))\n",
    "print \"Suggested path: \",\n",
    "print \", \".join(\"{}-{}\".format(p1, p2) for p1, p2 in seekpath_info['path'])\n",
    "print \"K-point coordinates (scaled units):\"\n",
    "for label, coords in seekpath_info['point_coords'].iteritems():\n",
    "    print \"{:7s} {:18.10f} {:18.10f} {:18.10f}\".format(label, *coords)"
   ]
  },
  {
   "cell_type": "markdown",
   "metadata": {},
   "source": [
    "<img src=\"../common/data/bz-cF2.png\" alt=\"Brillouin Zone for cF2\" style=\"width: 500px;\"/>"
   ]
  },
  {
   "cell_type": "markdown",
   "metadata": {},
   "source": [
    "### Get suggested cutoff from SSSP"
   ]
  },
  {
   "cell_type": "code",
   "execution_count": 8,
   "metadata": {
    "collapsed": true
   },
   "outputs": [],
   "source": [
    "SSSP_eff_cutoffs = {l.split()[0]: int(l.split()[1]) \n",
    "                    for l in open(os.path.join(\n",
    "                        os.path.dirname(__name__),os.pardir,\n",
    "                        'common','data','SSSP_acc_cutoffs.txt')).readlines() \n",
    "                    if l.split()[1] != '??'}"
   ]
  },
  {
   "cell_type": "code",
   "execution_count": 9,
   "metadata": {
    "scrolled": true
   },
   "outputs": [
    {
     "name": "stdout",
     "output_type": "stream",
     "text": [
      "Ag:  35 Ry\n",
      "Al:  30 Ry\n",
      "Ar: 120 Ry\n",
      "As:  30 Ry\n",
      "Au:  45 Ry\n",
      "B :  40 Ry\n",
      "Ba:  40 Ry\n",
      "Be:  55 Ry\n",
      "Bi:  35 Ry\n",
      "Br:  30 Ry\n",
      "   ...\n"
     ]
    }
   ],
   "source": [
    "for elem in sorted(SSSP_eff_cutoffs)[:10]:\n",
    "    print \"{:2s}: {:3.0f} Ry\".format(elem, SSSP_eff_cutoffs[elem])\n",
    "print \"   ...\""
   ]
  },
  {
   "cell_type": "markdown",
   "metadata": {},
   "source": [
    "Pick the suggested cutoff for this structure, as the largest cutoff for all species in the system"
   ]
  },
  {
   "cell_type": "code",
   "execution_count": 10,
   "metadata": {},
   "outputs": [
    {
     "name": "stdout",
     "output_type": "stream",
     "text": [
      "Suggested cutoff: 30.0 Ry\n"
     ]
    }
   ],
   "source": [
    "SSSP_cutoff = float(max(SSSP_eff_cutoffs[sym] for sym in structure.get_symbols_set()))\n",
    "print \"Suggested cutoff: {} Ry\".format(SSSP_cutoff)"
   ]
  },
  {
   "cell_type": "markdown",
   "metadata": {},
   "source": [
    "### Pick a suitable regular mesh from a given density; here: 0.4 Angstrom<sup>-1</sup>"
   ]
  },
  {
   "cell_type": "code",
   "execution_count": 11,
   "metadata": {
    "collapsed": true
   },
   "outputs": [],
   "source": [
    "KpointsData = DataFactory('array.kpoints')\n",
    "kpts = KpointsData()\n",
    "kpts.set_cell_from_structure(primitive_structure)\n",
    "kpts.set_kpoints_mesh_from_density(distance=0.4, offset=[0.,0.,0.])"
   ]
  },
  {
   "cell_type": "code",
   "execution_count": 12,
   "metadata": {},
   "outputs": [
    {
     "name": "stdout",
     "output_type": "stream",
     "text": [
      "((6, 6, 6), (0.0, 0.0, 0.0))\n"
     ]
    }
   ],
   "source": [
    "print kpts.get_kpoints_mesh()"
   ]
  },
  {
   "cell_type": "markdown",
   "metadata": {},
   "source": [
    "### Generate a Quantum ESPRESSO relaxation calculation"
   ]
  },
  {
   "cell_type": "code",
   "execution_count": 13,
   "metadata": {
    "collapsed": true
   },
   "outputs": [],
   "source": [
    "calc = Code.get_from_string('pw-5.1@localhost').new_calc()\n",
    "calc.set_resources({'num_machines': 1})"
   ]
  },
  {
   "cell_type": "code",
   "execution_count": 14,
   "metadata": {
    "collapsed": true
   },
   "outputs": [],
   "source": [
    "calc.use_structure(primitive_structure)\n",
    "calc.use_kpoints(kpts)\n",
    "calc.use_pseudos_from_family(\"SSSP\")"
   ]
  },
  {
   "cell_type": "code",
   "execution_count": 15,
   "metadata": {
    "collapsed": true
   },
   "outputs": [],
   "source": [
    "calc.use_parameters(ParameterData(dict={\n",
    "    'CONTROL': {\n",
    "        'calculation': 'relax',\n",
    "        'restart_mode': 'from_scratch',\n",
    "    },\n",
    "    'SYSTEM': {\n",
    "        'ecutwfc': SSSP_cutoff,\n",
    "        'ecutrho': 8.*SSSP_cutoff,\n",
    "    },\n",
    "    'ELECTRONS': {\n",
    "        'conv_thr': 1.e-10,\n",
    "    }}))"
   ]
  },
  {
   "cell_type": "code",
   "execution_count": 17,
   "metadata": {},
   "outputs": [],
   "source": [
    "calc.store_all()\n",
    "calc.submit()"
   ]
  },
  {
   "cell_type": "code",
   "execution_count": 18,
   "metadata": {},
   "outputs": [
    {
     "name": "stdout",
     "output_type": "stream",
     "text": [
      ". . . . . . . . . . . . . . . . .\n"
     ]
    }
   ],
   "source": [
    "while calc.get_state() != 'FINISHED':\n",
    "    print \".\",\n",
    "    time.sleep(5)\n",
    "    "
   ]
  },
  {
   "cell_type": "code",
   "execution_count": 21,
   "metadata": {
    "collapsed": true
   },
   "outputs": [],
   "source": [
    "#calc = load_node(5049)"
   ]
  },
  {
   "cell_type": "code",
   "execution_count": 22,
   "metadata": {},
   "outputs": [],
   "source": [
    "bandscalc = calc.create_restart(use_output_structure=True)\n",
    "bandscalc.set_resources({'num_machines': 1})\n",
    "bandscalc.use_kpoints(explicit_path['explicit_kpoints'])\n",
    "\n",
    "bands_parameters = calc.inp.parameters.get_dict()\n",
    "bands_parameters['CONTROL']['calculation'] = 'bands'\n",
    "bandscalc.use_parameters(ParameterData(dict=bands_parameters))\n",
    "\n",
    "bandscalc.use_settings(ParameterData(dict={\n",
    "    'also_bands': True\n",
    "}))"
   ]
  },
  {
   "cell_type": "code",
   "execution_count": 23,
   "metadata": {},
   "outputs": [],
   "source": [
    "bandscalc.store_all()\n",
    "bandscalc.submit()"
   ]
  },
  {
   "cell_type": "code",
   "execution_count": 24,
   "metadata": {},
   "outputs": [
    {
     "name": "stdout",
     "output_type": "stream",
     "text": [
      ". . . . . . . . . . . . . . .\n"
     ]
    }
   ],
   "source": [
    "while bandscalc.get_state() != 'FINISHED':\n",
    "    print \".\",\n",
    "    time.sleep(5)"
   ]
  },
  {
   "cell_type": "code",
   "execution_count": 7,
   "metadata": {},
   "outputs": [],
   "source": [
    "# bandscalc = load_node(5059)"
   ]
  },
  {
   "cell_type": "code",
   "execution_count": 9,
   "metadata": {},
   "outputs": [],
   "source": [
    "import json\n",
    "plot_data = json.loads(\n",
    "        \"\\n\".join([_.partition('#')[0] \n",
    "                   for _ in bandscalc.out.output_band._exportstring('json').splitlines() \n",
    "                   if _.partition('#')[0].split()]))"
   ]
  },
  {
   "cell_type": "code",
   "execution_count": 19,
   "metadata": {},
   "outputs": [
    {
     "name": "stdout",
     "output_type": "stream",
     "text": [
      "Band structure:\n"
     ]
    },
    {
     "data": {
      "image/png": "[encoded data removed]",
      "text/plain": [
       "<matplotlib.figure.Figure at 0x7faf51762f10>"
      ]
     },
     "metadata": {},
     "output_type": "display_data"
    }
   ],
   "source": [
    "curpos = 0\n",
    "last_label = None\n",
    "f = pylab.subplot(1,1,1)\n",
    "pylab.axvline(curpos)\n",
    "ticks = []\n",
    "tick_labels = []\n",
    "for path in data['paths']:\n",
    "    if last_label is None:\n",
    "        ticks.append(curpos)\n",
    "        tick_labels.append(path['from'])\n",
    "        last_label = path['from']\n",
    "    if last_label != path['from']:\n",
    "        tick_labels[-1] += \"|{}\".format(path['from'])\n",
    "    if path['length'] == 1:\n",
    "        continue\n",
    "    newlen = 0\n",
    "    for band in path['values']:\n",
    "        newlen = len(band)\n",
    "        pylab.plot(range(curpos, curpos+newlen), band, 'k')\n",
    "    curpos += newlen\n",
    "    if newlen == 2:\n",
    "        print path\n",
    "    pylab.axvline(curpos) \n",
    "    ticks.append(curpos)\n",
    "    tick_labels.append(path['to'])\n",
    "    last_label = path['to']\n",
    "    \n",
    "pylab.xlim([0, curpos])\n",
    "f.set_xticks(ticks)\n",
    "\n",
    "tick_labels = [\"$\\Gamma$\" if _ == \"GAMMA\" else _ for _ in tick_labels ]\n",
    "\n",
    "f.set_xticklabels(tick_labels)\n",
    "print 'Band structure:'"
   ]
  },
  {
   "cell_type": "code",
   "execution_count": null,
   "metadata": {
    "collapsed": true
   },
   "outputs": [],
   "source": []
  }
 ],
 "metadata": {
  "kernelspec": {
   "display_name": "Python 2",
   "language": "python",
   "name": "python2"
  },
  "language_info": {
   "codemirror_mode": {
    "name": "ipython",
    "version": 2
   },
   "file_extension": ".py",
   "mimetype": "text/x-python",
   "name": "python",
   "nbconvert_exporter": "python",
   "pygments_lexer": "ipython2",
   "version": "2.7.6"
  }
 },
 "nbformat": 4,
 "nbformat_minor": 2
}
