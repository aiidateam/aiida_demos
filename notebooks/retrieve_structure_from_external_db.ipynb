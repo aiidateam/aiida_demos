{
 "cells": [
  {
   "cell_type": "markdown",
   "metadata": {},
   "source": [
    "# Retrieve data from external sources\n",
    "## Get structures from the COD and ICSD\n",
    "Time: 2 mins"
   ]
  },
  {
   "cell_type": "code",
   "execution_count": 14,
   "metadata": {
    "collapsed": true,
    "hide_input": true
   },
   "outputs": [],
   "source": [
    "from aiida import load_dbenv, is_dbenv_loaded\n",
    "if not is_dbenv_loaded():\n",
    "    load_dbenv()\n",
    "from aiida.tools.dbimporters import DbImporterFactory\n",
    "from ase.visualize import view\n",
    "import spglib\n",
    "import nglview"
   ]
  },
  {
   "cell_type": "markdown",
   "metadata": {},
   "source": [
    "## Import a structure from the COD database (http://crystallography.net/cod/)"
   ]
  },
  {
   "cell_type": "markdown",
   "metadata": {},
   "source": [
    "#### Load the COD importer class and instantiate it"
   ]
  },
  {
   "cell_type": "code",
   "execution_count": 15,
   "metadata": {},
   "outputs": [
    {
     "data": {
      "text/plain": [
       "<aiida.tools.dbimporters.plugins.cod.CodDbImporter at 0x7fb794e9c590>"
      ]
     },
     "execution_count": 15,
     "metadata": {},
     "output_type": "execute_result"
    }
   ],
   "source": [
    "importer_class = DbImporterFactory('cod')\n",
    "importer = importer_class()\n",
    "importer"
   ]
  },
  {
   "cell_type": "markdown",
   "metadata": {},
   "source": [
    "#### Query the COD for a given database formula"
   ]
  },
  {
   "cell_type": "code",
   "execution_count": 16,
   "metadata": {
    "collapsed": true,
    "hide_input": true
   },
   "outputs": [],
   "source": [
    "cod_id = '1510230' # AuMg\n",
    "# cod_id = '9009138' # CdI2\n",
    "# cod_id = '9008845' # GaAs"
   ]
  },
  {
   "cell_type": "code",
   "execution_count": 17,
   "metadata": {
    "collapsed": true
   },
   "outputs": [],
   "source": [
    "query_results = importer.query(formula='Au Mg')"
   ]
  },
  {
   "cell_type": "code",
   "execution_count": 18,
   "metadata": {},
   "outputs": [
    {
     "name": "stdout",
     "output_type": "stream",
     "text": [
      "2\n"
     ]
    }
   ],
   "source": [
    "print len(query_results)"
   ]
  },
  {
   "cell_type": "markdown",
   "metadata": {},
   "source": [
    "#### Get the cif file corresponding to the entry, and convert it to an AiiDA structure"
   ]
  },
  {
   "cell_type": "code",
   "execution_count": 19,
   "metadata": {},
   "outputs": [
    {
     "name": "stdout",
     "output_type": "stream",
     "text": [
      "['Au Mg']\n"
     ]
    }
   ],
   "source": [
    "entry = query_results.at(0)\n",
    "cif = entry.get_cif_node()\n",
    "print cif.get_formulae()"
   ]
  },
  {
   "cell_type": "code",
   "execution_count": 20,
   "metadata": {
    "collapsed": true
   },
   "outputs": [],
   "source": [
    "structure = cif._get_aiida_structure(converter='pymatgen')"
   ]
  },
  {
   "cell_type": "markdown",
   "metadata": {
    "collapsed": true
   },
   "source": [
    "#### Store the structure and prints its pk"
   ]
  },
  {
   "cell_type": "code",
   "execution_count": 21,
   "metadata": {},
   "outputs": [
    {
     "data": {
      "text/plain": [
       "5328"
      ]
     },
     "execution_count": 21,
     "metadata": {},
     "output_type": "execute_result"
    }
   ],
   "source": [
    "structure.store()\n",
    "structure.pk"
   ]
  },
  {
   "cell_type": "markdown",
   "metadata": {},
   "source": [
    "#### Get the structure information"
   ]
  },
  {
   "cell_type": "code",
   "execution_count": 22,
   "metadata": {},
   "outputs": [
    {
     "name": "stdout",
     "output_type": "stream",
     "text": [
      "AuMg\n",
      "Atoms(symbols='MgAu', pbc=[True, True, True], cell=[[3.259, 0.0, 1.99556195921061e-16], [5.24087171529616e-16, 3.259, 1.99556195921061e-16], [0.0, 0.0, 3.259]], masses=..., positions=...)\n"
     ]
    }
   ],
   "source": [
    "print structure.get_formula()\n",
    "print structure.get_ase()"
   ]
  },
  {
   "cell_type": "markdown",
   "metadata": {},
   "source": [
    "#### Visualize the structure"
   ]
  },
  {
   "cell_type": "code",
   "execution_count": 24,
   "metadata": {},
   "outputs": [
    {
     "name": "stderr",
     "output_type": "stream",
     "text": [
      "The installed widget Javascript is the wrong version.\n"
     ]
    }
   ],
   "source": [
    "view = nglview.show_ase(structure.get_ase()*[4,4,1])\n",
    "view"
   ]
  },
  {
   "cell_type": "markdown",
   "metadata": {},
   "source": [
    "#### Get the spacegroup of the structure with spglib"
   ]
  },
  {
   "cell_type": "code",
   "execution_count": 25,
   "metadata": {},
   "outputs": [
    {
     "name": "stdout",
     "output_type": "stream",
     "text": [
      "Pm-3m (221)\n"
     ]
    }
   ],
   "source": [
    "print spglib.get_spacegroup(structure.get_ase())"
   ]
  },
  {
   "cell_type": "markdown",
   "metadata": {},
   "source": [
    "## Import a structure from the ICSD database (https://www.fiz-karlsruhe.de/icsd.html)"
   ]
  },
  {
   "cell_type": "markdown",
   "metadata": {},
   "source": [
    "#### Connect (with ssh tunnelling) to the server hosting the database"
   ]
  },
  {
   "cell_type": "code",
   "execution_count": 36,
   "metadata": {
    "collapsed": true
   },
   "outputs": [],
   "source": [
    "!ssh -fN -L 3306:localhost:3306 -L 8010:localhost:80 aiidademo@theossrv2.epfl.ch > /dev/null 2>&1"
   ]
  },
  {
   "cell_type": "markdown",
   "metadata": {},
   "source": [
    "#### Load the ICSD importer class and instantiate it"
   ]
  },
  {
   "cell_type": "code",
   "execution_count": 46,
   "metadata": {},
   "outputs": [
    {
     "data": {
      "text/plain": [
       "<aiida.tools.dbimporters.plugins.icsd.IcsdDbImporter at 0x7fb794daaa10>"
      ]
     },
     "execution_count": 46,
     "metadata": {},
     "output_type": "execute_result"
    }
   ],
   "source": [
    "importer_class = DbImporterFactory('icsd')\n",
    "importer_parameters = {'server': 'http://localhost:8010/',\n",
    "                   'host': '127.0.0.1',\n",
    "                   'db': 'icsd',\n",
    "                   'passwd': 'sql'\n",
    "                  }\n",
    "importer = importer_class(**importer_parameters)\n",
    "importer"
   ]
  },
  {
   "cell_type": "markdown",
   "metadata": {},
   "source": [
    "#### Query the ICSD for a given database entry"
   ]
  },
  {
   "cell_type": "code",
   "execution_count": 47,
   "metadata": {
    "collapsed": true
   },
   "outputs": [],
   "source": [
    "icsd_id = '617290' # graphite"
   ]
  },
  {
   "cell_type": "code",
   "execution_count": 48,
   "metadata": {
    "collapsed": true
   },
   "outputs": [],
   "source": [
    "query_results = importer.query(id=icsd_id)"
   ]
  },
  {
   "cell_type": "code",
   "execution_count": 49,
   "metadata": {},
   "outputs": [
    {
     "name": "stdout",
     "output_type": "stream",
     "text": [
      "1\n"
     ]
    }
   ],
   "source": [
    "print len(query_results)"
   ]
  },
  {
   "cell_type": "markdown",
   "metadata": {},
   "source": [
    "#### Get the cif file corresponding to the entry, and convert it to an AiiDA structure"
   ]
  },
  {
   "cell_type": "code",
   "execution_count": 50,
   "metadata": {},
   "outputs": [
    {
     "name": "stdout",
     "output_type": "stream",
     "text": [
      "['C1']\n"
     ]
    }
   ],
   "source": [
    "entry = query_results.at(0)\n",
    "cif = entry.get_cif_node()\n",
    "print cif.get_formulae()"
   ]
  },
  {
   "cell_type": "code",
   "execution_count": 51,
   "metadata": {},
   "outputs": [
    {
     "name": "stdout",
     "output_type": "stream",
     "text": [
      "C4\n",
      "Atoms(symbols='C4', pbc=[True, True, True], cell=[[2.47, 0.0, 1.5124387969469814e-16], [-1.2349999999999994, 2.139082747347564, 1.5124387969469814e-16], [0.0, 0.0, 6.93]], masses=..., positions=...)\n"
     ]
    }
   ],
   "source": [
    "structure = cif._get_aiida_structure(converter='pymatgen')\n",
    "print structure.get_formula()\n",
    "print structure.get_ase()"
   ]
  },
  {
   "cell_type": "markdown",
   "metadata": {},
   "source": [
    "#### Get the spacegroup of the structure with spglib"
   ]
  },
  {
   "cell_type": "code",
   "execution_count": 52,
   "metadata": {},
   "outputs": [
    {
     "name": "stdout",
     "output_type": "stream",
     "text": [
      "P6_3/mmc (194)\n"
     ]
    }
   ],
   "source": [
    "print spglib.get_spacegroup(structure.get_ase(),symprec=5e-3)"
   ]
  },
  {
   "cell_type": "markdown",
   "metadata": {
    "collapsed": true
   },
   "source": [
    "#### Store the structure and prints its pk"
   ]
  },
  {
   "cell_type": "code",
   "execution_count": 53,
   "metadata": {},
   "outputs": [
    {
     "data": {
      "text/plain": [
       "5370"
      ]
     },
     "execution_count": 53,
     "metadata": {},
     "output_type": "execute_result"
    }
   ],
   "source": [
    "structure.store()\n",
    "structure.pk"
   ]
  },
  {
   "cell_type": "markdown",
   "metadata": {
    "collapsed": true,
    "hide_input": false
   },
   "source": [
    "#### Now access the terminal and type the following to visualise the structure"
   ]
  },
  {
   "cell_type": "code",
   "execution_count": 54,
   "metadata": {},
   "outputs": [
    {
     "name": "stderr",
     "output_type": "stream",
     "text": [
      "The installed widget Javascript is the wrong version.\n"
     ]
    }
   ],
   "source": [
    "view = nglview.show_ase(structure.get_ase()*[4,4,1])\n",
    "view"
   ]
  },
  {
   "cell_type": "code",
   "execution_count": null,
   "metadata": {
    "collapsed": true
   },
   "outputs": [],
   "source": []
  },
  {
   "cell_type": "code",
   "execution_count": null,
   "metadata": {
    "collapsed": true
   },
   "outputs": [],
   "source": []
  }
 ],
 "metadata": {
  "kernelspec": {
   "display_name": "Python 2",
   "language": "python",
   "name": "python2"
  },
  "language_info": {
   "codemirror_mode": {
    "name": "ipython",
    "version": 2
   },
   "file_extension": ".py",
   "mimetype": "text/x-python",
   "name": "python",
   "nbconvert_exporter": "python",
   "pygments_lexer": "ipython2",
   "version": "2.7.6"
  }
 },
 "nbformat": 4,
 "nbformat_minor": 2
}
