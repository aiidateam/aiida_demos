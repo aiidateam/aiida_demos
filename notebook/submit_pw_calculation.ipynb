{
 "cells": [
  {
   "cell_type": "markdown",
   "metadata": {},
   "source": [
    "# Submit PW calculation\n",
    "#### Create a structure, kpoints, and input parameters and submit a Quantum ESPRESSO calculation"
   ]
  },
  {
   "cell_type": "code",
   "execution_count": 2,
   "metadata": {
    "collapsed": true,
    "hide_input": true
   },
   "outputs": [],
   "source": [
    "from aiida.backends.utils import load_dbenv, is_dbenv_loaded\n",
    "if not is_dbenv_loaded():\n",
    "    load_dbenv()\n",
    "\n",
    "from aiida.orm.utils import load_node\n",
    "from aiida.work.run import run\n",
    "from aiida.orm.code import Code\n",
    "from aiida.orm.data.base import Bool, Str\n",
    "from aiida.orm.data.parameter import ParameterData\n",
    "from aiida.orm.data.array.kpoints import KpointsData\n",
    "from aiida.orm.data.structure import StructureData\n",
    "from ase.lattice.spacegroup import crystal"
   ]
  },
  {
   "cell_type": "markdown",
   "metadata": {},
   "source": [
    "#### Create a diamond cubic crystal structure"
   ]
  },
  {
   "cell_type": "code",
   "execution_count": 3,
   "metadata": {},
   "outputs": [
    {
     "data": {
      "text/plain": [
       "<StructureData: uuid: 7791524c-7ea2-46fb-a8d6-6b8bf486b0dc (pk: 4938)>"
      ]
     },
     "execution_count": 3,
     "metadata": {},
     "output_type": "execute_result"
    }
   ],
   "source": [
    "# Define a structure, employing the Atomic Structure Environment library\n",
    "alat = 3.568\n",
    "ase_definition = crystal('C', [(0,0,0)], spacegroup=227, cellpar=[alat, alat, alat, 90, 90, 90], primitive_cell=True)*2\n",
    "structure = StructureData(ase=ase_definition)\n",
    "structure.store()"
   ]
  },
  {
   "cell_type": "markdown",
   "metadata": {},
   "source": [
    "#### Create the _k_-points mesh"
   ]
  },
  {
   "cell_type": "code",
   "execution_count": 4,
   "metadata": {},
   "outputs": [
    {
     "data": {
      "text/plain": [
       "<KpointsData: uuid: a45b5ab1-fabe-46b7-ba92-534983a2b3cc (pk: 4939)>"
      ]
     },
     "execution_count": 4,
     "metadata": {},
     "output_type": "execute_result"
    }
   ],
   "source": [
    "# Define the k-points mesh\n",
    "kpoints = KpointsData()\n",
    "kpoints_mesh = [1, 1, 1]\n",
    "kpoints.set_kpoints_mesh(kpoints_mesh)\n",
    "kpoints.store()"
   ]
  },
  {
   "cell_type": "markdown",
   "metadata": {},
   "source": [
    "#### Define the calculation input parameters"
   ]
  },
  {
   "cell_type": "code",
   "execution_count": 12,
   "metadata": {
    "collapsed": true
   },
   "outputs": [],
   "source": [
    "# Define the pseudo potential family and input parameters for pw.x\n",
    "pseudo_family = 'SSSP'\n",
    "parameters = {\n",
    "    'CONTROL': {\n",
    "        \"calculation\": \"scf\",\n",
    "        'tstress': True,\n",
    "    },\n",
    "    'SYSTEM': {\n",
    "        'ecutwfc': 40.,\n",
    "        'ecutrho': 320.,\n",
    "    },\n",
    "    'ELECTRONS': {\n",
    "        'conv_thr': 1.e-10,\n",
    "    }\n",
    "}"
   ]
  },
  {
   "cell_type": "markdown",
   "metadata": {},
   "source": [
    "#### Tell AiiDA which code to use"
   ]
  },
  {
   "cell_type": "code",
   "execution_count": 13,
   "metadata": {},
   "outputs": [],
   "source": [
    "# Retrieve the code\n",
    "codename = 'pw-5.1'\n",
    "code = Code.get_from_string(codename)"
   ]
  },
  {
   "cell_type": "code",
   "execution_count": 14,
   "metadata": {},
   "outputs": [],
   "source": [
    "# Create a new calculation from the code and set the inputs\n",
    "calc = code.new_calc()\n",
    "calc.use_structure(structure)\n",
    "calc.use_pseudos_from_family(pseudo_family)\n",
    "calc.use_parameters(ParameterData(dict=parameters))\n",
    "calc.use_kpoints(kpoints)\n",
    "calc.set_resources({\"num_machines\": 1})\n",
    "calc.set_max_wallclock_seconds(30*60)"
   ]
  },
  {
   "cell_type": "code",
   "execution_count": 15,
   "metadata": {},
   "outputs": [
    {
     "name": "stdout",
     "output_type": "stream",
     "text": [
      "Submitted a PwCalculation with pk<4941>\n"
     ]
    }
   ],
   "source": [
    "# Simply store the calculation and submit it\n",
    "calc.store_all()\n",
    "calc.submit()\n",
    "print \"Submitted a {} with pk<{}>\".format(calc.__class__.__name__, calc.pk)"
   ]
  },
  {
   "cell_type": "code",
   "execution_count": 24,
   "metadata": {},
   "outputs": [
    {
     "name": "stdout",
     "output_type": "stream",
     "text": [
      "# Last daemon state_updater check: 0h:00m:19s ago (at 12:30:02 on 2017-04-20)\n",
      "PK    State    Creation    Sched. state    Computer    Type\n",
      "----  -------  ----------  --------------  ----------  ------\n",
      "\n",
      "Total results: 0\n",
      "\n"
     ]
    }
   ],
   "source": [
    "!verdi calculation list"
   ]
  },
  {
   "cell_type": "code",
   "execution_count": 25,
   "metadata": {},
   "outputs": [
    {
     "data": {
      "text/plain": [
       "True"
      ]
     },
     "execution_count": 25,
     "metadata": {},
     "output_type": "execute_result"
    }
   ],
   "source": [
    "# Load the calculation node and check if it finished correctly\n",
    "calculation = load_node(calc.pk)\n",
    "calculation.has_finished_ok()"
   ]
  },
  {
   "cell_type": "code",
   "execution_count": 26,
   "metadata": {},
   "outputs": [
    {
     "data": {
      "text/plain": [
       "{u'output_array': <ArrayData: uuid: 5cff3c1e-89dc-4ac0-9b47-a743fb2c3128 (pk: 4946)>,\n",
       " u'output_array_4946': <ArrayData: uuid: 5cff3c1e-89dc-4ac0-9b47-a743fb2c3128 (pk: 4946)>,\n",
       " u'output_kpoints': <KpointsData: uuid: 0b4db927-ad6b-4635-8ea6-d3846d33279f (pk: 4944)>,\n",
       " u'output_kpoints_4944': <KpointsData: uuid: 0b4db927-ad6b-4635-8ea6-d3846d33279f (pk: 4944)>,\n",
       " u'output_parameters': <ParameterData: uuid: 37d26b36-952a-473c-b6ed-d9b33ff9ae36 (pk: 4945)>,\n",
       " u'output_parameters_4945': <ParameterData: uuid: 37d26b36-952a-473c-b6ed-d9b33ff9ae36 (pk: 4945)>,\n",
       " u'remote_folder': <RemoteData: uuid: 93727b03-6b41-4368-b0f0-fb954af6074b (pk: 4942)>,\n",
       " u'remote_folder_4942': <RemoteData: uuid: 93727b03-6b41-4368-b0f0-fb954af6074b (pk: 4942)>,\n",
       " u'retrieved': <FolderData: uuid: c3790a16-10f1-4238-9e82-517e748b6339 (pk: 4943)>,\n",
       " u'retrieved_4943': <FolderData: uuid: c3790a16-10f1-4238-9e82-517e748b6339 (pk: 4943)>}"
      ]
     },
     "execution_count": 26,
     "metadata": {},
     "output_type": "execute_result"
    }
   ],
   "source": [
    "# We can easily show all the attached outputs\n",
    "calculation.get_outputs_dict()"
   ]
  },
  {
   "cell_type": "code",
   "execution_count": 27,
   "metadata": {},
   "outputs": [
    {
     "name": "stdout",
     "output_type": "stream",
     "text": [
      "Total energy = -2471.82841453 eV\n"
     ]
    }
   ],
   "source": [
    "# There are convenient methods to directly access the results\n",
    "print \"Total energy = {} {}\".format(calculation.res.energy, calculation.res.energy_units)"
   ]
  },
  {
   "cell_type": "code",
   "execution_count": null,
   "metadata": {
    "collapsed": true
   },
   "outputs": [],
   "source": []
  }
 ],
 "metadata": {
  "kernelspec": {
   "display_name": "Python 2",
   "language": "python",
   "name": "python2"
  },
  "language_info": {
   "codemirror_mode": {
    "name": "ipython",
    "version": 2
   },
   "file_extension": ".py",
   "mimetype": "text/x-python",
   "name": "python",
   "nbconvert_exporter": "python",
   "pygments_lexer": "ipython2",
   "version": "2.7.6"
  }
 },
 "nbformat": 4,
 "nbformat_minor": 2
}
