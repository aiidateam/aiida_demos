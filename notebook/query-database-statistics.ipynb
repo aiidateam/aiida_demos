{
 "cells": [
  {
   "cell_type": "code",
   "execution_count": 1,
   "metadata": {
    "collapsed": true
   },
   "outputs": [],
   "source": [
    "from aiida import load_dbenv, is_dbenv_loaded\n",
    "if not is_dbenv_loaded():\n",
    "    load_dbenv()\n",
    "from aiida.orm import load_node, Node, Group, Computer, User\n",
    "from aiida.orm.querybuilder import QueryBuilder"
   ]
  },
  {
   "cell_type": "code",
   "execution_count": null,
   "metadata": {},
   "outputs": [],
   "source": [
    "############### How many nodes/groups/computers/users does my database have: #########\n",
    "for cls in (User, Computer,Group, Node):\n",
    "    # Instantiating QB:\n",
    "    qb = QueryBuilder().append(cls)\n",
    "    print \"My database contains {} {}s\".format(qb.count(), cls.__name__)\n",
    "\n",
    "############## I want to know how many subtypes of Group/Node I have #################\n",
    "for cls in (Node, Group):\n",
    "    print '\\n', 'Subclasses of {}:'.format(cls.__name__)\n",
    "\n",
    "    qb = QueryBuilder()\n",
    "    qb.append(cls, project='type')\n",
    "    distinct_types, = zip(*qb.distinct().all())\n",
    "    # Going through distinct types:\n",
    "    for dtype in sorted(distinct_types):\n",
    "        dbcount = QueryBuilder().append(cls, filters={'type':dtype}).count()\n",
    "        print '   {:<30} | {:<4}'.format(dtype.strip('.').split('.')[-1] or \"N/A\", dbcount)\n",
    "\n",
    "############ What is the connectivity of my database ##############################\n",
    "qb = QueryBuilder()\n",
    "qb.append(Node, tag='n1')\n",
    "qb.append(Node, output_of='n1')\n",
    "print '\\nThe number of links in my database is:',qb.count()\n",
    "\n",
    "qb = QueryBuilder()\n",
    "qb.append(Node, tag='n1')\n",
    "qb.append(Node, descendant_of='n1')\n",
    "print '\\nThe number of distinct paths in my database is:',qb.count()\n"
   ]
  },
  {
   "cell_type": "code",
   "execution_count": null,
   "metadata": {
    "collapsed": true
   },
   "outputs": [],
   "source": []
  }
 ],
 "metadata": {
  "kernelspec": {
   "display_name": "Python 2",
   "language": "python",
   "name": "python2"
  },
  "language_info": {
   "codemirror_mode": {
    "name": "ipython",
    "version": 2
   },
   "file_extension": ".py",
   "mimetype": "text/x-python",
   "name": "python",
   "nbconvert_exporter": "python",
   "pygments_lexer": "ipython2",
   "version": "2.7.6"
  }
 },
 "nbformat": 4,
 "nbformat_minor": 2
}
