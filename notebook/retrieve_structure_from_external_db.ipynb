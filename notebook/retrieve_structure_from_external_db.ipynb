{
 "cells": [
  {
   "cell_type": "code",
   "execution_count": 23,
   "metadata": {
    "collapsed": true
   },
   "outputs": [],
   "source": [
    "from aiida import load_dbenv, is_dbenv_loaded\n",
    "if not is_dbenv_loaded():\n",
    "    load_dbenv()\n",
    "from aiida.tools.dbimporters import DbImporterFactory\n",
    "from ase.visualize import view\n",
    "import spglib"
   ]
  },
  {
   "cell_type": "markdown",
   "metadata": {},
   "source": [
    "## Import a structure from the COD database (http://crystallography.net/cod/)"
   ]
  },
  {
   "cell_type": "markdown",
   "metadata": {},
   "source": [
    "#### load the COD importer class and instantiate it"
   ]
  },
  {
   "cell_type": "code",
   "execution_count": 24,
   "metadata": {
    "collapsed": true
   },
   "outputs": [],
   "source": [
    "importer_class = DbImporterFactory('cod')\n",
    "importer = importer_class()"
   ]
  },
  {
   "cell_type": "markdown",
   "metadata": {},
   "source": [
    "#### query the COD for a given database entry"
   ]
  },
  {
   "cell_type": "code",
   "execution_count": 25,
   "metadata": {
    "collapsed": true
   },
   "outputs": [],
   "source": [
    "cod_id = '1510230' # AuMg\n",
    "# cod_id = '9009138' # CdI2\n",
    "# cod_id = '9008845' # GaAs"
   ]
  },
  {
   "cell_type": "code",
   "execution_count": 26,
   "metadata": {
    "collapsed": true
   },
   "outputs": [],
   "source": [
    "query_results = importer.query(id=cod_id)"
   ]
  },
  {
   "cell_type": "code",
   "execution_count": 27,
   "metadata": {},
   "outputs": [
    {
     "name": "stdout",
     "output_type": "stream",
     "text": [
      "1\n"
     ]
    }
   ],
   "source": [
    "print len(query_results)"
   ]
  },
  {
   "cell_type": "markdown",
   "metadata": {},
   "source": [
    "#### get the cif file corresponding to the entry, and convert it to an AiiDA structure"
   ]
  },
  {
   "cell_type": "code",
   "execution_count": 28,
   "metadata": {},
   "outputs": [
    {
     "name": "stdout",
     "output_type": "stream",
     "text": [
      "['Au Mg']\n"
     ]
    }
   ],
   "source": [
    "entry = query_results.at(0)\n",
    "cif = entry.get_cif_node()\n",
    "print cif.get_formulae()"
   ]
  },
  {
   "cell_type": "code",
   "execution_count": 29,
   "metadata": {},
   "outputs": [
    {
     "name": "stdout",
     "output_type": "stream",
     "text": [
      "AuMg\n",
      "Atoms(symbols='MgAu', pbc=[True, True, True], cell=[[3.27, 0.0, 2.0022975166059226e-16], [5.258561064442602e-16, 3.27, 2.0022975166059226e-16], [0.0, 0.0, 3.27]], masses=..., positions=...)\n"
     ]
    }
   ],
   "source": [
    "structure = cif._get_aiida_structure(converter='pymatgen')\n",
    "print structure.get_formula()\n",
    "print structure.get_ase()"
   ]
  },
  {
   "cell_type": "markdown",
   "metadata": {},
   "source": [
    "#### get the spacegroup of the structure with spglib"
   ]
  },
  {
   "cell_type": "code",
   "execution_count": 30,
   "metadata": {},
   "outputs": [
    {
     "name": "stdout",
     "output_type": "stream",
     "text": [
      "Pm-3m (221)\n"
     ]
    }
   ],
   "source": [
    "print spglib.get_spacegroup(structure.get_ase())"
   ]
  },
  {
   "cell_type": "markdown",
   "metadata": {},
   "source": [
    "#### visualize the structure with ASE (NOTE: this cannot work without X11 forwarding)"
   ]
  },
  {
   "cell_type": "code",
   "execution_count": 31,
   "metadata": {
    "collapsed": true
   },
   "outputs": [],
   "source": [
    "view(structure.get_ase())"
   ]
  },
  {
   "cell_type": "markdown",
   "metadata": {},
   "source": [
    "## Import a structure from the ICSD database (https://www.fiz-karlsruhe.de/icsd.html)"
   ]
  },
  {
   "cell_type": "markdown",
   "metadata": {},
   "source": [
    "#### connect (with ssh tunnelling) to the server hosting the database"
   ]
  },
  {
   "cell_type": "code",
   "execution_count": null,
   "metadata": {},
   "outputs": [],
   "source": [
    "!ssh -L 3306:localhost:3306 -L 8010:localhost:80 aiida@theossrv2.epfl.ch"
   ]
  },
  {
   "cell_type": "markdown",
   "metadata": {},
   "source": [
    "#### load the ICSD importer class and instantiate it"
   ]
  },
  {
   "cell_type": "code",
   "execution_count": null,
   "metadata": {
    "collapsed": true
   },
   "outputs": [],
   "source": [
    "importer_class = DbImporterFactory('icsd')\n",
    "importer_parameters = {'server': 'http://theossrv2.epfl.ch/',\n",
    "                   'host': '127.0.0.1',\n",
    "                   'db': 'icsd',\n",
    "                   'passwd': 'sql'\n",
    "                  }\n",
    "importer = importer_class(**importer_parameters)"
   ]
  },
  {
   "cell_type": "markdown",
   "metadata": {},
   "source": [
    "#### query the ICSD for a given database entry"
   ]
  },
  {
   "cell_type": "code",
   "execution_count": null,
   "metadata": {
    "collapsed": true
   },
   "outputs": [],
   "source": [
    "icsd_id = '617290' # graphite\n",
    "# icsd_id = '35538' # \n",
    "# icsd_id = '165226' # "
   ]
  },
  {
   "cell_type": "code",
   "execution_count": null,
   "metadata": {
    "collapsed": true
   },
   "outputs": [],
   "source": [
    "query_results = importer.query(id=icsd_id)"
   ]
  },
  {
   "cell_type": "code",
   "execution_count": null,
   "metadata": {},
   "outputs": [],
   "source": [
    "print len(query_results)"
   ]
  },
  {
   "cell_type": "markdown",
   "metadata": {},
   "source": [
    "#### get the cif file corresponding to the entry, and convert it to an AiiDA structure"
   ]
  },
  {
   "cell_type": "code",
   "execution_count": null,
   "metadata": {},
   "outputs": [],
   "source": [
    "entry = query_results.at(0)\n",
    "cif = entry.get_cif_node()\n",
    "print cif.get_formulae()"
   ]
  },
  {
   "cell_type": "code",
   "execution_count": null,
   "metadata": {},
   "outputs": [],
   "source": [
    "structure = cif._get_aiida_structure(converter='pymatgen')\n",
    "print structure.get_formula()\n",
    "print structure.get_ase()"
   ]
  },
  {
   "cell_type": "markdown",
   "metadata": {},
   "source": [
    "#### get the spacegroup of the structure with spglib"
   ]
  },
  {
   "cell_type": "code",
   "execution_count": null,
   "metadata": {},
   "outputs": [],
   "source": [
    "print spglib.get_spacegroup(structure.get_ase())"
   ]
  },
  {
   "cell_type": "markdown",
   "metadata": {},
   "source": [
    "#### visualize the structure with ASE (NOTE: this cannot work without X11 forwarding)"
   ]
  },
  {
   "cell_type": "code",
   "execution_count": null,
   "metadata": {
    "collapsed": true
   },
   "outputs": [],
   "source": [
    "view(structure.get_ase())"
   ]
  },
  {
   "cell_type": "code",
   "execution_count": null,
   "metadata": {
    "collapsed": true
   },
   "outputs": [],
   "source": []
  }
 ],
 "metadata": {
  "kernelspec": {
   "display_name": "Python 2",
   "language": "python",
   "name": "python2"
  },
  "language_info": {
   "codemirror_mode": {
    "name": "ipython",
    "version": 2
   },
   "file_extension": ".py",
   "mimetype": "text/x-python",
   "name": "python",
   "nbconvert_exporter": "python",
   "pygments_lexer": "ipython2",
   "version": "2.7.6"
  }
 },
 "nbformat": 4,
 "nbformat_minor": 2
}
