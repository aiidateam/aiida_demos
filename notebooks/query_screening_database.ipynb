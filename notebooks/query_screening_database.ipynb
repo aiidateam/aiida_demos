{
 "cells": [
  {
   "cell_type": "markdown",
   "metadata": {
    "hide_input": true
   },
   "source": [
    "# Complex query\n",
    "\n",
    "## Query the database using a provenance relationship with the QueryBuilder\n",
    "\n",
    "Time: 3 mins\n",
    "\n",
    "##### In this example, we query the calculations in our database that are part of specific groups, and analyze the output. We want to get the magnetization of each structure that we computed. We are also interested in the smearing contribution to the total energy as an indicator of the existence and magnitude of the bandgap."
   ]
  },
  {
   "cell_type": "markdown",
   "metadata": {},
   "source": [
    "<div class=\"alert alert-box alert-info\">\n",
    "To run this example you need to have imported first the sample database provided with the demos.\n",
    "Make sure to have done it otherwise you will get zero results.\n",
    "</div>"
   ]
  },
  {
   "cell_type": "code",
   "execution_count": null,
   "metadata": {
    "hide_input": true
   },
   "outputs": [],
   "source": [
    "import sys, numpy as np\n",
    "from argparse import ArgumentParser\n",
    "from matplotlib import gridspec, pyplot as plt\n",
    "\n",
    "from aiida import load_dbenv, is_dbenv_loaded\n",
    "if not is_dbenv_loaded():\n",
    "    load_dbenv()\n",
    "from aiida.orm import CalculationFactory, QueryBuilder, load_node\n",
    "from aiida.orm.data.structure import StructureData\n",
    "from aiida.orm.data.parameter import ParameterData\n",
    "from aiida.orm.group import Group\n",
    "\n",
    "from notebook_helpers import generate_query_graph\n",
    "\n",
    "PwCalculation = CalculationFactory('quantumespresso.pw')"
   ]
  },
  {
   "cell_type": "code",
   "execution_count": null,
   "metadata": {
    "hide_input": false
   },
   "outputs": [],
   "source": [
    "# Each group of calculations that are of interests has the string: \"tutorial_\"+pseudo,\n",
    "# where pseudo is lda, pbe or pbesol\n",
    "group_basename = 'tutorial_%'"
   ]
  },
  {
   "cell_type": "markdown",
   "metadata": {},
   "source": [
    "#### Start building the query"
   ]
  },
  {
   "cell_type": "code",
   "execution_count": null,
   "metadata": {},
   "outputs": [],
   "source": [
    "# Instantiate QB:\n",
    "qb = QueryBuilder()\n",
    "# Append the Group to the entities returned, with a filter on the name:\n",
    "qb.append(Group, filters={'name':{'like':group_basename}}, project='name', tag='group')"
   ]
  },
  {
   "cell_type": "markdown",
   "metadata": {},
   "source": [
    "#### Visualize the query so far"
   ]
  },
  {
   "cell_type": "code",
   "execution_count": null,
   "metadata": {
    "hide_input": true
   },
   "outputs": [],
   "source": [
    "from IPython.display import Image"
   ]
  },
  {
   "cell_type": "code",
   "execution_count": null,
   "metadata": {},
   "outputs": [],
   "source": [
    "generate_query_graph(qb.get_json_compatible_queryhelp(), 'query1.png')\n",
    "Image(filename='query1.png')"
   ]
  },
  {
   "cell_type": "markdown",
   "metadata": {},
   "source": [
    "#### Append the calculations that are members of each group"
   ]
  },
  {
   "cell_type": "code",
   "execution_count": null,
   "metadata": {},
   "outputs": [],
   "source": [
    "# I want every PwCalculation that is a member of the specified groups:\n",
    "qb.append(PwCalculation, tag='calculation', member_of='group')"
   ]
  },
  {
   "cell_type": "markdown",
   "metadata": {},
   "source": [
    "#### Visualize the current status of the query"
   ]
  },
  {
   "cell_type": "code",
   "execution_count": null,
   "metadata": {},
   "outputs": [],
   "source": [
    "generate_query_graph(qb.get_json_compatible_queryhelp(), 'query2.png') \n",
    "Image(filename='query2.png')"
   ]
  },
  {
   "cell_type": "markdown",
   "metadata": {},
   "source": [
    "#### Append the structures that are input of the calculation. Project the id of the structure and the formula, stored in the extras under the key 'formula'. \n",
    "The first time you will run this, the extras.formula is not set, so it will return all `None`. Later we'll see how to amend this."
   ]
  },
  {
   "cell_type": "code",
   "execution_count": null,
   "metadata": {},
   "outputs": [],
   "source": [
    "qb.append(StructureData, project=['id', 'extras.formula'], tag='structure', input_of='calculation')"
   ]
  },
  {
   "cell_type": "markdown",
   "metadata": {},
   "source": [
    "#### Visualize the current status of the query"
   ]
  },
  {
   "cell_type": "code",
   "execution_count": null,
   "metadata": {},
   "outputs": [],
   "source": [
    "generate_query_graph(qb.get_json_compatible_queryhelp(), 'query3.png')\n",
    "Image(filename='query3.png')"
   ]
  },
  {
   "cell_type": "markdown",
   "metadata": {},
   "source": [
    "Append the parameters that are an output of the calculation.\n",
    "\n",
    "Project:\n",
    "* The smearing contribution and the units\n",
    "* The magnetization and the untits."
   ]
  },
  {
   "cell_type": "code",
   "execution_count": null,
   "metadata": {},
   "outputs": [],
   "source": [
    "qb.append(ParameterData,tag='results',\n",
    "        project=['attributes.energy_smearing', 'attributes.energy_smearing_units',\n",
    "           'attributes.total_magnetization', 'attributes.total_magnetization_units',\n",
    "        ], output_of='calculation'\n",
    "    )"
   ]
  },
  {
   "cell_type": "markdown",
   "metadata": {},
   "source": [
    "#### Visualize the final query"
   ]
  },
  {
   "cell_type": "code",
   "execution_count": null,
   "metadata": {},
   "outputs": [],
   "source": [
    "generate_query_graph(qb.get_json_compatible_queryhelp(), 'query4.png') \n",
    "Image(filename='query4.png')"
   ]
  },
  {
   "cell_type": "markdown",
   "metadata": {},
   "source": [
    "#### Print the query results"
   ]
  },
  {
   "cell_type": "code",
   "execution_count": null,
   "metadata": {},
   "outputs": [],
   "source": [
    "results = qb.all()\n",
    "for item in results:\n",
    "    print ', '.join(map(str, item))"
   ]
  },
  {
   "cell_type": "markdown",
   "metadata": {},
   "source": [
    "The first time you run this query, the third column (`extras.formula` of the Structure) will be `None`, because the extras are not set. For those we now add the extras, and re-run the query."
   ]
  },
  {
   "cell_type": "code",
   "execution_count": null,
   "metadata": {},
   "outputs": [],
   "source": [
    "missing_formulas_pk = set([res[1] for res in results if res[2] is None])\n",
    "print \"{} structures still do not have an extra.formulas set.\".format(len(missing_formulas_pk))\n",
    "if missing_formulas_pk:\n",
    "    print \"We will set this extra now.\""
   ]
  },
  {
   "cell_type": "code",
   "execution_count": null,
   "metadata": {},
   "outputs": [],
   "source": [
    "for structure_pk in missing_formulas_pk:\n",
    "    structure = load_node(structure_pk)\n",
    "    formula = structure.get_formula()\n",
    "    structure.set_extra('formula', formula)\n",
    "print \"Extra added to {} structures.\".format(len(missing_formulas_pk))"
   ]
  },
  {
   "cell_type": "code",
   "execution_count": null,
   "metadata": {},
   "outputs": [],
   "source": [
    "    formula = structure.get_formula"
   ]
  },
  {
   "cell_type": "markdown",
   "metadata": {},
   "source": [
    "We now run again the query to make sure to get also the formula.\n",
    "\n",
    "Note that to run the query again, we have to create it again (we already run it, so we cannot just modify it).\n",
    "The line below replaces qb with a new query, with the same appended filters and projections."
   ]
  },
  {
   "cell_type": "code",
   "execution_count": null,
   "metadata": {},
   "outputs": [],
   "source": [
    "qb = QueryBuilder(**qb.get_json_compatible_queryhelp())\n",
    "results = qb.all()\n",
    "for item in results:\n",
    "    print ', '.join(map(str, item))"
   ]
  },
  {
   "cell_type": "markdown",
   "metadata": {},
   "source": [
    "#### Plot the results\n",
    "Getting a long list is not always helpful. We prepared a function that visualizes in a nice, graphical format the results of the query.\n",
    "\n",
    "Don't get scared, most of the code below is to get a nice appearance in matplotlib - you already got the results in the point above!"
   ]
  },
  {
   "cell_type": "code",
   "execution_count": null,
   "metadata": {
    "hide_input": true
   },
   "outputs": [],
   "source": [
    "def plot_results(query_res):\n",
    "    \"\"\"\n",
    "    :param query_res: The result of an instance of the QueryBuilder\n",
    "    \"\"\"\n",
    "    smearing_unit_set,magnetization_unit_set,pseudo_family_set = set(), set(), set()\n",
    "    # Storing results:\n",
    "    results_dict = {}\n",
    "    for pseudo_family, structure_pk, formula, smearing, smearing_units, mag, mag_units in query_res:\n",
    "        if formula not in results_dict:\n",
    "            results_dict[formula] = {}\n",
    "        # Storing the results:\n",
    "        results_dict[formula][pseudo_family] = (smearing, mag)\n",
    "        # Adding to the unit set:\n",
    "        smearing_unit_set.add(smearing_units)\n",
    "        magnetization_unit_set.add(mag_units)\n",
    "        pseudo_family_set.add(pseudo_family)\n",
    "\n",
    "    # Sorting by formula:\n",
    "    sorted_results = sorted(results_dict.items())\n",
    "    formula_list = zip(*sorted_results)[0]\n",
    "    nr_of_results = len(formula_list)\n",
    "\n",
    "    # Checks that I have not more than 3 pseudo families.\n",
    "    # If more are needed, define more colors\n",
    "    #pseudo_list = list(pseudo_family_set)\n",
    "    if len(pseudo_family_set) > 3:\n",
    "        raise Exception('I was expecting 3 or less pseudo families')\n",
    "\n",
    "    colors = ['b', 'r', 'g']\n",
    "\n",
    "    # Plotting:\n",
    "    plt.clf()\n",
    "    fig=plt.figure(figsize=(16, 9), facecolor='w', edgecolor=None)\n",
    "    gs  = gridspec.GridSpec(2,1, hspace=0.01, left=0.1, right=0.94)\n",
    "\n",
    "    # Defining barwidth\n",
    "    barwidth = 1. / (len(pseudo_family_set)+1)\n",
    "    offset = [-0.5+(0.5+n)*barwidth for n in range(len(pseudo_family_set))]\n",
    "    # Axing labels with units:\n",
    "    yaxis = (\"Smearing energy [{}]\".format(smearing_unit_set.pop()),\n",
    "        \"Total magnetization [{}]\".format(magnetization_unit_set.pop()))\n",
    "    # If more than one unit was specified, I will exit:\n",
    "    if smearing_unit_set:\n",
    "        raise Exception('Found different units for smearing')\n",
    "    if magnetization_unit_set:\n",
    "        raise Exception('Found different units for magnetization')\n",
    "    \n",
    "    # Making two plots, upper for the smearing, the lower for magnetization\n",
    "    for index in range(2):\n",
    "        ax=fig.add_subplot(gs[index])\n",
    "        for i,pseudo_family in enumerate(pseudo_family_set):\n",
    "            X = np.arange(nr_of_results)+offset[i]\n",
    "            Y = np.array([thisres[1][pseudo_family][index] for thisres in sorted_results])\n",
    "            ax.bar(X, Y,  width=0.2, facecolor=colors[i], edgecolor=colors[i], label=pseudo_family)\n",
    "        ax.set_ylabel(yaxis[index], fontsize=14, labelpad=15*index+5)\n",
    "        ax.set_xlim(-0.5, nr_of_results-0.5)\n",
    "        ax.set_xticks(np.arange(nr_of_results))\n",
    "        if index == 0:\n",
    "            plt.setp(ax.get_yticklabels()[0], visible=False)\n",
    "            ax.xaxis.tick_top()\n",
    "            ax.legend(loc=3, prop={'size': 18})\n",
    "        else:\n",
    "            plt.setp(ax.get_yticklabels()[-1], visible=False)\n",
    "        for i in range(0, nr_of_results, 2):\n",
    "            ax.axvspan(i-0.5, i+0.5, facecolor='y', alpha=0.2)\n",
    "        ax.set_xticklabels(list(formula_list),rotation=90, size=14, ha='center')\n",
    "    plt.show()"
   ]
  },
  {
   "cell_type": "code",
   "execution_count": null,
   "metadata": {},
   "outputs": [],
   "source": [
    "plot_results(results)"
   ]
  },
  {
   "cell_type": "code",
   "execution_count": null,
   "metadata": {},
   "outputs": [],
   "source": []
  }
 ],
 "metadata": {
  "kernelspec": {
   "display_name": "Python 2",
   "language": "python",
   "name": "python2"
  },
  "language_info": {
   "codemirror_mode": {
    "name": "ipython",
    "version": 2
   },
   "file_extension": ".py",
   "mimetype": "text/x-python",
   "name": "python",
   "nbconvert_exporter": "python",
   "pygments_lexer": "ipython2",
   "version": "2.7.12"
  }
 },
 "nbformat": 4,
 "nbformat_minor": 2
}
