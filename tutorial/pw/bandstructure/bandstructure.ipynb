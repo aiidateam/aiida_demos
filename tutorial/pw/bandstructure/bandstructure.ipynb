{
 "cells": [
  {
   "cell_type": "markdown",
   "metadata": {},
   "source": [
    "# A real world workchain example: electronic band structure"
   ]
  },
  {
   "cell_type": "markdown",
   "metadata": {},
   "source": [
    "*Import statements - make sure to execute the cell below this one (it may be hidden)*"
   ]
  },
  {
   "cell_type": "code",
   "execution_count": null,
   "metadata": {
    "collapsed": true,
    "hide_input": false
   },
   "outputs": [],
   "source": [
    "from datetime import datetime, timedelta\n",
    "from aiida import load_dbenv, is_dbenv_loaded\n",
    "if not is_dbenv_loaded():\n",
    "    load_dbenv()\n",
    "\n",
    "from aiida.orm import WorkflowFactory, Code\n",
    "from aiida.orm.data.base import Str\n",
    "from aiida.tools.dbimporters import DbImporterFactory\n",
    "from aiida.work.run import run\n",
    "\n",
    "PwBandStructureWorkChain = WorkflowFactory('quantumespresso.pw.band_structure')"
   ]
  },
  {
   "cell_type": "markdown",
   "metadata": {},
   "source": [
    "### Calculating the electronic band structure with an AiiDA workchain\n",
    "This tutorial will show how useful a workchain can be in performing a well defined task, such as computing and visualizing the electronic band structure for a simple crystal structure. The goal of this tutorial is not to show you the intricacies of the actual workchain itself, but rather to serve as an example that workchains can simplify standard workflows in computational materials science. The workchain that we will use here will employ Quantum Espresso's pw.x code to calculate the charge densities for several crystal structures and compute a band structure from those. Many choices that normally face the researcher before being able to perform this calculation, such as the selection of suitable pseudo potentials, energy cutoff values, k-point grids and k-point paths along high symmetry points, are now performed automatically by the workchain. All that remains for the user to do is to simply define a structure, pass it to the workchain and sit back!"
   ]
  },
  {
   "cell_type": "markdown",
   "metadata": {},
   "source": [
    "*Disclaimer: the part of the workchain that will try to self-consistently converge the charge density, written specifically for this demonstration, is a stripped down version and as such has only limited capabilities in the handling of completed pw.x calculations that did not successfully converge. However, the workchain is written in such a way, providing function stubs where this error handling code could be written, that you can easily take this as a template and implement this functionality yourself.*"
   ]
  },
  {
   "cell_type": "markdown",
   "metadata": {},
   "source": [
    "Below, we have already imported four different crystal structures as an example. Note that the time to run the full workchain for each of these can be very different. The estimated run time is noted in a comment in the corresponding calculation cell. It is not necessary to run all of them."
   ]
  },
  {
   "cell_type": "code",
   "execution_count": null,
   "metadata": {
    "collapsed": true
   },
   "outputs": [],
   "source": [
    "# Loading the COD importer so we can directly import structure from COD id's\n",
    "CodImporter = DbImporterFactory('cod')\n",
    "importer = CodImporter()\n",
    "\n",
    "# Make sure here to define the correct codename that corresponds to the pw.x code installed on your machine of choice\n",
    "codename = 'qe-pw-6.2.1@localhost'\n",
    "code = Code.get_from_string(codename)"
   ]
  },
  {
   "cell_type": "markdown",
   "metadata": {},
   "source": [
    "#### Importing example crystal structures from COD to AiiDA structure objects"
   ]
  },
  {
   "cell_type": "code",
   "execution_count": null,
   "metadata": {
    "collapsed": true
   },
   "outputs": [],
   "source": [
    "# Al COD ID(9008460)\n",
    "structure_Al = importer.query(id='9008460')[0].get_aiida_structure()\n",
    "structure_Al.get_formula()"
   ]
  },
  {
   "cell_type": "code",
   "execution_count": null,
   "metadata": {
    "collapsed": true
   },
   "outputs": [],
   "source": [
    "# GaAs COD ID(9008845)\n",
    "structure_GaAs = importer.query(id='9008845')[0].get_aiida_structure()\n",
    "structure_GaAs.get_formula()"
   ]
  },
  {
   "cell_type": "code",
   "execution_count": null,
   "metadata": {
    "collapsed": true
   },
   "outputs": [],
   "source": [
    "# CaF2 COD ID(1000043)\n",
    "structure_CaF2 = importer.query(id='1000043')[0].get_aiida_structure()\n",
    "structure_CaF2.get_formula()"
   ]
  },
  {
   "cell_type": "code",
   "execution_count": null,
   "metadata": {
    "collapsed": true
   },
   "outputs": [],
   "source": [
    "# h-BN COD ID(9008997)\n",
    "structure_hBN = importer.query(id='9008997')[0].get_aiida_structure()\n",
    "structure_hBN.get_formula()"
   ]
  },
  {
   "cell_type": "markdown",
   "metadata": {},
   "source": [
    "#### Now we run the bandstructure workchain for the selected structures"
   ]
  },
  {
   "cell_type": "markdown",
   "metadata": {},
   "source": [
    "The bandstructure workchain follows the following protocol:\n",
    "* Determine the primitive cell of the input structure\n",
    "* Run a vc-relax to relax the structure\n",
    "* Refine the symmetry of the relaxed structure to ensure the primitive cell is used and run a self-consistent field calculation on it\n",
    "* Run a non self-consistent field band structure calculation along a path of high symmetry k-points determined by [seekpath](http://materialscloud.org/tools/seekpath)\n",
    "\n",
    "Numerical parameters for the default 'standard' protocol are determined as follows:\n",
    "* Suitable pseudo potentials and energy cutoffs are automatically chosen from the [SSSP library](http://materialscloud.org/sssp) (efficiency version)\n",
    "* K-point mesh is selected to have a minimum k-point density of 0.2 Å<sup>-1</sup>\n",
    "* A Marzari-Vanderbilt smearing of 0.02 Ry is used for the electronic occupations"
   ]
  },
  {
   "cell_type": "code",
   "execution_count": null,
   "metadata": {
    "collapsed": true
   },
   "outputs": [],
   "source": [
    "# This will take approximately 3 minutes on the tutorial AWS\n",
    "results_Al = run(\n",
    "    PwBandStructureWorkChain,\n",
    "    code=code,\n",
    "    pseudo_family=Str('SSSP'),\n",
    "    structure=structure_Al,\n",
    ")"
   ]
  },
  {
   "cell_type": "code",
   "execution_count": null,
   "metadata": {
    "collapsed": true
   },
   "outputs": [],
   "source": [
    "fermi_energy = results_Al['scf_parameters'].dict.fermi_energy\n",
    "results_Al['bandstructure'].show_mpl(y_origin=fermi_energy, plot_zero_axis=True)\n",
    "\n",
    "print \"\"\"Final crystal symmetry: {spacegroup_international} (number {spacegroup_number})\n",
    "Extended Bravais lattice symbol: {bravais_lattice_extended}\n",
    "The system has inversion symmetry: {has_inversion_symmetry}\"\"\".format(\n",
    "    **results_Al['final_seekpath_parameters'].get_dict())"
   ]
  },
  {
   "cell_type": "code",
   "execution_count": null,
   "metadata": {
    "collapsed": true
   },
   "outputs": [],
   "source": [
    "# This will take approximately 5 minutes on the tutorial AWS\n",
    "results_GaAs = run(\n",
    "    PwBandStructureWorkChain,\n",
    "    code=code,\n",
    "    pseudo_family=Str('SSSP'),\n",
    "    structure=structure_GaAs,\n",
    ")"
   ]
  },
  {
   "cell_type": "code",
   "execution_count": null,
   "metadata": {
    "collapsed": true
   },
   "outputs": [],
   "source": [
    "fermi_energy = results_GaAs['scf_parameters'].dict.fermi_energy\n",
    "results_GaAs['bandstructure'].show_mpl(y_origin=fermi_energy, plot_zero_axis=True)\n",
    "\n",
    "print \"\"\"Final crystal symmetry: {spacegroup_international} (number {spacegroup_number})\n",
    "Extended Bravais lattice symbol: {bravais_lattice_extended}\n",
    "The system has inversion symmetry: {has_inversion_symmetry}\"\"\".format(\n",
    "    **results_GaAs['final_seekpath_parameters'].get_dict())"
   ]
  },
  {
   "cell_type": "code",
   "execution_count": null,
   "metadata": {
    "collapsed": true
   },
   "outputs": [],
   "source": [
    "# This will take approximately 9 minutes on the tutorial AWS\n",
    "results_CaF2 = run(\n",
    "    PwBandStructureWorkChain,\n",
    "    code=code,\n",
    "    pseudo_family=Str('SSSP'),\n",
    "    structure=structure_CaF2,\n",
    ")"
   ]
  },
  {
   "cell_type": "code",
   "execution_count": null,
   "metadata": {
    "collapsed": true
   },
   "outputs": [],
   "source": [
    "fermi_energy = results_CaF2['scf_parameters'].dict.fermi_energy\n",
    "results_CaF2['bandstructure'].show_mpl(y_origin=fermi_energy, plot_zero_axis=True)\n",
    "\n",
    "print \"\"\"Final crystal symmetry: {spacegroup_international} (number {spacegroup_number})\n",
    "Extended Bravais lattice symbol: {bravais_lattice_extended}\n",
    "The system has inversion symmetry: {has_inversion_symmetry}\"\"\".format(\n",
    "    **results_CaF2['final_seekpath_parameters'].get_dict())"
   ]
  },
  {
   "cell_type": "code",
   "execution_count": null,
   "metadata": {
    "collapsed": true
   },
   "outputs": [],
   "source": [
    "# This will take approximately 28 minutes on the tutorial AWS\n",
    "results_hBN = run(\n",
    "    PwBandStructureWorkChain,\n",
    "    code=code,\n",
    "    pseudo_family=Str('SSSP'),\n",
    "    structure=structure_hBN,\n",
    ")"
   ]
  },
  {
   "cell_type": "code",
   "execution_count": null,
   "metadata": {
    "collapsed": true
   },
   "outputs": [],
   "source": [
    "fermi_energy = results_hBN['scf_parameters'].dict.fermi_energy\n",
    "results_hBN['bandstructure'].show_mpl(y_origin=fermi_energy, plot_zero_axis=True)\n",
    "\n",
    "print \"\"\"Final crystal symmetry: {spacegroup_international} (number {spacegroup_number})\n",
    "Extended Bravais lattice symbol: {bravais_lattice_extended}\n",
    "The system has inversion symmetry: {has_inversion_symmetry}\"\"\".format(\n",
    "    **results_hBN['final_seekpath_parameters'].get_dict())"
   ]
  },
  {
   "cell_type": "code",
   "execution_count": null,
   "metadata": {
    "collapsed": true
   },
   "outputs": [],
   "source": []
  }
 ],
 "metadata": {
  "kernelspec": {
   "display_name": "Python 2",
   "language": "python",
   "name": "python2"
  },
  "language_info": {
   "codemirror_mode": {
    "name": "ipython",
    "version": 2
   },
   "file_extension": ".py",
   "mimetype": "text/x-python",
   "name": "python",
   "nbconvert_exporter": "python",
   "pygments_lexer": "ipython2",
   "version": "2.7.6"
  }
 },
 "nbformat": 4,
 "nbformat_minor": 2
}
