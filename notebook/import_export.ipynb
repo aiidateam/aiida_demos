{
 "cells": [
  {
   "cell_type": "code",
   "execution_count": 94,
   "metadata": {},
   "outputs": [],
   "source": [
    "import os\n",
    "\n",
    "from aiida import load_dbenv, is_dbenv_loaded\n",
    "if not is_dbenv_loaded():\n",
    "    load_dbenv()\n",
    "from aiida.orm.importexport import export\n",
    "from aiida.orm import load_node\n",
    "from aiida.utils.ascii_vis import draw_children, draw_parents\n",
    "from aiida.common.links import LinkType"
   ]
  },
  {
   "cell_type": "code",
   "execution_count": 95,
   "metadata": {},
   "outputs": [
    {
     "name": "stdout",
     "output_type": "stream",
     "text": [
      "STARTING EXPORT...\n",
      "STORING DATABASE ENTRIES...\n",
      "Exporting a total of 3 db entries, of which 1 nodes.\n",
      "STORING NODE ATTRIBUTES...\n",
      "STORING NODE LINKS...\n",
      "STORING GROUP ELEMENTS...\n",
      "STORING DATA...\n",
      "STORING FILES...\n",
      "COMPRESSING...\n",
      "Exported in  0.054s, compressed in  0.005s, total:  0.059s.\n",
      "DONE.\n"
     ]
    }
   ],
   "source": [
    "export([load_node(1)._dbnode], outfile=os.path.expanduser('~/tmp/asum-export.tar.gz'), overwrite=True)"
   ]
  },
  {
   "cell_type": "code",
   "execution_count": 96,
   "metadata": {},
   "outputs": [
    {
     "name": "stdout",
     "output_type": "stream",
     "text": [
      "\n",
      "                                             /-Code [15]\n",
      "-- /ParameterData [28]MultiplyCalculation [25]\n",
      "                                             \\-ParameterData [24]\n"
     ]
    }
   ],
   "source": [
    "draw_parents(load_node(28), dist=5, follow_links_of_type=LinkType.CREATE)"
   ]
  },
  {
   "cell_type": "code",
   "execution_count": 97,
   "metadata": {},
   "outputs": [
    {
     "name": "stdout",
     "output_type": "stream",
     "text": [
      "STARTING EXPORT...\n",
      "STORING DATABASE ENTRIES...\n",
      "Exporting a total of 8 db entries, of which 6 nodes.\n",
      "STORING NODE ATTRIBUTES...\n",
      "STORING NODE LINKS...\n",
      "STORING GROUP ELEMENTS...\n",
      "STORING DATA...\n",
      "STORING FILES...\n",
      "COMPRESSING...\n",
      "Exported in   0.09s, compressed in  0.017s, total:   0.11s.\n",
      "DONE.\n"
     ]
    }
   ],
   "source": [
    "export(what=[load_node(28)._dbnode,], also_parents=True, outfile=os.path.expanduser('~/tmp/mul-export.tar.gz'), overwrite=True)"
   ]
  },
  {
   "cell_type": "code",
   "execution_count": 98,
   "metadata": {},
   "outputs": [
    {
     "name": "stdout",
     "output_type": "stream",
     "text": [
      "\u001b[0m\u001b[01;34maiida_core\u001b[0m/         \u001b[01;31mmul-export.tar.gz\u001b[0m    \u001b[01;34mnpm-16137-E93wQPBg\u001b[0m/\r\n",
      "\u001b[01;31masum-export.tar.gz\u001b[0m  \u001b[01;34mnpm-15836-gSrhCJZT\u001b[0m/  \u001b[01;34mnpm-16616-WvhIlSKL\u001b[0m/\r\n",
      "\u001b[01;31mexport_test.tar.gz\u001b[0m  \u001b[01;34mnpm-16096-A_6gPxUD\u001b[0m/  \u001b[01;34mnpm-16651-3aAJ6I9h\u001b[0m/\r\n"
     ]
    }
   ],
   "source": [
    "ls ~/tmp"
   ]
  },
  {
   "cell_type": "code",
   "execution_count": null,
   "metadata": {
    "collapsed": true
   },
   "outputs": [],
   "source": []
  }
 ],
 "metadata": {
  "kernelspec": {
   "display_name": "Python 2",
   "language": "python",
   "name": "python2"
  },
  "language_info": {
   "codemirror_mode": {
    "name": "ipython",
    "version": 2
   },
   "file_extension": ".py",
   "mimetype": "text/x-python",
   "name": "python",
   "nbconvert_exporter": "python",
   "pygments_lexer": "ipython2",
   "version": "2.7.13"
  }
 },
 "nbformat": 4,
 "nbformat_minor": 1
}
