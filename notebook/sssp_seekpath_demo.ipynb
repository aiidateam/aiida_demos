{
 "cells": [
  {
   "cell_type": "markdown",
   "metadata": {},
   "source": [
    "# AiiDA mini-demo\n",
    "## Automatic calculations with pseudos from SSSP and k-points from SeeK-path"
   ]
  },
  {
   "cell_type": "markdown",
   "metadata": {},
   "source": [
    "Some initial imports"
   ]
  },
  {
   "cell_type": "code",
   "execution_count": 1,
   "metadata": {
    "collapsed": true
   },
   "outputs": [],
   "source": [
    "from aiida import load_dbenv, is_dbenv_loaded\n",
    "if not is_dbenv_loaded():\n",
    "    load_dbenv()\n",
    "from aiida.orm import DataFactory, CalculationFactory, Code\n",
    "ParameterData=DataFactory('parameter')\n",
    "import os, time"
   ]
  },
  {
   "cell_type": "markdown",
   "metadata": {},
   "source": [
    "Load the importer from the COD database, and get a silicon supercell (take the first query result)"
   ]
  },
  {
   "cell_type": "code",
   "execution_count": 2,
   "metadata": {
    "collapsed": true
   },
   "outputs": [],
   "source": [
    "from aiida.tools.dbimporters import DbImporterFactory\n",
    "CodImporter = DbImporterFactory('cod')\n",
    "importer = CodImporter()"
   ]
  },
  {
   "cell_type": "code",
   "execution_count": 3,
   "metadata": {
    "collapsed": true
   },
   "outputs": [],
   "source": [
    "all_si_results = list(importer.query(spacegroup=\"F d -3 m :1\", formula=\"Si\"))\n",
    "cod_result = all_si_results[0] # e.g.: ID 9008565"
   ]
  },
  {
   "cell_type": "markdown",
   "metadata": {},
   "source": [
    "Convert it to an explicit AiiDA structure, show cell and coordinates"
   ]
  },
  {
   "cell_type": "code",
   "execution_count": 4,
   "metadata": {
    "collapsed": true
   },
   "outputs": [],
   "source": [
    "structure = cod_result.get_aiida_structure()"
   ]
  },
  {
   "cell_type": "code",
   "execution_count": 6,
   "metadata": {},
   "outputs": [
    {
     "name": "stdout",
     "output_type": "stream",
     "text": [
      "CRYSTAL\n",
      "PRIMVEC 1\n",
      "      5.4307000000       0.0000000000       0.0000000000\n",
      "      0.0000000000       5.4307000000       0.0000000000\n",
      "      0.0000000000       0.0000000000       5.4307000000\n",
      "PRIMCOORD 1\n",
      "8 1\n",
      "14       0.0000000000       0.0000000000       0.0000000000\n",
      "14       0.0000000000       2.7153500000       2.7153500000\n",
      "14       2.7153500000       0.0000000000       2.7153500000\n",
      "14       2.7153500000       2.7153500000       0.0000000000\n",
      "14       4.0730250000       4.0730250000       1.3576750000\n",
      "14       4.0730250000       1.3576750000       4.0730250000\n",
      "14       1.3576750000       4.0730250000       4.0730250000\n",
      "14       1.3576750000       1.3576750000       1.3576750000\n",
      "\n"
     ]
    }
   ],
   "source": [
    "print structure._exportstring('xsf')"
   ]
  },
  {
   "cell_type": "markdown",
   "metadata": {},
   "source": [
    "### Get primitive cell from SeeK-path (also standardized according to crystallographic conventions), and show some information"
   ]
  },
  {
   "cell_type": "code",
   "execution_count": 8,
   "metadata": {
    "collapsed": true
   },
   "outputs": [],
   "source": [
    "from seekpath.aiidawrappers import get_path, get_explicit_k_path\n",
    "seekpath_info = get_path(structure)\n",
    "primitive_structure = seekpath_info['primitive_structure']\n",
    "explicit_path = get_explicit_k_path(structure)"
   ]
  },
  {
   "cell_type": "code",
   "execution_count": 9,
   "metadata": {},
   "outputs": [
    {
     "name": "stdout",
     "output_type": "stream",
     "text": [
      "Bravais lattice: cF2\n",
      "Spacegroup: Fd-3m\n",
      "Input cell had a volume 4x w.r.t. the primitive cell\n",
      "Suggested path:  GAMMA-X, X-U, K-GAMMA, GAMMA-L, L-W, W-X\n",
      "K-point coordinates (scaled units):\n",
      "K             0.3750000000       0.3750000000       0.7500000000\n",
      "L             0.5000000000       0.5000000000       0.5000000000\n",
      "U             0.6250000000       0.2500000000       0.6250000000\n",
      "W             0.5000000000       0.2500000000       0.7500000000\n",
      "X             0.5000000000       0.0000000000       0.5000000000\n",
      "GAMMA         0.0000000000       0.0000000000       0.0000000000\n",
      "W_2           0.7500000000       0.2500000000       0.5000000000\n"
     ]
    }
   ],
   "source": [
    "print \"Bravais lattice: {}\\nSpacegroup: {}\\nInput cell had a volume {}x w.r.t. the primitive cell\".format(\n",
    "    seekpath_info['bravais_lattice_extended'], \n",
    "    seekpath_info['spacegroup_international'], \n",
    "    int(seekpath_info['volume_original_wrt_prim']))\n",
    "print \"Suggested path: \",\n",
    "print \", \".join(\"{}-{}\".format(p1, p2) for p1, p2 in seekpath_info['path'])\n",
    "print \"K-point coordinates (scaled units):\"\n",
    "for label, coords in seekpath_info['point_coords'].iteritems():\n",
    "    print \"{:7s} {:18.10f} {:18.10f} {:18.10f}\".format(label, *coords)"
   ]
  },
  {
   "cell_type": "markdown",
   "metadata": {},
   "source": [
    "<img src=\"bz-cF2.png\" alt=\"Brillouin Zone for cF2\" style=\"width: 500px;\"/>"
   ]
  },
  {
   "cell_type": "markdown",
   "metadata": {},
   "source": [
    "### Get suggested cutoff from SSSP"
   ]
  },
  {
   "cell_type": "code",
   "execution_count": 10,
   "metadata": {
    "collapsed": true
   },
   "outputs": [],
   "source": [
    "SSSP_eff_cutoffs = {l.split()[0]: int(l.split()[1]) \n",
    "                    for l in open(os.path.join(os.path.dirname(__name__),'SSSP_acc_cutoffs.txt')).readlines() \n",
    "                    if l.split()[1] != '??'}"
   ]
  },
  {
   "cell_type": "code",
   "execution_count": 11,
   "metadata": {
    "scrolled": true
   },
   "outputs": [
    {
     "name": "stdout",
     "output_type": "stream",
     "text": [
      "Ag:  35 Ry\n",
      "Al:  30 Ry\n",
      "Ar: 120 Ry\n",
      "As:  30 Ry\n",
      "Au:  45 Ry\n",
      "B :  40 Ry\n",
      "Ba:  40 Ry\n",
      "Be:  55 Ry\n",
      "Bi:  35 Ry\n",
      "Br:  30 Ry\n",
      "   ...\n"
     ]
    }
   ],
   "source": [
    "for elem in sorted(SSSP_eff_cutoffs)[:10]:\n",
    "    print \"{:2s}: {:3.0f} Ry\".format(elem, SSSP_eff_cutoffs[elem])\n",
    "print \"   ...\""
   ]
  },
  {
   "cell_type": "markdown",
   "metadata": {},
   "source": [
    "Pick the suggested cutoff for this structure, as the largest cutoff for all species in the system"
   ]
  },
  {
   "cell_type": "code",
   "execution_count": 12,
   "metadata": {},
   "outputs": [
    {
     "name": "stdout",
     "output_type": "stream",
     "text": [
      "Suggested cutoff: 30.0 Ry\n"
     ]
    }
   ],
   "source": [
    "SSSP_cutoff = float(max(SSSP_eff_cutoffs[sym] for sym in structure.get_symbols_set()))\n",
    "print \"Suggested cutoff: {} Ry\".format(SSSP_cutoff)"
   ]
  },
  {
   "cell_type": "markdown",
   "metadata": {},
   "source": [
    "### Pick a suitable regular mesh from a given density; here: 0.4 Angstrom<sup>-1</sup>"
   ]
  },
  {
   "cell_type": "code",
   "execution_count": 13,
   "metadata": {
    "collapsed": true
   },
   "outputs": [],
   "source": [
    "KpointsData = DataFactory('array.kpoints')\n",
    "kpts = KpointsData()\n",
    "kpts.set_cell_from_structure(primitive_structure)\n",
    "kpts.set_kpoints_mesh_from_density(distance=0.4, offset=[0.,0.,0.])"
   ]
  },
  {
   "cell_type": "code",
   "execution_count": 14,
   "metadata": {},
   "outputs": [
    {
     "name": "stdout",
     "output_type": "stream",
     "text": [
      "((6, 6, 6), (0.0, 0.0, 0.0))\n"
     ]
    }
   ],
   "source": [
    "print kpts.get_kpoints_mesh()"
   ]
  },
  {
   "cell_type": "markdown",
   "metadata": {},
   "source": [
    "### Generate a Quantum ESPRESSO relaxation calculation"
   ]
  },
  {
   "cell_type": "code",
   "execution_count": 15,
   "metadata": {
    "collapsed": true
   },
   "outputs": [],
   "source": [
    "calc = Code.get_from_string('pw-svn@pc7').new_calc()\n",
    "calc.set_resources({'num_machines': 1})"
   ]
  },
  {
   "cell_type": "code",
   "execution_count": 128,
   "metadata": {
    "collapsed": true
   },
   "outputs": [],
   "source": [
    "calc.use_structure(primitive_structure)\n",
    "calc.use_kpoints(kpts)\n",
    "calc.use_pseudos_from_family(\"SSSP\")"
   ]
  },
  {
   "cell_type": "code",
   "execution_count": 130,
   "metadata": {
    "collapsed": true
   },
   "outputs": [],
   "source": [
    "calc.use_parameters(ParameterData(dict={\n",
    "    'CONTROL': {\n",
    "        'calculation': 'relax',\n",
    "        'restart_mode': 'from_scratch',\n",
    "    },\n",
    "    'SYSTEM': {\n",
    "        'ecutwfc': SSSP_cutoff,\n",
    "        'ecutrho': 8.*SSSP_cutoff,\n",
    "    },\n",
    "    'ELECTRONS': {\n",
    "        'conv_thr': 1.e-10,\n",
    "    }}))"
   ]
  },
  {
   "cell_type": "code",
   "execution_count": 16,
   "metadata": {},
   "outputs": [
    {
     "ename": "ModificationNotAllowed",
     "evalue": "Cannot set the calculation state before storing",
     "output_type": "error",
     "traceback": [
      "\u001b[0;31m---------------------------------------------------------------------------\u001b[0m",
      "\u001b[0;31mModificationNotAllowed\u001b[0m                    Traceback (most recent call last)",
      "\u001b[0;32m<ipython-input-16-6685c76893c6>\u001b[0m in \u001b[0;36m<module>\u001b[0;34m()\u001b[0m\n\u001b[0;32m----> 1\u001b[0;31m \u001b[0mcalc\u001b[0m\u001b[0;34m.\u001b[0m\u001b[0msubmit\u001b[0m\u001b[0;34m(\u001b[0m\u001b[0;34m)\u001b[0m\u001b[0;34m\u001b[0m\u001b[0m\n\u001b[0m",
      "\u001b[0;32m/Users/pizzi/git/materialscloud/aiida_core/aiida/orm/implementation/general/calculation/job/__init__.pyc\u001b[0m in \u001b[0;36msubmit\u001b[0;34m(self)\u001b[0m\n\u001b[1;32m   1222\u001b[0m                                    .format(calc_states.NEW, current_state))\n\u001b[1;32m   1223\u001b[0m \u001b[0;34m\u001b[0m\u001b[0m\n\u001b[0;32m-> 1224\u001b[0;31m         \u001b[0mself\u001b[0m\u001b[0;34m.\u001b[0m\u001b[0m_set_state\u001b[0m\u001b[0;34m(\u001b[0m\u001b[0mcalc_states\u001b[0m\u001b[0;34m.\u001b[0m\u001b[0mTOSUBMIT\u001b[0m\u001b[0;34m)\u001b[0m\u001b[0;34m\u001b[0m\u001b[0m\n\u001b[0m\u001b[1;32m   1225\u001b[0m \u001b[0;34m\u001b[0m\u001b[0m\n\u001b[1;32m   1226\u001b[0m     \u001b[0;32mdef\u001b[0m \u001b[0mset_parser_name\u001b[0m\u001b[0;34m(\u001b[0m\u001b[0mself\u001b[0m\u001b[0;34m,\u001b[0m \u001b[0mparser\u001b[0m\u001b[0;34m)\u001b[0m\u001b[0;34m:\u001b[0m\u001b[0;34m\u001b[0m\u001b[0m\n",
      "\u001b[0;32m/Users/pizzi/git/materialscloud/aiida_core/aiida/orm/implementation/django/calculation/job/__init__.pyc\u001b[0m in \u001b[0;36m_set_state\u001b[0;34m(self, state)\u001b[0m\n\u001b[1;32m     47\u001b[0m \u001b[0;34m\u001b[0m\u001b[0m\n\u001b[1;32m     48\u001b[0m         \u001b[0;32mif\u001b[0m \u001b[0;32mnot\u001b[0m \u001b[0mself\u001b[0m\u001b[0;34m.\u001b[0m\u001b[0mis_stored\u001b[0m\u001b[0;34m:\u001b[0m\u001b[0;34m\u001b[0m\u001b[0m\n\u001b[0;32m---> 49\u001b[0;31m             raise ModificationNotAllowed(\"Cannot set the calculation state \"\n\u001b[0m\u001b[1;32m     50\u001b[0m                                          \"before storing\")\n\u001b[1;32m     51\u001b[0m \u001b[0;34m\u001b[0m\u001b[0m\n",
      "\u001b[0;31mModificationNotAllowed\u001b[0m: Cannot set the calculation state before storing"
     ]
    }
   ],
   "source": [
    "calc.submit()"
   ]
  },
  {
   "cell_type": "code",
   "execution_count": 133,
   "metadata": {},
   "outputs": [
    {
     "data": {
      "text/plain": [
       "u'NEW'"
      ]
     },
     "execution_count": 133,
     "metadata": {},
     "output_type": "execute_result"
    }
   ],
   "source": [
    "while calc.get_state() != 'FINISHED':\n",
    "    print \".\",\n",
    "    time.sleep(5)\n",
    "    "
   ]
  },
  {
   "cell_type": "code",
   "execution_count": 140,
   "metadata": {},
   "outputs": [
    {
     "ename": "InputValidationError",
     "evalue": "Calculation to be restarted must be in the FINISHED state. Otherwise, use the force_restart flag",
     "output_type": "error",
     "traceback": [
      "\u001b[0;31m---------------------------------------------------------------------------\u001b[0m",
      "\u001b[0;31mInputValidationError\u001b[0m                      Traceback (most recent call last)",
      "\u001b[0;32m<ipython-input-140-a730024ab9f4>\u001b[0m in \u001b[0;36m<module>\u001b[0;34m()\u001b[0m\n\u001b[0;32m----> 1\u001b[0;31m \u001b[0mbandscalc\u001b[0m \u001b[0;34m=\u001b[0m \u001b[0mcalc\u001b[0m\u001b[0;34m.\u001b[0m\u001b[0mcreate_restart\u001b[0m\u001b[0;34m(\u001b[0m\u001b[0muse_output_structure\u001b[0m\u001b[0;34m=\u001b[0m\u001b[0mTrue\u001b[0m\u001b[0;34m)\u001b[0m\u001b[0;34m\u001b[0m\u001b[0m\n\u001b[0m\u001b[1;32m      2\u001b[0m \u001b[0mbandscalc\u001b[0m \u001b[0;34m=\u001b[0m \u001b[0mCode\u001b[0m\u001b[0;34m.\u001b[0m\u001b[0mget_from_string\u001b[0m\u001b[0;34m(\u001b[0m\u001b[0;34m'pw-svn@pc7'\u001b[0m\u001b[0;34m)\u001b[0m\u001b[0;34m.\u001b[0m\u001b[0mnew_calc\u001b[0m\u001b[0;34m(\u001b[0m\u001b[0;34m)\u001b[0m\u001b[0;34m\u001b[0m\u001b[0m\n\u001b[1;32m      3\u001b[0m \u001b[0mbandscalc\u001b[0m\u001b[0;34m.\u001b[0m\u001b[0mset_resources\u001b[0m\u001b[0;34m(\u001b[0m\u001b[0;34m{\u001b[0m\u001b[0;34m'num_machines'\u001b[0m\u001b[0;34m:\u001b[0m \u001b[0;36m1\u001b[0m\u001b[0;34m}\u001b[0m\u001b[0;34m)\u001b[0m\u001b[0;34m\u001b[0m\u001b[0m\n\u001b[1;32m      4\u001b[0m \u001b[0mbandscalc\u001b[0m\u001b[0;34m.\u001b[0m\u001b[0muse_kpoints\u001b[0m\u001b[0;34m(\u001b[0m\u001b[0mexplicit_path\u001b[0m\u001b[0;34m[\u001b[0m\u001b[0;34m'explicit_kpoints'\u001b[0m\u001b[0;34m]\u001b[0m\u001b[0;34m)\u001b[0m\u001b[0;34m\u001b[0m\u001b[0m\n\u001b[1;32m      5\u001b[0m \u001b[0;34m\u001b[0m\u001b[0m\n",
      "\u001b[0;32m/Users/pizzi/git/materialscloud/aiida_core/aiida/orm/calculation/job/quantumespresso/__init__.pyc\u001b[0m in \u001b[0;36mcreate_restart\u001b[0;34m(self, force_restart, parent_folder_symlink, use_output_structure, restart_from_beginning)\u001b[0m\n\u001b[1;32m    865\u001b[0m                     \u001b[0;34m\"Calculation to be restarted must be \"\u001b[0m\u001b[0;34m\u001b[0m\u001b[0m\n\u001b[1;32m    866\u001b[0m                     \u001b[0;34m\"in the {} state. Otherwise, use the force_restart \"\u001b[0m\u001b[0;34m\u001b[0m\u001b[0m\n\u001b[0;32m--> 867\u001b[0;31m                     \"flag\".format(calc_states.FINISHED))\n\u001b[0m\u001b[1;32m    868\u001b[0m \u001b[0;34m\u001b[0m\u001b[0m\n\u001b[1;32m    869\u001b[0m         \u001b[0;32mif\u001b[0m \u001b[0mparent_folder_symlink\u001b[0m \u001b[0;32mis\u001b[0m \u001b[0mNone\u001b[0m\u001b[0;34m:\u001b[0m\u001b[0;34m\u001b[0m\u001b[0m\n",
      "\u001b[0;31mInputValidationError\u001b[0m: Calculation to be restarted must be in the FINISHED state. Otherwise, use the force_restart flag"
     ]
    }
   ],
   "source": [
    "bandscalc = calc.create_restart(use_output_structure=True)\n",
    "bandscalc = Code.get_from_string('pw-svn@pc7').new_calc()\n",
    "bandscalc.set_resources({'num_machines': 1})\n",
    "bandscalc.use_kpoints(explicit_path['explicit_kpoints'])\n",
    "\n",
    "bands_parameters = calc.inp.parameters.get_dict()\n",
    "bands_parameters['CONTROL']['calculation'] = 'bands'\n",
    "bandscalc.use_parameters(ParameterData(dict=bands_parameters))\n",
    "\n",
    "bandscalc.use_settings(ParameterData(dict={\n",
    "    'also_bands': True\n",
    "}))"
   ]
  },
  {
   "cell_type": "code",
   "execution_count": 141,
   "metadata": {},
   "outputs": [
    {
     "ename": "NameError",
     "evalue": "name 'bandscalc' is not defined",
     "output_type": "error",
     "traceback": [
      "\u001b[0;31m---------------------------------------------------------------------------\u001b[0m",
      "\u001b[0;31mNameError\u001b[0m                                 Traceback (most recent call last)",
      "\u001b[0;32m<ipython-input-141-cdaab39b0791>\u001b[0m in \u001b[0;36m<module>\u001b[0;34m()\u001b[0m\n\u001b[0;32m----> 1\u001b[0;31m \u001b[0mbandscalc\u001b[0m\u001b[0;34m.\u001b[0m\u001b[0msubmit_test\u001b[0m\u001b[0;34m(\u001b[0m\u001b[0;34m)\u001b[0m\u001b[0;34m\u001b[0m\u001b[0m\n\u001b[0m",
      "\u001b[0;31mNameError\u001b[0m: name 'bandscalc' is not defined"
     ]
    }
   ],
   "source": [
    "bandscalc.submit()"
   ]
  },
  {
   "cell_type": "code",
   "execution_count": 142,
   "metadata": {},
   "outputs": [
    {
     "ename": "NameError",
     "evalue": "name 'bandscalc' is not defined",
     "output_type": "error",
     "traceback": [
      "\u001b[0;31m---------------------------------------------------------------------------\u001b[0m",
      "\u001b[0;31mNameError\u001b[0m                                 Traceback (most recent call last)",
      "\u001b[0;32m<ipython-input-142-588e8d77dca4>\u001b[0m in \u001b[0;36m<module>\u001b[0;34m()\u001b[0m\n\u001b[0;32m----> 1\u001b[0;31m \u001b[0mbandscalc\u001b[0m\u001b[0;34m.\u001b[0m\u001b[0mget_state\u001b[0m\u001b[0;34m(\u001b[0m\u001b[0;34m)\u001b[0m\u001b[0;34m\u001b[0m\u001b[0m\n\u001b[0m",
      "\u001b[0;31mNameError\u001b[0m: name 'bandscalc' is not defined"
     ]
    }
   ],
   "source": [
    "while bandscalc.get_state() != 'FINISHED':\n",
    "    print \".\",\n",
    "    time.sleep(5)"
   ]
  },
  {
   "cell_type": "code",
   "execution_count": 143,
   "metadata": {},
   "outputs": [
    {
     "ename": "NameError",
     "evalue": "name 'bandscalc' is not defined",
     "output_type": "error",
     "traceback": [
      "\u001b[0;31m---------------------------------------------------------------------------\u001b[0m",
      "\u001b[0;31mNameError\u001b[0m                                 Traceback (most recent call last)",
      "\u001b[0;32m<ipython-input-143-d27f0db3b1eb>\u001b[0m in \u001b[0;36m<module>\u001b[0;34m()\u001b[0m\n\u001b[0;32m----> 1\u001b[0;31m \u001b[0mbandscalc\u001b[0m\u001b[0;34m.\u001b[0m\u001b[0mout\u001b[0m\u001b[0;34m.\u001b[0m\u001b[0mbands\u001b[0m\u001b[0;34m.\u001b[0m\u001b[0mexport\u001b[0m\u001b[0;34m(\u001b[0m\u001b[0;34m'test.agr'\u001b[0m\u001b[0;34m)\u001b[0m\u001b[0;34m\u001b[0m\u001b[0m\n\u001b[0m",
      "\u001b[0;31mNameError\u001b[0m: name 'bandscalc' is not defined"
     ]
    }
   ],
   "source": [
    "bandscalc.out.bands.export('test.agr')"
   ]
  },
  {
   "cell_type": "code",
   "execution_count": null,
   "metadata": {
    "collapsed": true
   },
   "outputs": [],
   "source": []
  }
 ],
 "metadata": {
  "kernelspec": {
   "display_name": "Python 2",
   "language": "python",
   "name": "python2"
  },
  "language_info": {
   "codemirror_mode": {
    "name": "ipython",
    "version": 2
   },
   "file_extension": ".py",
   "mimetype": "text/x-python",
   "name": "python",
   "nbconvert_exporter": "python",
   "pygments_lexer": "ipython2",
   "version": "2.7.10"
  }
 },
 "nbformat": 4,
 "nbformat_minor": 2
}
