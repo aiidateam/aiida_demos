{
 "cells": [
  {
   "cell_type": "markdown",
   "metadata": {},
   "source": [
    "# Submitting calculations\n",
    "#### Create a structure, kpoints, and input parameters and submit a Quantum ESPRESSO (PW) calculation\n",
    "Time: 3 mins"
   ]
  },
  {
   "cell_type": "code",
   "execution_count": null,
   "metadata": {
    "hide_input": false
   },
   "outputs": [],
   "source": [
    "from aiida.backends.utils import load_dbenv, is_dbenv_loaded\n",
    "if not is_dbenv_loaded():\n",
    "    load_dbenv()\n",
    "\n",
    "from aiida.orm.utils import load_node, CalculationFactory\n",
    "from aiida.work.run import run\n",
    "from aiida.orm.code import Code\n",
    "from aiida.orm.data.base import Bool, Str\n",
    "from aiida.orm.data.parameter import ParameterData\n",
    "from aiida.orm.data.array.kpoints import KpointsData\n",
    "from aiida.orm.data.structure import StructureData\n",
    "from aiida_quantumespresso.utils.pseudopotential import validate_and_prepare_pseudos_inputs\n",
    "from aiida_quantumespresso.utils.resources import get_default_options\n",
    "from ase.lattice.spacegroup import crystal\n",
    "\n",
    "import nglview\n",
    "#import warnings\n",
    "#warnings.filterwarnings('ignore')"
   ]
  },
  {
   "cell_type": "markdown",
   "metadata": {},
   "source": [
    "#### Create a diamond cubic crystal structure"
   ]
  },
  {
   "cell_type": "code",
   "execution_count": null,
   "metadata": {},
   "outputs": [],
   "source": [
    "# Define a structure, employing the Atomic Structure Environment library\n",
    "alat = 3.568\n",
    "ase_definition = crystal('C', [(0,0,0)], spacegroup=227, cellpar=[alat, alat, alat, 90, 90, 90], primitive_cell=True)*2\n",
    "structure = StructureData(ase=ase_definition)\n",
    "structure.store()"
   ]
  },
  {
   "cell_type": "markdown",
   "metadata": {},
   "source": [
    "#### Show the already stored structure"
   ]
  },
  {
   "cell_type": "code",
   "execution_count": null,
   "metadata": {},
   "outputs": [],
   "source": [
    "view = nglview.show_ase(structure.get_ase())\n",
    "view"
   ]
  },
  {
   "cell_type": "markdown",
   "metadata": {},
   "source": [
    "#### Create the _k_-points mesh"
   ]
  },
  {
   "cell_type": "code",
   "execution_count": null,
   "metadata": {},
   "outputs": [],
   "source": [
    "# Define the k-points mesh\n",
    "kpoints = KpointsData()\n",
    "kpoints_mesh = [1, 1, 1]\n",
    "kpoints.set_kpoints_mesh(kpoints_mesh)\n",
    "kpoints.store()"
   ]
  },
  {
   "cell_type": "markdown",
   "metadata": {},
   "source": [
    "#### List existing pseudopotential families"
   ]
  },
  {
   "cell_type": "code",
   "execution_count": null,
   "metadata": {},
   "outputs": [],
   "source": [
    "!verdi data upf listfamilies"
   ]
  },
  {
   "cell_type": "markdown",
   "metadata": {},
   "source": [
    "#### Define the calculation input parameters"
   ]
  },
  {
   "cell_type": "code",
   "execution_count": null,
   "metadata": {},
   "outputs": [],
   "source": [
    "# Define the pseudo potential family and input parameters for pw.x\n",
    "pseudo_family = 'SSSP'\n",
    "parameters = {\n",
    "    'CONTROL': {\n",
    "        \"calculation\": \"scf\",\n",
    "        'tstress': True,\n",
    "    },\n",
    "    'SYSTEM': {\n",
    "        'ecutwfc': 40.,\n",
    "        'ecutrho': 320.,\n",
    "    },\n",
    "    'ELECTRONS': {\n",
    "        'conv_thr': 1.e-10,\n",
    "    }\n",
    "}"
   ]
  },
  {
   "cell_type": "markdown",
   "metadata": {},
   "source": [
    "#### See the available codes and select one of them"
   ]
  },
  {
   "cell_type": "code",
   "execution_count": null,
   "metadata": {},
   "outputs": [],
   "source": [
    "!verdi code list"
   ]
  },
  {
   "cell_type": "markdown",
   "metadata": {},
   "source": [
    "#### Get the Code instance from the name"
   ]
  },
  {
   "cell_type": "code",
   "execution_count": null,
   "metadata": {},
   "outputs": [],
   "source": [
    "codename = 'pw-5.1@localhost'\n",
    "code = Code.get_from_string(codename)"
   ]
  },
  {
   "cell_type": "markdown",
   "metadata": {},
   "source": [
    "#### Run a PwCalculation with the inputs we define"
   ]
  },
  {
   "cell_type": "code",
   "execution_count": null,
   "metadata": {},
   "outputs": [],
   "source": [
    "PwCalculation = CalculationFactory('quantumespresso.pw')\n",
    "\n",
    "inputs = {\n",
    "    'code': code,\n",
    "    'structure': structure,\n",
    "    'kpoints': kpoints,\n",
    "    'parameters': ParameterData(dict=parameters),\n",
    "    'pseudo': validate_and_prepare_pseudos_inputs(structure, pseudo_family=Str('SSSP')),\n",
    "    '_options': get_default_options()\n",
    "}\n",
    "\n",
    "print('Running a {} pw.x calculation... '.format('scf'))\n",
    "results, pk = run(PwCalculation.process(), _return_pid=True, **inputs)\n",
    "calc = load_node(pk)\n",
    "print('PwCalculation<{}> terminated with state: {}'.format(calc.pk, calc.get_state()))\n",
    "print('\\n{link:25s} {node}'.format(link='Output link', node='Node pk and type'))\n",
    "print('{s}'.format(s='-'*60))\n",
    "for link, node in sorted(calc.get_outputs(also_labels=True)):\n",
    "    print('{:25s} <{}> {}'.format(link, node.pk, node.__class__.__name__))"
   ]
  },
  {
   "cell_type": "markdown",
   "metadata": {},
   "source": [
    "#### There are convenient methods to directly access the results"
   ]
  },
  {
   "cell_type": "code",
   "execution_count": null,
   "metadata": {},
   "outputs": [],
   "source": [
    "print \"Total energy = {} {}\".format(calc.res.energy, calc.res.energy_units)"
   ]
  },
  {
   "cell_type": "code",
   "execution_count": null,
   "metadata": {},
   "outputs": [],
   "source": []
  }
 ],
 "metadata": {
  "kernelspec": {
   "display_name": "Python 2",
   "language": "python",
   "name": "python2"
  },
  "language_info": {
   "codemirror_mode": {
    "name": "ipython",
    "version": 2
   },
   "file_extension": ".py",
   "mimetype": "text/x-python",
   "name": "python",
   "nbconvert_exporter": "python",
   "pygments_lexer": "ipython2",
   "version": "2.7.12"
  }
 },
 "nbformat": 4,
 "nbformat_minor": 2
}
